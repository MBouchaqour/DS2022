{
 "cells": [
  {
   "cell_type": "markdown",
   "metadata": {},
   "source": [
    "<div style=\"background: #000;\n",
    "            color: #FFF;\n",
    "            margin: 0px;\n",
    "                padding: 10px 0px 20px 0px;\n",
    "            text-align: center; \n",
    "                \">\n",
    "    <h1>Week 7 - Class 3 - Lab</h1>\n",
    "</div>\n"
   ]
  },
  {
   "cell_type": "markdown",
   "metadata": {},
   "source": [
    "# Question 1\n",
    "\n",
    "Where should you go to understand how the project is intended to be used? Copy and paste the content of that file below:"
   ]
  },
  {
   "cell_type": "markdown",
   "metadata": {},
   "source": [
    "# Exercise 1\n",
    "\n",
    "Fix the following code so that the two numbers are added together using the add_two_numbers.py file:"
   ]
  },
  {
   "cell_type": "code",
   "execution_count": 1,
   "metadata": {},
   "outputs": [
    {
     "name": "stdout",
     "output_type": "stream",
     "text": [
      "5.0 + 78.0 = 83.0\n"
     ]
    }
   ],
   "source": [
    "# from  scripts import add_two_numbers\n",
    "from  scripts.add_two_numbers import summing\n",
    "\n",
    "a = float(input(\"Enter a number: \", ))\n",
    "b = float(input(\"Enter another number: \", ))\n",
    "\n",
    "the_sum_of_two_numbers = summing(a,b)\n",
    "\n",
    "print(f'{a} + {b} = {the_sum_of_two_numbers}')\n",
    "\n",
    "\n"
   ]
  },
  {
   "cell_type": "markdown",
   "metadata": {},
   "source": [
    "# Exercise 2\n",
    "\n",
    "Fix the following code so that the two numbers are multiplied together using the multiply_two_numbers.py file:"
   ]
  },
  {
   "cell_type": "code",
   "execution_count": 9,
   "metadata": {},
   "outputs": [
    {
     "name": "stdout",
     "output_type": "stream",
     "text": [
      "90 * 90 = 8100\n"
     ]
    }
   ],
   "source": [
    "from  scripts.one_more_folder.multiply_two_numbers import multiplying\n",
    "a = int(input(\"Enter a number: \", ))\n",
    "b = int(input(\"Enter another number: \", ))\n",
    "\n",
    "the_multiplication_of_two_numbers = multiplying(a,b)\n",
    "\n",
    "print(f'{a} * {b} = {the_multiplication_of_two_numbers}')"
   ]
  },
  {
   "cell_type": "markdown",
   "metadata": {},
   "source": [
    "# Exercise 3\n",
    "\n",
    "Fix the following code so that it utilizes all four operation files:"
   ]
  },
  {
   "cell_type": "code",
   "execution_count": 11,
   "metadata": {},
   "outputs": [
    {
     "name": "stdout",
     "output_type": "stream",
     "text": [
      "This is a:  89\n",
      "This is b:  56\n",
      "Result of addition:  145\n",
      "Result of subtraction:  33\n",
      "Result of multiplication:  4984\n",
      "Result of division:  1.5892857142857142\n"
     ]
    }
   ],
   "source": [
    "from  scripts.add_two_numbers import summing\n",
    "from  scripts import subtract_two_numbers as s2n\n",
    "# import scripts.subtract_two_numbers\n",
    "from  scripts.one_more_folder.multiply_two_numbers import multiplying\n",
    "# import multiplying\n",
    "from divide_two_numbers import dividing\n",
    "\n",
    "class Math_Operations:\n",
    "  def __init__(self, a, b):\n",
    "    self.a = a\n",
    "    self.b = b\n",
    "\n",
    "  def add_something(self):\n",
    "      c = summing(self.a,self.b)\n",
    "      return c\n",
    "\n",
    "  def subtract_something(self):\n",
    "      d = s2n.subtracting(self.a,self.b)\n",
    "      return d\n",
    "\n",
    "  def multiply_something(self):\n",
    "      e = multiplying(self.a,self.b)\n",
    "      return e\n",
    "\n",
    "  def divide_something(self):\n",
    "      f = dividing(self.a,self.b)\n",
    "      return f\n",
    "\n",
    "a = int(input(\"Enter a number: \", ))\n",
    "b = int(input(\"Enter another number: \", ))\n",
    "\n",
    "operations = Math_Operations(a,b)\n",
    "\n",
    "print(\"This is a: \", a)\n",
    "print(\"This is b: \", b)\n",
    "print(\"Result of addition: \", operations.add_something())\n",
    "print(\"Result of subtraction: \", operations.subtract_something())\n",
    "print(\"Result of multiplication: \", operations.multiply_something())\n",
    "print(\"Result of division: \", operations.divide_something())\n",
    "\n"
   ]
  }
 ],
 "metadata": {
  "interpreter": {
   "hash": "4fe423c96aa21f041534bead582c2e6c3f42ab46597860deda9051867850283b"
  },
  "kernelspec": {
   "display_name": "Python 3.8.5 32-bit",
   "name": "python3"
  },
  "language_info": {
   "codemirror_mode": {
    "name": "ipython",
    "version": 3
   },
   "file_extension": ".py",
   "mimetype": "text/x-python",
   "name": "python",
   "nbconvert_exporter": "python",
   "pygments_lexer": "ipython3",
   "version": "3.8.5"
  },
  "orig_nbformat": 4
 },
 "nbformat": 4,
 "nbformat_minor": 2
}
