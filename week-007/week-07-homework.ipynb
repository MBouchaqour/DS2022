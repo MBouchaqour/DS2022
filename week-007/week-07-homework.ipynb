{
 "cells": [
  {
   "cell_type": "markdown",
   "metadata": {},
   "source": [
    "<div style=\"background: #000;\n",
    "            color: #FFF;\n",
    "            margin: 0px;\n",
    "                padding: 10px 0px 20px 0px;\n",
    "            text-align: center; \n",
    "                \">\n",
    "    <h1>Week 7 - Homework</h1>\n",
    "</div>"
   ]
  },
  {
   "cell_type": "markdown",
   "metadata": {},
   "source": [
    "# Exercise 1\n",
    "\n",
    "Submit below a screenshot of your PyPi account as well as a copy of your username:"
   ]
  },
  {
   "cell_type": "markdown",
   "metadata": {},
   "source": [
    "<img src='pypi.jpg'>"
   ]
  },
  {
   "cell_type": "markdown",
   "metadata": {},
   "source": [
    "# Exercise 2\n",
    "\n",
    "Please review the below link and provide a one paragraph (5 sentences) summary of the content (how do you install packages in Python? what is the purpose? etc)\n",
    "\n",
    "Python Packaging User Guide\n",
    "https://packaging.python.org/tutorials/installing-packages/\n"
   ]
  },
  {
   "cell_type": "markdown",
   "metadata": {},
   "source": [
    "# Exercise 2\n",
    "To summary this article based on my point of view, I would like to start by the following. You should first check your Python, pip, setuptools wheel version. After, everything looks good, go and create your vertual environment by using this command py-m venv tutorial_env in windows. There are many ways to accomplish this task. You can use venv, as we described perivousley, also you can activate the environment using <DIR>\\Scripts\\activate. You can use pip to instal and upgrade your project. If there are any requirements files, you should install them using the follwoing py -m pip install -r requirements.txt\n",
    "There is always many ways to insatll your packages, including but not limiting to installing from other sources, prereleases. \n"
   ]
  },
  {
   "cell_type": "markdown",
   "metadata": {},
   "source": [
    "# Exercise 3\n",
    "\n",
    "Please review the below link and provide a one paragraph (5 sentences) summary of the content (how should you structure a project? give an example etc.)\n",
    "\n",
    "Packaging Python Project\n",
    "https://packaging.python.org/tutorials/packaging-projects/ \n",
    "\n"
   ]
  },
  {
   "cell_type": "markdown",
   "metadata": {},
   "source": [
    "# Exercise 3\n",
    "To create a package, first stracture your folders that contains your modules. An example of that structure could be for example, to create a folder called src that will contain another folder called your_package_name, the last one will keep your files/modules or you feel free to create subfolders. Updating pip, build, and get ready to create your package. \n",
    "Try to add an empty file called __init__ in your folder \"the package name\"\n",
    "Make sure to add LICENSE file, pyproject.toml, README.md, and setup.cfg. The artcile describe already what each file should contain. \n",
    "At this stage, type in our terminal py -m build. Then, you will be able to see another director created called dist. You are lamost done here, but go now to your pypi account and get a token. Back to the terminal and type py -m twine upload -- repository testpi dist/* with the interface pops up add for user name __token__ and past your key for the password. \n",
    "Now, you should check if the package was added into your pypi account. "
   ]
  },
  {
   "cell_type": "markdown",
   "metadata": {},
   "source": [
    "# Exercise 4\n",
    "\n",
    "Please review the below link and provide a one paragraph (5 sentences) summary of the content (what is a style document? what are important things it highlights? etc)\n",
    "\n",
    "PPEP 8 - https://www.python.org/dev/peps/pep-0008/#introduction "
   ]
  },
  {
   "cell_type": "markdown",
   "metadata": {},
   "source": [
    "# Exercise 4\n",
    "According to the artcile PPEP 8 - https://www.python.org/dev/peps/pep-0008/#introduction there is a very nice way and structure that everyone should follow to produce a great package. PPEP 8 - https://www.python.org/dev/peps/pep-0008/#introduction . The artcile gives coding convention for the Python code comprising the standard library in the main python distribution. The artcile also suggests many nice style of how to write your code. "
   ]
  },
  {
   "cell_type": "code",
   "execution_count": null,
   "metadata": {},
   "outputs": [],
   "source": []
  }
 ],
 "metadata": {
  "kernelspec": {
   "display_name": "Python 3",
   "language": "python",
   "name": "python3"
  },
  "language_info": {
   "codemirror_mode": {
    "name": "ipython",
    "version": 3
   },
   "file_extension": ".py",
   "mimetype": "text/x-python",
   "name": "python",
   "nbconvert_exporter": "python",
   "pygments_lexer": "ipython3",
   "version": "3.8.8"
  }
 },
 "nbformat": 4,
 "nbformat_minor": 4
}
