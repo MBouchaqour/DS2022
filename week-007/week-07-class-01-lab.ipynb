{
 "cells": [
  {
   "cell_type": "markdown",
   "metadata": {},
   "source": [
    "<div style=\"background: #000;\n",
    "            color: #FFF;\n",
    "            margin: 0px;\n",
    "                padding: 10px 0px 20px 0px;\n",
    "            text-align: center; \n",
    "                \">\n",
    "    <h1>Week 7 - Lab 1</h1>\n",
    "</div>"
   ]
  },
  {
   "cell_type": "markdown",
   "metadata": {},
   "source": [
    "# Question 1\n",
    "\n",
    "What is an Integrated Development Environment (IDE)? What are they used for/why are they useful?"
   ]
  },
  {
   "cell_type": "markdown",
   "metadata": {},
   "source": [
    "# Answer 1\n",
    "IDE bascially enables us to consolidate the different aspects of writing a computer program.\n",
    "\n",
    "IDEs will help increase programmer productivity by combining common activities of writing software into a single application that has \n",
    "1- editing source code, \n",
    "2- building executables\n",
    "3- debugging."
   ]
  },
  {
   "cell_type": "markdown",
   "metadata": {},
   "source": [
    "# Exercise 1\n",
    "\n",
    "If you have not done so already, download and install Visual Studio Code for whatever operating system you have.\n",
    "\n",
    "Create a notebook (file extention .ipynb) and title it hello_world.ipynb. In the notbook, create one line of code that says: print(\"Hello World! I am running this from VS Code!\").\n",
    "\n",
    "Run the code, SAVE THE FILE, and screenshot your entire screen - proving you have downloaded VS Code and have followed the steps above.\n",
    "\n",
    "Insert that screenshot below:"
   ]
  },
  {
   "cell_type": "markdown",
   "metadata": {},
   "source": [
    "<img src='vsCode1.jpg'>"
   ]
  },
  {
   "cell_type": "markdown",
   "metadata": {},
   "source": [
    "# Exercise 2\n",
    "\n",
    "Now that you have VS Code, it's time to connect it to a Git Repository. Navigate to your Github account and create a Git Repository. Call it \"VS_Code_Exercise\". When creating the repo, select the check box that says \"Intialize with a Readme\".\n",
    "\n",
    "Once the repo has been created, click the green button that says \"Code\" and copy the link that pops up. \n",
    "\n",
    "Open up a fresh instance of VS Code on your desktop and select \"Clone Git Repository\". Paste the link you copied in the box that pops up and hit enter.\n",
    "\n",
    "Once the Git Repo has been successfully cloned, open it, and copy in your file from exercise 1.\n",
    "\n",
    "Edit the Readme file that will populate and paste in these instructions into the Readme file. Save it.\n",
    "\n",
    "For you to figure out: stage, add a commit message, commit, and push the changes to your Github Repo.\n",
    "Hint: there should be a \"1\" or \"2\" that has popped up on the left side of your screen on one of the vertical tabs! This indicates that your local repo is different than the original Github repo you created. Clicking on it should set you up to complete the required steps (also Google is your friend).\n",
    "\n",
    "After completing the above steps, navigate to your Github repo online (which now should have your hello_world.ipynb), and take a screenshot proving you have completed the above steps and include the screenshot below:\n",
    "\n"
   ]
  },
  {
   "cell_type": "markdown",
   "metadata": {},
   "source": [
    "<img src='vsCode0.jpg'>"
   ]
  },
  {
   "cell_type": "markdown",
   "metadata": {},
   "source": [
    "<img src='vsCode2.jpg'>"
   ]
  },
  {
   "cell_type": "markdown",
   "metadata": {},
   "source": [
    "<img src='vsCode3.jpg'>"
   ]
  },
  {
   "cell_type": "code",
   "execution_count": null,
   "metadata": {},
   "outputs": [],
   "source": []
  }
 ],
 "metadata": {
  "kernelspec": {
   "display_name": "Python 3",
   "language": "python",
   "name": "python3"
  },
  "language_info": {
   "codemirror_mode": {
    "name": "ipython",
    "version": 3
   },
   "file_extension": ".py",
   "mimetype": "text/x-python",
   "name": "python",
   "nbconvert_exporter": "python",
   "pygments_lexer": "ipython3",
   "version": "3.8.8"
  }
 },
 "nbformat": 4,
 "nbformat_minor": 4
}
