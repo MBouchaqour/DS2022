{
 "cells": [
  {
   "cell_type": "markdown",
   "metadata": {},
   "source": [
    "<div style=\"background: #000;\n",
    "            color: #FFF;\n",
    "            margin: 0px;\n",
    "                padding: 10px 0px 20px 0px;\n",
    "            text-align: center; \n",
    "                \">\n",
    "    <h1>Week 7 - Lab 2</h1>\n",
    "</div>"
   ]
  },
  {
   "cell_type": "markdown",
   "metadata": {},
   "source": [
    "# Question 1\n",
    "\n",
    "Please provide one paragraph (3-5 sentences) explaining what your package project idea is. What problem does it aim to solve? Anything that motivated you to come up with the idea?"
   ]
  },
  {
   "cell_type": "markdown",
   "metadata": {},
   "source": [
    "# Answer 1\n",
    "The Quadratic_Project is dedicated to students who wants to see math formulas apply to Computer Science application. This package will help you: 1- Graph a quadratic function such as f(x)= ax^2+bx+c 2- Find an image of a given x by the function f 3- Find an image of a given x by the first derivative of f 4- Solve the equation f(x)=0"
   ]
  },
  {
   "cell_type": "markdown",
   "metadata": {},
   "source": [
    "# Question 2\n",
    "\n",
    "Please provide one paragraph (3-5 sentences) describing the status of your package project. Are you stuck anywhere? Have you been able to solidify an idea? Any technical hiccups?"
   ]
  },
  {
   "cell_type": "markdown",
   "metadata": {},
   "source": [
    "# Answer 2\n",
    "I was able to figure it out after several attempts. It was a great learning experince, especially when you see your package gets to work. \n",
    "I was able to follow bascially all the istructions given at https://packaging.python.org/tutorials/packaging-projects/. \n",
    "The only challenges I met was to find another way to update an existing packages without going to delete it. I am still looking for the way to updating my version. "
   ]
  },
  {
   "cell_type": "markdown",
   "metadata": {},
   "source": [
    "# Question 3\n",
    "\n",
    "Please provide pseudocode for your package project? Pseudocode is a plain language description of the steps in an algorithm. Essentially, map out how you think your project should look/work in plain english (you don't have to code anything). "
   ]
  },
  {
   "cell_type": "markdown",
   "metadata": {},
   "source": [
    "# Answer 3\n",
    "Quadratic Project was created to help students deal with quadratic functions similar to f(x)=ax^2+bx+c such that a,b, and c are integers number. \n",
    "* Before you even start, you should install the package using:\n",
    "pip install -i https://test.pypi.org/simple/ quadraticPack==0.0.3\n",
    "* Second step is to import needed libraries. As you may know that your first step is to create the function. so, you will need to use e.g. from quadratic_function import create_function as cr\n",
    "* Set a variavle called f(your function) such as f=cr.getpolynomial(int,int,int). Need to know that getpolynomial is a function included into the file create_function.\n",
    "* Let's sya now you want to find an image of a given point by your function. need to import pointImage file and use the get_image function. An example of that will as the following:\n",
    "from quadratic_function import pointImage as image\n",
    "image.get_image(f,12)\n",
    "* Now, let's say you want to solve the equation f(x)=0. Again, you need to import the file findroots and the function included into the file called selve_eq. Your work should look like this: \n",
    "from quadratic_function import findroots as roots\n",
    "roots.solve_eq(12,12,1)\n",
    "* At this stage, and aftyer you are being familiare enough with the application, you want to check first derivative. Again, you need to import the file firstDerevative and the function included into it wihich is get_derivative. Your output should look like this:\n",
    "from quadratic_function import firstDerevative as df\n",
    "df.get_derivative(12,12,1,90)\n",
    "90 here is the point you want to get its image by the first derivative of f. \n",
    "* Finally, let's say that you want to graph your function. \n",
    "So, you need to do the following:\n",
    "import needed libraries and needed function. \n",
    "Here is a sample output:\n",
    "from quadratic_function import graph as g\n",
    "g.graph_function(12,12,1)"
   ]
  }
 ],
 "metadata": {
  "kernelspec": {
   "display_name": "Python 3",
   "language": "python",
   "name": "python3"
  },
  "language_info": {
   "codemirror_mode": {
    "name": "ipython",
    "version": 3
   },
   "file_extension": ".py",
   "mimetype": "text/x-python",
   "name": "python",
   "nbconvert_exporter": "python",
   "pygments_lexer": "ipython3",
   "version": "3.8.8"
  }
 },
 "nbformat": 4,
 "nbformat_minor": 4
}
