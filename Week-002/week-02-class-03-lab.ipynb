{
 "cells": [
  {
   "cell_type": "markdown",
   "metadata": {},
   "source": [
    "<div style=\"background: #000;\n",
    "            color: #FFF;\n",
    "            margin: 0px;\n",
    "                padding: 10px 0px 20px 0px;\n",
    "            text-align: center; \n",
    "                \">\n",
    "    <h1>Week 2 Class 3 Lab</h1>\n",
    "</div>"
   ]
  },
  {
   "cell_type": "markdown",
   "metadata": {},
   "source": [
    "# Question 1\n",
    "\n",
    "When might you use a dictionary? Why? Explain in your own words\n",
    "\n",
    "# Answer 1\n",
    "\n",
    "We use dictionnary when we deal with data that has special key or unique reference, then we use this key to indicate other values. Exameple of that, assume we are dealing with student data, so we may use student id as a unique key or preference, and link that key with other values such as student's name, major or major code, gpa..."
   ]
  },
  {
   "cell_type": "markdown",
   "metadata": {},
   "source": [
    "# Question 2\n",
    "\n",
    "When might you use a set? Why? Explain in your own words.\n",
    "\n",
    "# Answer 2\n",
    "\n",
    "We use set when we want to deal with data/values and do not want them to be repeated. We also use it to perform math operations like unions and intersections. "
   ]
  },
  {
   "cell_type": "markdown",
   "metadata": {},
   "source": [
    "# Exercise 1 \n",
    "\n",
    "Create a dictionary and populate it with keys from 0 to 9 and a default value of \"None\". Then set the values of all keys divisible by 2 to be the value times itself. "
   ]
  },
  {
   "cell_type": "code",
   "execution_count": 1,
   "metadata": {},
   "outputs": [
    {
     "name": "stdout",
     "output_type": "stream",
     "text": [
      "{0: None, 1: None, 2: None, 3: None, 4: None, 5: None, 6: None, 7: None, 8: None, 9: None}\n"
     ]
    }
   ],
   "source": [
    "# creating a dictionary with keys 0-9 and values \"None\"\n",
    "#declatation a dictionary\n",
    "my_dict=dict()\n",
    "\n",
    "#creating keys 0-9 and assigning \"None\" to all keys\n",
    "for i in range(0,10):\n",
    "    my_dict[i]=None\n",
    "# printing out ditionary\n",
    "print(my_dict)\n",
    "    "
   ]
  },
  {
   "cell_type": "code",
   "execution_count": 2,
   "metadata": {},
   "outputs": [
    {
     "name": "stdout",
     "output_type": "stream",
     "text": [
      "{0: 0, 1: None, 2: 4, 3: None, 4: 16, 5: None, 6: 36, 7: None, 8: 64, 9: None}\n"
     ]
    }
   ],
   "source": [
    "# setting all values of all keys divisible by 2 to be the be the value times itself.\n",
    "for key in my_dict:\n",
    "    if key%2==0:\n",
    "        my_dict[key]=key*key\n",
    "print(my_dict)\n",
    "        \n",
    "        "
   ]
  },
  {
   "cell_type": "markdown",
   "metadata": {},
   "source": [
    "# Exercise 2\n",
    "\n",
    "Given a list of words and utilizing set methods print the words that can be typed using letters of alphabet on only one row's of the (American) keyboard. You may use one character in the keyboard more than once. \n",
    "\n",
    " "
   ]
  },
  {
   "cell_type": "code",
   "execution_count": 4,
   "metadata": {},
   "outputs": [
    {
     "name": "stdout",
     "output_type": "stream",
     "text": [
      "the word type is in first_line\n",
      "the word router is in first_line\n",
      "the word dash is in second_line\n",
      "the word top is in first_line\n",
      "the word rower is in first_line\n"
     ]
    }
   ],
   "source": [
    "words = ['type', 'router', 'pine', 'dash', 'top', 'rower', 'freedom']\n",
    "\n",
    "#creating a set of characters\n",
    "first_line=set(\"qwertyuiop\")\n",
    "second_line=set(\"asdfghjkl\")\n",
    "third_line=set(\"zxcvbnm\")\n",
    "\n",
    "for element in words:\n",
    "    z1 = (first_line.intersection(set(element)))==set(element)\n",
    "    z2 = (second_line.intersection(set(element)))==set(element)\n",
    "    z3 = (third_line.intersection(set(element)))==set(element)\n",
    "    if z1:\n",
    "        print(\"the word {} is in {}\".format(element,\"first_line\"))\n",
    "        continue\n",
    "    elif z2:\n",
    "        print(\"the word {} is in {}\".format(element,\"second_line\"))\n",
    "        continue\n",
    "    elif z3:\n",
    "        print(\"the word {} is in {}\".format(element,\"third_line\"))\n",
    "        continue\n",
    "    else:\n",
    "#         print(\"the word {} is in {}\".format(element,\"no specific line\"))\n",
    "        continue"
   ]
  },
  {
   "cell_type": "markdown",
   "metadata": {},
   "source": [
    "# Exercise 3\n",
    "\n",
    "Given a list of students, find the students who favorite colors are the same utitlizng set methods. Print the name of the students who share similar tastes in colors. "
   ]
  },
  {
   "cell_type": "code",
   "execution_count": 5,
   "metadata": {},
   "outputs": [],
   "source": [
    "#Given Data\n",
    "students = [{\n",
    "    \"name\":\"Rob\",\n",
    "    \"student_id\": 115, \n",
    "    \"favorite_colors\":{\"red\",\"green\"}\n",
    "        },\n",
    "            {\n",
    "    \"name\":\"Clara\",\n",
    "    \"student_id\": 15, \n",
    "    \"favorite_colors\":{\"blue\",\"red\",\"green\"}\n",
    "            }, \n",
    "    {\n",
    "        \"name\":\"Sally\",\n",
    "        \"student_id\": 21, \n",
    "        \"favorite_colors\":{\"black\"}\n",
    "    }, \n",
    "            {\n",
    "                \"name\":\"Jim\",\n",
    "                \"student_id\": 33, \n",
    "                \"favorite_colors\":{\"blue\",\"green\"}\n",
    "            }\n",
    "           ]"
   ]
  },
  {
   "cell_type": "code",
   "execution_count": 6,
   "metadata": {},
   "outputs": [],
   "source": [
    "# creating function for checking similarity\n",
    "def color_similarity(target,data_source):\n",
    "    for item in data_source:\n",
    "        if item[0] !=target[0]:\n",
    "            check=item[1].intersection(target[1])\n",
    "            if check in [item[0],target[1]]:\n",
    "                print(\"There is a similarity between student {} and {} in colors {}\".format(target[0],item[0],check))\n",
    "               "
   ]
  },
  {
   "cell_type": "code",
   "execution_count": 7,
   "metadata": {},
   "outputs": [],
   "source": [
    "# Getting name of all students we have in data with thier prefer colors:\n",
    "list_student=[]\n",
    "get_set=set()\n",
    "for student in students:\n",
    "     list_student.append((student['name'],student['favorite_colors']))\n",
    "# list_student"
   ]
  },
  {
   "cell_type": "code",
   "execution_count": 8,
   "metadata": {},
   "outputs": [
    {
     "name": "stdout",
     "output_type": "stream",
     "text": [
      "There is a similarity between student Rob and Clara in colors {'green', 'red'}\n",
      "There is a similarity between student Jim and Clara in colors {'green', 'blue'}\n"
     ]
    }
   ],
   "source": [
    "#checking for similarities\n",
    "for item in list_student:\n",
    "    color_similarity(item,list_student)"
   ]
  }
 ],
 "metadata": {
  "kernelspec": {
   "display_name": "Python 3",
   "language": "python",
   "name": "python3"
  },
  "language_info": {
   "codemirror_mode": {
    "name": "ipython",
    "version": 3
   },
   "file_extension": ".py",
   "mimetype": "text/x-python",
   "name": "python",
   "nbconvert_exporter": "python",
   "pygments_lexer": "ipython3",
   "version": "3.8.8"
  }
 },
 "nbformat": 4,
 "nbformat_minor": 4
}
