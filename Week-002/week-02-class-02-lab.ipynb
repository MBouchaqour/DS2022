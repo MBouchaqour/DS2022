{
 "cells": [
  {
   "cell_type": "markdown",
   "metadata": {},
   "source": [
    "<div style=\"background: #000;\n",
    "            color: #FFF;\n",
    "            margin: 0px;\n",
    "                padding: 10px 0px 20px 0px;\n",
    "            text-align: center; \n",
    "                \">\n",
    "    <h1>Week 2 Class 2 Lab</h1>\n",
    "</div>"
   ]
  },
  {
   "cell_type": "markdown",
   "metadata": {},
   "source": [
    "# Question 1\n",
    "\n",
    "In your own words, explain the difference between lists and tuples. Explain a situation where it may be useful to use tuples instead of lists.\n",
    "\n",
    "# Answer:\n",
    "\n",
    "Tuple is immutable, while, list is mutable. The situation were I would prefer to use tuple is when I do not the values to be change by any other user, for example, points coordinate or If I use social security as an key in data. "
   ]
  },
  {
   "cell_type": "markdown",
   "metadata": {},
   "source": [
    "# Exercise 1\n",
    "\n",
    "Create a tuple with four values (ints or strings) or  in it. Unpack the tuple into four variables. Create a list with those four values. Turn the list into a string. Add that to the end of a separate string (create whatever you'd like). Now make a tuple  from  that string and output one element from it.\n",
    "\n",
    "Follow each step as described. Show all your work in python statements. "
   ]
  },
  {
   "cell_type": "code",
   "execution_count": 24,
   "metadata": {},
   "outputs": [
    {
     "name": "stdout",
     "output_type": "stream",
     "text": [
      "here is the tuple with 4 variables:  (10, 'Hello', 'music', 100)\n",
      "here is the unpacking variables var1 = 10, var2 = Hello , var3 = music , var4 = 100 \n",
      "here is the list from the 4 variables:  [10, 'Hello', 'music', 100]\n",
      "Here is the list into string  10Hellomusic100\n",
      "Adding that string to my string:  Good morning 10Hellomusic100\n",
      "here is my tuple:  ('G', 'o', 'o', 'd', ' ', 'm', 'o', 'r', 'n', 'i', 'n', 'g', ' ', '1', '0', 'H', 'e', 'l', 'l', 'o', 'm', 'u', 's', 'i', 'c', '1', '0', '0')\n",
      "l\n"
     ]
    }
   ],
   "source": [
    "# creating a tuple\n",
    "tuple_1=(10,\"Hello\",\"music\",100)\n",
    "print(\"here is the tuple with 4 variables: \", tuple_1)\n",
    "# unpacking it into 4 variables\n",
    "var1,var2,var3,var4=tuple_1\n",
    "print(\"here is the unpacking variables var1 = {}, var2 = {} , var3 = {} , var4 = {} \".format(var1,var2,var3,var4))\n",
    "#creating a list with those variables\n",
    "list_1=[var1,var2,var3,var4]\n",
    "print(\"here is the list from the 4 variables: \", list_1)\n",
    "# converting the list into strings\n",
    "list_into_string=\"\"\n",
    "for item in list_1:\n",
    "    list_into_string += str(item)\n",
    "print(\"Here is the list into string \", list_into_string)\n",
    "\n",
    "#creating my string and adding up previous string\n",
    "my_string=\"Good morning\"\n",
    "my_string=my_string +\" \"+list_into_string\n",
    "print(\"Adding that string to my string: \", my_string)\n",
    "\n",
    "#making up a tuple\n",
    "tuple_2=tuple(my_string)\n",
    "print(\"here is my tuple: \", tuple_2)\n",
    "\n",
    "#printing out one element from the tuple\n",
    "import random # I would like to print a random element from the tuple\n",
    "index_element=random.randint(0,len(tuple_2))\n",
    "print(tuple_2[index_element])"
   ]
  },
  {
   "cell_type": "markdown",
   "metadata": {},
   "source": [
    "# Exercise 2\n",
    "\n",
    "Given the following list. Use list indexing and operations to normalize the data so all values are floats.\n",
    "\n",
    "Convert alphabetical characters to their ordinal value."
   ]
  },
  {
   "cell_type": "code",
   "execution_count": 48,
   "metadata": {},
   "outputs": [
    {
     "data": {
      "text/plain": [
       "[23.0, 95.0, 4.0, 718.0, 9.0, 35.0, 97, 40.0]"
      ]
     },
     "execution_count": 48,
     "metadata": {},
     "output_type": "execute_result"
    }
   ],
   "source": [
    "a = ['23', 95, '4', 0x2ce, 9, '35', 'a', 40.0]\n",
    "for i in range(0,len(a)):\n",
    "    if isinstance(a[i],int):\n",
    "        a[i]=float(a[i])\n",
    "    elif isinstance(a[i],str):\n",
    "        if a[i].isdigit():\n",
    "            a[i]=float(a[i])\n",
    "        else:\n",
    "            sum_element=0\n",
    "            for element in a[i]:\n",
    "                sum_element+=ord(element)\n",
    "            a[i]=sum_element\n",
    "            \n",
    "a\n"
   ]
  },
  {
   "cell_type": "markdown",
   "metadata": {},
   "source": [
    "# Exercise 3\n",
    "\n",
    "We would like to use a list as a queue. A queue in computer science is a structure that operates using FIFO (first in first out). As entries come in, they're added/inserted to the back of the queue. When the code processing the entries is ready for a new entry, it pulls/removes from the front of the queue. Similar to how lines at a supermarket work.\n",
    "\n",
    "Create an empty list to represent our queue. What list operation would allow us to add new entries at the back of the queue. What list operation would remove the first entry on the list? Write python code that creates an empty 'queue', add entries to the queue, and pulls from the front of the queue. \n",
    "\n",
    "Show these steps in a series of python statements. (No need to create a function or do anything we haven't covered in depth.)"
   ]
  },
  {
   "cell_type": "code",
   "execution_count": 55,
   "metadata": {},
   "outputs": [
    {
     "name": "stdout",
     "output_type": "stream",
     "text": [
      "['Hello', 'student']\n",
      "['student']\n"
     ]
    }
   ],
   "source": [
    "queue_list=[]\n",
    "#Adding new entries at the back of the queue. \n",
    "#Adding first element\n",
    "queue_list.append(\"Hello\")\n",
    "#adding second element at the back of our list\n",
    "queue_list.append(\"student\")\n",
    "# print the list\n",
    "print(queue_list)\n",
    "\n",
    "#removing the first entries in the list\n",
    "queue_list.pop(0)\n",
    "print(queue_list)\n"
   ]
  },
  {
   "cell_type": "code",
   "execution_count": null,
   "metadata": {},
   "outputs": [],
   "source": []
  }
 ],
 "metadata": {
  "kernelspec": {
   "display_name": "Python 3",
   "language": "python",
   "name": "python3"
  },
  "language_info": {
   "codemirror_mode": {
    "name": "ipython",
    "version": 3
   },
   "file_extension": ".py",
   "mimetype": "text/x-python",
   "name": "python",
   "nbconvert_exporter": "python",
   "pygments_lexer": "ipython3",
   "version": "3.8.8"
  }
 },
 "nbformat": 4,
 "nbformat_minor": 4
}
