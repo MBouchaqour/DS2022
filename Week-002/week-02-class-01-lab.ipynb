{
 "cells": [
  {
   "cell_type": "markdown",
   "metadata": {},
   "source": [
    "<div style=\"background: #000;\n",
    "            color: #FFF;\n",
    "            margin: 0px;\n",
    "                padding: 10px 0px 20px 0px;\n",
    "            text-align: center; \n",
    "                \">\n",
    "    <h1>Week 02 Class 01 Lab</h1>\n",
    "</div>"
   ]
  },
  {
   "cell_type": "markdown",
   "metadata": {},
   "source": [
    "###### Question 1\n",
    "\n",
    "In your own words, explain what data structures are. Then name one python data type and explain what sort of problem might require it. \n",
    "\n",
    "###### Answer\n",
    "\n",
    "Data structure is the way that we deal with data. The way how oranize, manage and store data. I can safly add also the way we access and midify the values of data type. \n",
    "Ex: Dictionnary is a data type in Python. Dictionary contains keys and values. Dictionary not indexed and you can't access it the way we usually do with list. To access the dictionary you need to get the name of the dictionary and the key to read the values of that key. "
   ]
  },
  {
   "cell_type": "markdown",
   "metadata": {},
   "source": [
    "# Exercise 1\n",
    "\n",
    "Using the list below, answer the following questions."
   ]
  },
  {
   "cell_type": "code",
   "execution_count": 16,
   "metadata": {},
   "outputs": [],
   "source": [
    "l = [\n",
    "    [[1,2,3], [4,5,6],[7,8,9]],[[10,11,12], [13,14,15],[16,17,18]],[[19,20,21], [22,23,24],[25,26,27]]\n",
    "]"
   ]
  },
  {
   "cell_type": "markdown",
   "metadata": {},
   "source": [
    "a. What index gives you the number 15? "
   ]
  },
  {
   "cell_type": "code",
   "execution_count": 3,
   "metadata": {},
   "outputs": [
    {
     "data": {
      "text/plain": [
       "15"
      ]
     },
     "execution_count": 3,
     "metadata": {},
     "output_type": "execute_result"
    }
   ],
   "source": [
    "l[1][1][2]"
   ]
  },
  {
   "cell_type": "markdown",
   "metadata": {},
   "source": [
    " b. Use `del` to delete all numbers divisible by 2, 3, 4 and 5. Print the list.  "
   ]
  },
  {
   "cell_type": "code",
   "execution_count": 57,
   "metadata": {},
   "outputs": [],
   "source": [
    "# defining a function where recursion takes places\n",
    "\n",
    "def delete_Fucntion(the_list):\n",
    "    for item in the_list:\n",
    "        if isinstance(item,int):\n",
    "            t=len(the_list)\n",
    "            i=0\n",
    "            while i<t:\n",
    "                if ((the_list[i]%2==0)|(the_list[i]%3==0)|(the_list[i]%4==0)|(the_list[i]%5==0)):\n",
    "                    del the_list[i]\n",
    "                    t=len(the_list)\n",
    "                    i=0\n",
    "                else:\n",
    "                     i +=1\n",
    "                \n",
    "        elif isinstance(item,list):\n",
    "            delete_Fucntion(item)\n",
    "            \n",
    "        "
   ]
  },
  {
   "cell_type": "code",
   "execution_count": 62,
   "metadata": {},
   "outputs": [
    {
     "data": {
      "text/plain": [
       "[[[1], [], [7]], [[11], [13], [17]], [[19], [23], []]]"
      ]
     },
     "execution_count": 62,
     "metadata": {},
     "output_type": "execute_result"
    }
   ],
   "source": [
    "#calling the same list\n",
    "l = [\n",
    "    [[1,2,3], [4,5,6],[7,8,9]],[[10,11,12], [13,14,15],[16,17,18]],[[19,20,21], [22,23,24],[25,26,27]]\n",
    "]\n",
    "#calling the recursion function\n",
    "delete_Fucntion(l)\n",
    "#printing out the result\n",
    "l"
   ]
  },
  {
   "cell_type": "markdown",
   "metadata": {},
   "source": [
    "c. Create a new 1 x 7 list with the numbers remaining from `l`."
   ]
  },
  {
   "cell_type": "code",
   "execution_count": 87,
   "metadata": {},
   "outputs": [],
   "source": [
    "#Getting the remaining numbers from L\n",
    "def remainig_Fucntion(the_list,new_list=[]):\n",
    "    for item in the_list:\n",
    "        if isinstance(item,int):\n",
    "            new_list.append(item)\n",
    "        elif isinstance(item,list):\n",
    "            remainig_Fucntion(item)\n",
    "    return list(set(new_list))\n",
    "            "
   ]
  },
  {
   "cell_type": "code",
   "execution_count": 94,
   "metadata": {},
   "outputs": [
    {
     "data": {
      "text/plain": [
       "[1, 7, 11, 13, 17, 19, 23]"
      ]
     },
     "execution_count": 94,
     "metadata": {},
     "output_type": "execute_result"
    }
   ],
   "source": [
    "#Creating a list where we can hold remaining numbers\n",
    "get_remaining_numbers=[]  # declaring an empty list\n",
    "get_remaining_numbers=remainig_Fucntion(l)  # calling the function remaining_Function\n",
    "get_remaining_numbers"
   ]
  },
  {
   "cell_type": "code",
   "execution_count": 95,
   "metadata": {},
   "outputs": [
    {
     "data": {
      "text/plain": [
       "array([[ 1,  7, 11, 13, 17, 19, 23]])"
      ]
     },
     "execution_count": 95,
     "metadata": {},
     "output_type": "execute_result"
    }
   ],
   "source": [
    "import numpy as np  #Import needed libraries\n",
    "x=np.array(get_remaining_numbers).reshape(1,7)  # reshaping the array with 1*7\n",
    "x  # printing out the esult"
   ]
  },
  {
   "cell_type": "markdown",
   "metadata": {},
   "source": [
    "# Exercise 2\n",
    "\n",
    "Using only the following string, use string methods/slices/indexing to produce the following quote from the late Justice Ruth Bader Ginsberg:\n",
    "\n",
    "\"Real change, enduring change, happens one step at a time.\"\n",
    "\n",
    "hint: try splitting the string up."
   ]
  },
  {
   "cell_type": "code",
   "execution_count": 96,
   "metadata": {},
   "outputs": [],
   "source": [
    "string = 'stepataenduringrealdemocracyblmchange,progresschangefreedomonetimehappens,equalityjustice'"
   ]
  },
  {
   "cell_type": "code",
   "execution_count": 109,
   "metadata": {},
   "outputs": [
    {
     "data": {
      "text/plain": [
       "['stepataenduringrealdemocracyblmchange',\n",
       " 'progresschangefreedomonetimehappens',\n",
       " 'equalityjustice']"
      ]
     },
     "execution_count": 109,
     "metadata": {},
     "output_type": "execute_result"
    }
   ],
   "source": [
    "string1=string.split(\",\")\n",
    "string1"
   ]
  },
  {
   "cell_type": "code",
   "execution_count": 110,
   "metadata": {},
   "outputs": [
    {
     "data": {
      "text/plain": [
       "'Real change,enduring change, happens one step at a time.'"
      ]
     },
     "execution_count": 110,
     "metadata": {},
     "output_type": "execute_result"
    }
   ],
   "source": [
    "string1[0][15:19].title()+\" \"+string1[1][8:14]+\",\"+string1[0][7:15]+\" \" +string1[1][8:14]+\", \"+string1[1][-7:]+\" \"+string1[1][-14:-11]+\" \"+ string1[0][:4]+ \" \"+string1[0][4:6]+\" \"+string1[0][4]+\" \"+string1[1][-11:-7]+\".\""
   ]
  },
  {
   "cell_type": "markdown",
   "metadata": {},
   "source": [
    "# Exercise 3\n",
    "\n",
    "Given the following matrix, find the determinant:\n",
    "$$\n",
    "\\begin{equation*}\n",
    "A = \n",
    "\\begin{vmatrix}\n",
    "1 & 2 & 3 \\\\\n",
    "4 & 5 & 6 \\\\\n",
    "7 & 8 & 9\n",
    "\\end{vmatrix}\n",
    "\\end{equation*}\n",
    "$$\n",
    "The determinant of a matrix is calculated as follows:\n",
    "$$\n",
    "\\begin{equation*}\n",
    "A = \n",
    "\\begin{vmatrix}\n",
    "a & b & c \\\\\n",
    "d & e & f \\\\\n",
    "g & h & i\n",
    "\\end{vmatrix}\n",
    "= a \n",
    "\\begin{vmatrix}\n",
    "e & f \\\\\n",
    "h & i \\\\\n",
    "\\end{vmatrix}\n",
    "- b\n",
    "\\begin{vmatrix}\n",
    "d & f \\\\\n",
    "g & i \\\\\n",
    "\\end{vmatrix}\n",
    "+ c\n",
    "\\begin{vmatrix}\n",
    "d & e \\\\\n",
    "g & h \\\\\n",
    "\\end{vmatrix}\n",
    "\\end{equation*}\n",
    "$$\n",
    "\n",
    "$$ \n",
    "= aei + bfg + cdh - ceg - bdi -afh\n",
    "$$\n",
    "\n",
    "Create a 3 x 3 matrix using a list. Then use list indexing to access the elements to perform your calculation. Do not use numbers not stored in your matrix to perform your calcuation"
   ]
  },
  {
   "cell_type": "code",
   "execution_count": 118,
   "metadata": {},
   "outputs": [
    {
     "data": {
      "text/plain": [
       "array([[1, 2, 3],\n",
       "       [4, 5, 6],\n",
       "       [7, 8, 9]])"
      ]
     },
     "execution_count": 118,
     "metadata": {},
     "output_type": "execute_result"
    }
   ],
   "source": [
    "x=[\n",
    "    [1,2,3],\n",
    "    [4,5,6],\n",
    "    [7,8,9]\n",
    "]\n",
    "A = np.array(x)\n",
    "A"
   ]
  },
  {
   "cell_type": "code",
   "execution_count": 119,
   "metadata": {},
   "outputs": [
    {
     "data": {
      "text/plain": [
       "(3, 3)"
      ]
     },
     "execution_count": 119,
     "metadata": {},
     "output_type": "execute_result"
    }
   ],
   "source": [
    "A.shape"
   ]
  },
  {
   "cell_type": "code",
   "execution_count": 120,
   "metadata": {},
   "outputs": [
    {
     "data": {
      "text/plain": [
       "0"
      ]
     },
     "execution_count": 120,
     "metadata": {},
     "output_type": "execute_result"
    }
   ],
   "source": [
    "#Determining the determinant\n",
    "sum1=A[0][0]*(A[1][1]*A[2][2]-A[2][1]*A[1][2])\n",
    "sum2=A[0][1]*(A[1][0]*A[2][2]-A[2][0]*A[1][2])\n",
    "sum3=A[0][2]*(A[1][0]*A[2][1]-A[2][0]*A[1][1])\n",
    "\n",
    "deter=sum1-sum2+sum3\n",
    "deter\n"
   ]
  },
  {
   "cell_type": "code",
   "execution_count": null,
   "metadata": {},
   "outputs": [],
   "source": [
    "# If we find the determinant =0 --> the matrix has not invers "
   ]
  },
  {
   "cell_type": "markdown",
   "metadata": {},
   "source": [
    "# Bonus \n"
   ]
  },
  {
   "cell_type": "code",
   "execution_count": null,
   "metadata": {},
   "outputs": [],
   "source": []
  }
 ],
 "metadata": {
  "kernelspec": {
   "display_name": "Python 3",
   "language": "python",
   "name": "python3"
  },
  "language_info": {
   "codemirror_mode": {
    "name": "ipython",
    "version": 3
   },
   "file_extension": ".py",
   "mimetype": "text/x-python",
   "name": "python",
   "nbconvert_exporter": "python",
   "pygments_lexer": "ipython3",
   "version": "3.8.8"
  }
 },
 "nbformat": 4,
 "nbformat_minor": 4
}
