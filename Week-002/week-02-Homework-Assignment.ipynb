{
 "cells": [
  {
   "cell_type": "markdown",
   "metadata": {},
   "source": [
    "# Week 2 HW\n",
    "\n",
    "Exercise 1 is due Monday.  \n",
    "Exercise 2 is due Tuesday.  \n",
    "Exercise 3 is due Wednesday.  "
   ]
  },
  {
   "cell_type": "markdown",
   "metadata": {},
   "source": [
    "# Exercise #1\n",
    "\n",
    "### Given the following variable `money_moves`"
   ]
  },
  {
   "cell_type": "code",
   "execution_count": 2,
   "metadata": {},
   "outputs": [],
   "source": [
    "money_moves = [\"fur coats\",\"money fans\",\"Diamonds\",\"MoNeY FaNs\",\"FUR COATS\",\"barrels of gold\"]"
   ]
  },
  {
   "cell_type": "code",
   "execution_count": 3,
   "metadata": {},
   "outputs": [],
   "source": [
    "# As a first step: change all the elements with a built function lower()\n",
    "money_moves[:]=[item.lower() for item in money_moves]\n"
   ]
  },
  {
   "cell_type": "markdown",
   "metadata": {},
   "source": [
    "### a. Print the list of unique elements. Then output the length."
   ]
  },
  {
   "cell_type": "code",
   "execution_count": 8,
   "metadata": {},
   "outputs": [
    {
     "name": "stdout",
     "output_type": "stream",
     "text": [
      "The list of unique elements is:{'diamonds', 'barrels of gold', 'money fans', 'fur coats'} and the length is: 4 \n"
     ]
    }
   ],
   "source": [
    "# place code here\n",
    "#using set to remove duplicate entries\n",
    "print(\"The list of unique elements is:{} and the length is: {} \".format(set(money_moves),len(set(money_moves))))"
   ]
  },
  {
   "cell_type": "markdown",
   "metadata": {},
   "source": [
    "### b. Set the 4th and 5th elements of the original list in lowercase. Pop that value and append it to the end of the list. Print the list."
   ]
  },
  {
   "cell_type": "code",
   "execution_count": 9,
   "metadata": {},
   "outputs": [
    {
     "name": "stdout",
     "output_type": "stream",
     "text": [
      "list after we lowercase 4th and 5th elements: \n",
      " ['fur coats', 'money fans', 'Diamonds', 'money fans', 'fur coats', 'barrels of gold']\n",
      "list after we pop 4th and 5th elements: \n",
      " ['fur coats', 'money fans', 'Diamonds', 'barrels of gold']\n",
      "list after we add again 4th and 5th elements to the end of the list: \n",
      " ['fur coats', 'money fans', 'Diamonds', 'barrels of gold', 'money fans', 'fur coats']\n"
     ]
    }
   ],
   "source": [
    "# Original list\n",
    "money_moves = [\"fur coats\",\"money fans\",\"Diamonds\",\"MoNeY FaNs\",\"FUR COATS\",\"barrels of gold\"]\n",
    "\n",
    "#Set the 4th and 5th elements of the original list in lowercase\n",
    "money_moves[3]=money_moves[3].lower()\n",
    "money_moves[4]=money_moves[4].lower()\n",
    "\n",
    "#print the list\n",
    "print(\"list after we lowercase 4th and 5th elements: \\n\",money_moves)\n",
    "\n",
    "#poping up the values ( 4th and 5th elements)\n",
    "val4=money_moves.pop(3) #deleting 4th element in the original list\n",
    "\n",
    "#Now after we deleintg 4th element, the list index change and 5th element will be at 4th element\n",
    "val5=money_moves.pop(3)\n",
    "\n",
    "#print the new list\n",
    "print(\"list after we pop 4th and 5th elements: \\n\",money_moves)\n",
    "\n",
    "#appending 4th and 5th element we dealted to the end of the list.\n",
    "money_moves.append(val4)\n",
    "money_moves.append(val5)\n",
    "\n",
    "#print the new list\n",
    "print(\"list after we add again 4th and 5th elements to the end of the list: \\n\",money_moves)"
   ]
  },
  {
   "cell_type": "markdown",
   "metadata": {},
   "source": [
    "### d. Create a new list, append odd number items from the original list`money_moves` and output the new list"
   ]
  },
  {
   "cell_type": "code",
   "execution_count": 10,
   "metadata": {},
   "outputs": [
    {
     "data": {
      "text/plain": [
       "['fur coats', 'Diamonds', 'FUR COATS']"
      ]
     },
     "execution_count": 10,
     "metadata": {},
     "output_type": "execute_result"
    }
   ],
   "source": [
    "money_moves = [\"fur coats\",\"money fans\",\"Diamonds\",\"MoNeY FaNs\",\"FUR COATS\",\"barrels of gold\"]\n",
    "new_listWithOdd=money_moves[0::2] # starting at 1th (ODD) element that has index 0 and skipping one element\n",
    "new_listWithOdd"
   ]
  },
  {
   "cell_type": "markdown",
   "metadata": {},
   "source": [
    "### e. Create a new dict. Add each item of `money_moves` to the dict using it's place in the list as the key for the dict. Print the dict."
   ]
  },
  {
   "cell_type": "code",
   "execution_count": 11,
   "metadata": {},
   "outputs": [
    {
     "data": {
      "text/plain": [
       "{0: 'fur coats',\n",
       " 1: 'money fans',\n",
       " 2: 'Diamonds',\n",
       " 3: 'MoNeY FaNs',\n",
       " 4: 'FUR COATS',\n",
       " 5: 'barrels of gold'}"
      ]
     },
     "execution_count": 11,
     "metadata": {},
     "output_type": "execute_result"
    }
   ],
   "source": [
    "money_moves = [\"fur coats\",\"money fans\",\"Diamonds\",\"MoNeY FaNs\",\"FUR COATS\",\"barrels of gold\"]\n",
    "#declaring new dictionary\n",
    "dict_moneyMoves={}\n",
    "#looping over the item in the list \n",
    "for i in range(0,len(money_moves)):\n",
    "    #creating the key and assig the value\n",
    "    dict_moneyMoves[i]=money_moves[i]\n",
    "#printing out the dictionnary\n",
    "dict_moneyMoves"
   ]
  },
  {
   "cell_type": "code",
   "execution_count": 12,
   "metadata": {},
   "outputs": [
    {
     "data": {
      "text/plain": [
       "{0: 'fur coats',\n",
       " 1: 'money fans',\n",
       " 2: 'Diamonds',\n",
       " 3: 'MoNeY FaNs',\n",
       " 4: 'FUR COATS',\n",
       " 5: 'barrels of gold'}"
      ]
     },
     "execution_count": 12,
     "metadata": {},
     "output_type": "execute_result"
    }
   ],
   "source": [
    "#Another way to do it\n",
    "money_moves = [\"fur coats\",\"money fans\",\"Diamonds\",\"MoNeY FaNs\",\"FUR COATS\",\"barrels of gold\"]\n",
    "item_position=list(range(0,len(money_moves)))\n",
    "new_dict=dict(zip(item_position,money_moves))\n",
    "new_dict"
   ]
  },
  {
   "cell_type": "markdown",
   "metadata": {},
   "source": [
    "# Exercise 2\n",
    "\n",
    "### Given the string below:  "
   ]
  },
  {
   "cell_type": "code",
   "execution_count": 13,
   "metadata": {},
   "outputs": [],
   "source": [
    "original_string = \"Supercalifragilisticexpialadocious\""
   ]
  },
  {
   "cell_type": "markdown",
   "metadata": {},
   "source": [
    "### a. Extract the 3rd and 4th element separately. Return the two values in a tuple"
   ]
  },
  {
   "cell_type": "code",
   "execution_count": 14,
   "metadata": {},
   "outputs": [
    {
     "name": "stdout",
     "output_type": "stream",
     "text": [
      "The element in tuple:  ('p', 'e')\n"
     ]
    }
   ],
   "source": [
    "element_3,element_4=original_string[2:4]\n",
    "values_inTuple=(element_3,element_4)\n",
    "print(\"The element in tuple: \",values_inTuple)\n"
   ]
  },
  {
   "cell_type": "markdown",
   "metadata": {},
   "source": [
    "### b. Extract the 3rd through 5th element, inclusive.   "
   ]
  },
  {
   "cell_type": "code",
   "execution_count": 15,
   "metadata": {},
   "outputs": [
    {
     "name": "stdout",
     "output_type": "stream",
     "text": [
      "The 3rd through 5th element, inclusive:  p ,  e  and  r\n"
     ]
    }
   ],
   "source": [
    "element_3rd,element_4th,element_5th=original_string[2:5]\n",
    "print(\"The 3rd through 5th element, inclusive: \",element_3rd,\", \", element_4th,\" and \", element_5th )"
   ]
  },
  {
   "cell_type": "markdown",
   "metadata": {},
   "source": [
    "### c. Extract the 3rd (inclusive) through 5th (exclusive) element.  "
   ]
  },
  {
   "cell_type": "code",
   "execution_count": 16,
   "metadata": {},
   "outputs": [
    {
     "name": "stdout",
     "output_type": "stream",
     "text": [
      "The 3rd through 5th element, inclusive:  p and  e\n"
     ]
    }
   ],
   "source": [
    "element_3rd,element_4th=original_string[2:4]\n",
    "print(\"The 3rd through 5th element, inclusive: \",element_3rd,\"and \", element_4th )"
   ]
  },
  {
   "cell_type": "markdown",
   "metadata": {},
   "source": [
    "### d. What is the index of \"S\"? How many elements in the list are \"S\"? Output the results as a tuple"
   ]
  },
  {
   "cell_type": "code",
   "execution_count": 20,
   "metadata": {},
   "outputs": [
    {
     "name": "stdout",
     "output_type": "stream",
     "text": [
      "Index of S and number of S in the list are (0, 1)\n"
     ]
    }
   ],
   "source": [
    "original_string = \"Supercalifragilisticexpialadocious\"\n",
    "#What is the index of \"S\"\n",
    "s_index=original_string.index(\"S\")\n",
    "result1=(s_index,)\n",
    "#How many elements in the list are \"S\"\n",
    "s_number=original_string.count(\"S\")\n",
    "result2 = (s_number,)\n",
    "#Output the results as a tuple\n",
    "result=result1+result2\n",
    "\n",
    "print(\"Index of S and number of S in the list are {}\".format(result))\n"
   ]
  },
  {
   "cell_type": "markdown",
   "metadata": {},
   "source": [
    "### e. What are the last 3 elements of the string?  "
   ]
  },
  {
   "cell_type": "code",
   "execution_count": 21,
   "metadata": {},
   "outputs": [
    {
     "name": "stdout",
     "output_type": "stream",
     "text": [
      "The last 3 elements of the string  ous\n"
     ]
    }
   ],
   "source": [
    "print(\"The last 3 elements of the string \",original_string[-3:])"
   ]
  },
  {
   "cell_type": "markdown",
   "metadata": {},
   "source": [
    "### f. Output the string backwards"
   ]
  },
  {
   "cell_type": "code",
   "execution_count": 22,
   "metadata": {},
   "outputs": [
    {
     "name": "stdout",
     "output_type": "stream",
     "text": [
      "Output the string backwards suoicodalaipxecitsiligarfilacrepuS\n"
     ]
    }
   ],
   "source": [
    "print(\"Output the string backwards\",original_string[::-1])"
   ]
  },
  {
   "cell_type": "markdown",
   "metadata": {},
   "source": [
    "# Exercise 3\n",
    "\n",
    "### Given the following code, fix it so the code outputs `\"hello\"`:\n",
    "\n",
    "Hint: for each, you just have to edit one line of code\n",
    "\n",
    "(Don't worry, you aren't meant to understand everything going on in them yet)"
   ]
  },
  {
   "cell_type": "code",
   "execution_count": 23,
   "metadata": {},
   "outputs": [
    {
     "name": "stdout",
     "output_type": "stream",
     "text": [
      "hello\n"
     ]
    }
   ],
   "source": [
    "def function(x):\n",
    "    if type(x) == bool:\n",
    "        print(x)\n",
    "    elif type(x)==str:\n",
    "        print(x)\n",
    "\n",
    "function(\"hello\")"
   ]
  },
  {
   "cell_type": "code",
   "execution_count": 25,
   "metadata": {},
   "outputs": [
    {
     "name": "stdout",
     "output_type": "stream",
     "text": [
      "hello\n"
     ]
    }
   ],
   "source": [
    "s = [\"h\", \"e\", \"l\", \"l\", \"o\"]\n",
    "seperator=\"\"\n",
    "print(seperator.join(s)) "
   ]
  },
  {
   "cell_type": "code",
   "execution_count": 39,
   "metadata": {},
   "outputs": [
    {
     "name": "stdout",
     "output_type": "stream",
     "text": [
      "hello\n"
     ]
    }
   ],
   "source": [
    "a = True\n",
    "b = False\n",
    "c = True\n",
    "d = False\n",
    "print(\"hello\" if ((b or a and b) == (d and b or b)) else \"\")"
   ]
  },
  {
   "cell_type": "code",
   "execution_count": 42,
   "metadata": {},
   "outputs": [
    {
     "name": "stdout",
     "output_type": "stream",
     "text": [
      "hello\n",
      "\n"
     ]
    }
   ],
   "source": [
    "class Example:\n",
    "    def __init__(self, val):\n",
    "        self.a = val and print(\"hello\")\n",
    "    def say_hi(self):\n",
    "        print(\"hello\") if self.a == \"fixed\" else print(\"\")\n",
    "    def hello(self):\n",
    "        return \"olleh\".reverse()\n",
    "        \n",
    "e = Example(\"fixed\")\n",
    "e.say_hi()"
   ]
  }
 ],
 "metadata": {
  "kernelspec": {
   "display_name": "Python 3",
   "language": "python",
   "name": "python3"
  },
  "language_info": {
   "codemirror_mode": {
    "name": "ipython",
    "version": 3
   },
   "file_extension": ".py",
   "mimetype": "text/x-python",
   "name": "python",
   "nbconvert_exporter": "python",
   "pygments_lexer": "ipython3",
   "version": "3.8.8"
  }
 },
 "nbformat": 4,
 "nbformat_minor": 4
}
