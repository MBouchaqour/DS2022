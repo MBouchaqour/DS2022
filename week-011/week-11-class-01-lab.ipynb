{
 "cells": [
  {
   "cell_type": "markdown",
   "metadata": {},
   "source": [
    "## Question 1\n",
    "Given an array of meeting time intervals where ```intervals[i] = [starti, endi]```, determine if a person could attend all meetings within a 24 hour time period. \n",
    "> Meeting times are in hours in a 24hour clock.\n",
    "\n",
    " \n",
    "\n",
    "Example 1:\n",
    "```\n",
    "Input: intervals = [[0,3],[2,6],[13,16]]\n",
    "Output: false\n",
    "```\n",
    "Example 2:\n",
    "```\n",
    "Input: intervals = [[7,10],[2,4]]\n",
    "Output: true\n",
    "```"
   ]
  },
  {
   "cell_type": "code",
   "execution_count": 1,
   "metadata": {},
   "outputs": [],
   "source": [
    "# This function check array only if check function down goan well\n",
    "def validate(arr):\n",
    "    arr.sort()\n",
    "    for i in range(len(arr)-1):\n",
    "        if arr[i][1]>arr[i+1][0]:\n",
    "            return False\n",
    "    return True"
   ]
  },
  {
   "cell_type": "code",
   "execution_count": 2,
   "metadata": {},
   "outputs": [],
   "source": [
    "def check(arr):\n",
    "    if len(arr)==1:\n",
    "        return True\n",
    "    else:\n",
    "        for item in arr:\n",
    "            if type(item) != list:\n",
    "                return 'You need to have start and end time for each interval'\n",
    "                break\n",
    "    result=validate(arr)\n",
    "    return result    \n"
   ]
  },
  {
   "cell_type": "code",
   "execution_count": 6,
   "metadata": {},
   "outputs": [
    {
     "data": {
      "text/plain": [
       "False"
      ]
     },
     "execution_count": 6,
     "metadata": {},
     "output_type": "execute_result"
    }
   ],
   "source": [
    "check([[7,13],[12,16]])"
   ]
  },
  {
   "cell_type": "markdown",
   "metadata": {},
   "source": [
    "## Question 2\n",
    "Design a class that takes \n",
    "- in a list of integers \n",
    "- stores the list \n",
    "- runs a sorting algorithm of your choosing \n",
    "- Run the sorting algorithm through a class object\n",
    "- Define the Big O of that algorithm"
   ]
  },
  {
   "cell_type": "code",
   "execution_count": 26,
   "metadata": {},
   "outputs": [],
   "source": [
    "class Store_Sort():\n",
    "    def __init__(self, arr=[]):\n",
    "        self.arr=arr\n",
    "\n",
    "    def bubbleSort(self):\n",
    "        n = len(self.arr)\n",
    "        for i in range(n):\n",
    "            for j in range(0, n-i-1):\n",
    "                if self.arr[j] > self.arr[j+1] :\n",
    "                    self.arr[j], self.arr[j+1] = self.arr[j+1], self.arr[j]\n",
    "        return self.arr\n",
    "    def __str__(self):\n",
    "        print(\"Here is your result\")\n",
    "        for item in self.arr:\n",
    "            print(item, end=' ')\n",
    "        return '\\nElement sorted using Bubble Sort'\n",
    "        \n"
   ]
  },
  {
   "cell_type": "code",
   "execution_count": 29,
   "metadata": {},
   "outputs": [
    {
     "name": "stdout",
     "output_type": "stream",
     "text": [
      "Here is your result\n",
      "5 5 6 12 23 33 34 34 44 45 121 \n",
      "Element sorted using Bubble Sort\n"
     ]
    }
   ],
   "source": [
    "myarr=Store_Sort([34,5,33,6,45,34,23,5,44,12,121])\n",
    "myarr.bubbleSort()\n",
    "print(myarr)"
   ]
  },
  {
   "cell_type": "markdown",
   "metadata": {},
   "source": [
    "## Question 3\n",
    "Create a class named Person with properties for:\n",
    "- first_name\n",
    "- last_name \n",
    "- print_name method\n",
    "\n",
    "Create a class named Student:\n",
    " - Inherit the properties and methods from the Person class\n",
    " - Add a property called graduation_year "
   ]
  },
  {
   "cell_type": "markdown",
   "metadata": {},
   "source": [
    "## Question 4\n",
    "Using two words explain the benefits of inheritance."
   ]
  },
  {
   "cell_type": "markdown",
   "metadata": {},
   "source": [
    "## Question 5\n",
    "\n",
    "Let's utilize our DataFrame from in class to make some visual graphs!\n",
    "- import matplotlib\n",
    "- read https://matplotlib.org/stable/api/_as_gen/matplotlib.pyplot.scatter.html on how to make scatter plots\n",
    "- read https://matplotlib.org/stable/api/_as_gen/matplotlib.pyplot.figure.html on how to make figures using matplotlib\n",
    "- create a figure of 4 scatter plots using grades from each quarter from our DataFrame as the y-axis and the Faculty Names as the x-axis.\n",
    "\n",
    "> Hints: \n",
    "> Use the add_subplot(rows, columns, position) method to add plots to your figure\n",
    "> Use set_title(string) method to add a title to your plots; ex: plot.set_title('First Quarter')"
   ]
  },
  {
   "cell_type": "markdown",
   "metadata": {},
   "source": [
    "### Your scatterplots should look like this:"
   ]
  },
  {
   "cell_type": "markdown",
   "metadata": {},
   "source": [
    "![TKH-Teachback](scatter_plots.jpg)"
   ]
  },
  {
   "cell_type": "markdown",
   "metadata": {},
   "source": [
    "### Bonus Question\n",
    "\n",
    "Using our DataFrame and the pandas library, create 5 separate DataFrames of each Faculty and their class. Then display which class has the highest average grade using our get_average method from the comparable module.\n",
    "\n",
    "> Hints:\n",
    "> Create a new DataFrame by comparing each student's Faculty member and separating them by the name of the Faculty member (there should be 20 students per faculty)"
   ]
  }
 ],
 "metadata": {
  "interpreter": {
   "hash": "4fe423c96aa21f041534bead582c2e6c3f42ab46597860deda9051867850283b"
  },
  "kernelspec": {
   "display_name": "Python 3.8.5 32-bit",
   "language": "python",
   "name": "python3"
  },
  "language_info": {
   "codemirror_mode": {
    "name": "ipython",
    "version": 3
   },
   "file_extension": ".py",
   "mimetype": "text/x-python",
   "name": "python",
   "nbconvert_exporter": "python",
   "pygments_lexer": "ipython3",
   "version": "3.8.5"
  },
  "orig_nbformat": 4
 },
 "nbformat": 4,
 "nbformat_minor": 2
}
