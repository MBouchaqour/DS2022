{
 "cells": [
  {
   "cell_type": "markdown",
   "metadata": {},
   "source": [
    "<div style=\"background: #000;\n",
    "            color: #FFF;\n",
    "            margin: 0px;\n",
    "                padding: 10px 0px 20px 0px;\n",
    "            text-align: center; \n",
    "                \">\n",
    "    <h1>Week 6 - Class 2 - Lab</h1>\n",
    "</div>\n"
   ]
  },
  {
   "cell_type": "markdown",
   "metadata": {},
   "source": [
    "## Exercise 1:\n",
    "\n",
    "Create a class called `Employee`, add in attributes and methods you think would be associated with an employee. Use at least 2 attributes and 2 methods (not including the `__init__` method you'll create as well)."
   ]
  },
  {
   "cell_type": "code",
   "execution_count": 14,
   "metadata": {},
   "outputs": [],
   "source": [
    "class Employee:\n",
    "    def __init__(self,emp_id,emp_fname,emp_lname,emp_salary):\n",
    "        self.emp_id=emp_id\n",
    "        self.emp_fname=emp_fname\n",
    "        self.emp_lname=emp_lname\n",
    "        self.emp_salary=emp_salary\n",
    "    def get_info(self):\n",
    "        return f\"employe id {self.emp_id}, first name is {self.emp_fname}, last name is {self.emp_lname}\"\n",
    "    def compare_salary(self,emp):\n",
    "        if self.emp_salary>emp.emp_salary:\n",
    "            return f\"Your salary is greater, {slef.emp_salary}\"\n",
    "        else:\n",
    "            return f\"your salary is less, {self.emp_salary}\"\n",
    "    "
   ]
  },
  {
   "cell_type": "code",
   "execution_count": 15,
   "metadata": {},
   "outputs": [
    {
     "data": {
      "text/plain": [
       "'employe id 12, first name is Mus, last name is Nano'"
      ]
     },
     "execution_count": 15,
     "metadata": {},
     "output_type": "execute_result"
    }
   ],
   "source": [
    "emp1=Employee(12,\"Mus\",\"Nano\",60_000_000)\n",
    "emp1.get_info()\n"
   ]
  },
  {
   "cell_type": "code",
   "execution_count": 17,
   "metadata": {},
   "outputs": [
    {
     "data": {
      "text/plain": [
       "'employe id 13, first name is Mos, last name is wboch'"
      ]
     },
     "execution_count": 17,
     "metadata": {},
     "output_type": "execute_result"
    }
   ],
   "source": [
    "emp2=Employee(13,\"Mos\",\"wboch\",67_000_000)\n",
    "emp2.get_info()"
   ]
  },
  {
   "cell_type": "code",
   "execution_count": 18,
   "metadata": {},
   "outputs": [
    {
     "data": {
      "text/plain": [
       "'your salary is less, 60000000'"
      ]
     },
     "execution_count": 18,
     "metadata": {},
     "output_type": "execute_result"
    }
   ],
   "source": [
    "emp1.compare_salary(emp2)"
   ]
  },
  {
   "cell_type": "markdown",
   "metadata": {},
   "source": [
    "## Exercise 2:\n",
    "\n",
    "Create a class called `Paper` with the `content`, `length`, `width`, `margin`, `print_layout` (landscape or portrait) and `doublesided` (boolean value) as attributes. Provide methods that allow us to change those attributes."
   ]
  },
  {
   "cell_type": "code",
   "execution_count": 41,
   "metadata": {},
   "outputs": [],
   "source": [
    "class Paper:\n",
    "    def __init__(self,content,length,width,margin,print_layout='landscape',doublesided=True):\n",
    "        self.content=content\n",
    "        self.length=length\n",
    "        self.width=width\n",
    "        self.margin=margin\n",
    "        self.print_layout=print_layout\n",
    "        self.doublesided=doublesided\n",
    "        \n",
    "    def toString(self):\n",
    "        print(f\"Data about Paper: {self.content, self.length, self.width, self.margin,self.print_layout,self.doublesided}\")\n",
    "   \n",
    "    def set_printLayout(self,option):\n",
    "        if option == self.print_layout:\n",
    "            return \"No change made\"\n",
    "        elif option in ['landscape','portrait']:\n",
    "            self.print_layout=option\n",
    "            self.toString()\n",
    "            return \"change has made\"\n",
    "        else:\n",
    "            return \"please make sure about your option\"\n",
    "    def set_doublesided(self,option):\n",
    "        if option == self.doublesided:\n",
    "            return \"No change made\"\n",
    "        elif type(option)==bool:\n",
    "            self.doublesided=option\n",
    "            self.toString()\n",
    "            return \"change has made\"\n",
    "        else:\n",
    "            return \"please make sure about your option\"\n",
    "    "
   ]
  },
  {
   "cell_type": "code",
   "execution_count": 43,
   "metadata": {},
   "outputs": [
    {
     "name": "stdout",
     "output_type": "stream",
     "text": [
      "Data about Paper: (100, 40, 30, 2, 'landscape', True)\n"
     ]
    }
   ],
   "source": [
    "# content,length,width,margin,print_layout='landscape',doublesided=True)\n",
    "p1=Paper(100,40,30,2)\n",
    "p1.toString()"
   ]
  },
  {
   "cell_type": "code",
   "execution_count": 44,
   "metadata": {},
   "outputs": [
    {
     "name": "stdout",
     "output_type": "stream",
     "text": [
      "Data about Paper: (100, 40, 30, 2, 'portrait', True)\n"
     ]
    },
    {
     "data": {
      "text/plain": [
       "'change has made'"
      ]
     },
     "execution_count": 44,
     "metadata": {},
     "output_type": "execute_result"
    }
   ],
   "source": [
    "p1.set_printLayout('portrait')"
   ]
  },
  {
   "cell_type": "code",
   "execution_count": 45,
   "metadata": {},
   "outputs": [
    {
     "name": "stdout",
     "output_type": "stream",
     "text": [
      "Data about Paper: (100, 40, 30, 2, 'portrait', False)\n"
     ]
    },
    {
     "data": {
      "text/plain": [
       "'change has made'"
      ]
     },
     "execution_count": 45,
     "metadata": {},
     "output_type": "execute_result"
    }
   ],
   "source": [
    "p1.set_doublesided(False)\n"
   ]
  },
  {
   "cell_type": "markdown",
   "metadata": {},
   "source": [
    "## Exercise 3\n",
    "\n",
    "Create a class called `Printer` that implements a queue. You should be able to store `Paper` objects in this queue so provide methods that add instances of `Paper` to the `Printer`'s queue and a toy method that \"prints\" `n` amount of \"jobs\" from the queue at a time. Demonstrate that this code works."
   ]
  },
  {
   "cell_type": "code",
   "execution_count": 50,
   "metadata": {},
   "outputs": [],
   "source": [
    "class Printer(Paper):\n",
    "    def __init__(self,content,length,width,margin,print_layout='landscape',doublesided=True):\n",
    "        Paper.__init__(self,content,length,width,margin,print_layout='landscape',doublesided=True)\n",
    "    def queue(self,n):\n",
    "        if self.content==0:\n",
    "            self.toString()\n",
    "            return \"There is no content\"\n",
    "        elif self.content<n:\n",
    "            self.content=0\n",
    "            self.toString()\n",
    "            return f\"You have printed {self.content}. The rest papers to be printed is 0\"\n",
    "        else:\n",
    "            self.content=self.content-n\n",
    "            self.toString()\n",
    "            return f\"You have printed {n} paper(s), you still have {self.content} paper(s)\"\n",
    "        "
   ]
  },
  {
   "cell_type": "code",
   "execution_count": 51,
   "metadata": {},
   "outputs": [
    {
     "name": "stdout",
     "output_type": "stream",
     "text": [
      "Data about Paper: (100, 40, 30, 2, 'landscape', True)\n"
     ]
    }
   ],
   "source": [
    "printer1=Printer(100,40,30,2)\n",
    "printer1.toString()"
   ]
  },
  {
   "cell_type": "code",
   "execution_count": 52,
   "metadata": {},
   "outputs": [
    {
     "name": "stdout",
     "output_type": "stream",
     "text": [
      "Data about Paper: (50, 40, 30, 2, 'landscape', True)\n"
     ]
    },
    {
     "data": {
      "text/plain": [
       "'You have printed 50 paper(s), you still have 50 paper(s)'"
      ]
     },
     "execution_count": 52,
     "metadata": {},
     "output_type": "execute_result"
    }
   ],
   "source": [
    "printer1.queue(50)"
   ]
  }
 ],
 "metadata": {
  "kernelspec": {
   "display_name": "Python 3",
   "language": "python",
   "name": "python3"
  },
  "language_info": {
   "codemirror_mode": {
    "name": "ipython",
    "version": 3
   },
   "file_extension": ".py",
   "mimetype": "text/x-python",
   "name": "python",
   "nbconvert_exporter": "python",
   "pygments_lexer": "ipython3",
   "version": "3.8.8"
  }
 },
 "nbformat": 4,
 "nbformat_minor": 4
}
