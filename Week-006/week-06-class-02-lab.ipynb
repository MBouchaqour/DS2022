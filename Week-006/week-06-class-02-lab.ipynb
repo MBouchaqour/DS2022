{
 "cells": [
  {
   "cell_type": "markdown",
   "metadata": {},
   "source": [
    "<div style=\"background: #000;\n",
    "            color: #FFF;\n",
    "            margin: 0px;\n",
    "                padding: 10px 0px 20px 0px;\n",
    "            text-align: center; \n",
    "                \">\n",
    "    <h1>Week 6 - Class 2 - Lab</h1>\n",
    "</div>\n"
   ]
  },
  {
   "cell_type": "markdown",
   "metadata": {},
   "source": [
    "## Question 1:\n",
    "    \n",
    "Explain one of the dunder methods describing what it does, how it works and why we might need to use it."
   ]
  },
  {
   "cell_type": "markdown",
   "metadata": {},
   "source": [
    "## Answer 1:\n",
    "A dunder methods or a majic methods are used to handle some specific output that you can't do it normally in Python class. \n",
    "An example of that as the foloowing: let's say you created a Student class that that has 3 fields, firs_name, las_name, category. if you created a class object obj1 such that obj1=Student(\"Ahmed\",\"Mansor\",\"A\") then you want to print the object using print(obj1) the output will not be clear, so you need a majic function to read the class info nicely. "
   ]
  },
  {
   "cell_type": "markdown",
   "metadata": {},
   "source": [
    "## Exercise 1:\n",
    "\n",
    "Create a class called `Employee`, add in attributes and methods you think would be associated with an employee. Use at least 2 attributes and 2 methods (not including the `__init__` method you'll create as well)."
   ]
  },
  {
   "cell_type": "code",
   "execution_count": 1,
   "metadata": {},
   "outputs": [],
   "source": [
    "class Employee():\n",
    "    def __init__(self,id=0,fname=\"\",lname=\"\",category=\"\"):\n",
    "        self.id=id\n",
    "        self.fname=fname\n",
    "        self.lname=lname\n",
    "        self.category=category\n",
    "        #input functions\n",
    "    def set_id(self,id):\n",
    "        self.id=id\n",
    "    def set_fname(self,fname):\n",
    "        self.fname=fname\n",
    "    def set_lname(self,lname):\n",
    "        self.lname=lname\n",
    "    def set_category(self,category):\n",
    "        self.category=category\n",
    "    #get info back\n",
    "    def get_id(self):\n",
    "        return self.id\n",
    "    def get_fname(self):\n",
    "        return self.fname\n",
    "    def get_lname(self):\n",
    "        return self.lname\n",
    "    def get_category(self):\n",
    "        return self.category\n",
    "    def get_salary(self):\n",
    "        grades={\"L1\":89_000,\n",
    "                \"L2\":56_000,\n",
    "                \"L3\":32_000,}\n",
    "        \n",
    "        if self.category in grades.keys():\n",
    "            return grades[self.category]\n",
    "        else:\n",
    "            return 20_000\n",
    "        \n",
    "        \n",
    "    \n",
    "\n",
    "        \n",
    " \n",
    "        \n"
   ]
  },
  {
   "cell_type": "code",
   "execution_count": 2,
   "metadata": {},
   "outputs": [
    {
     "data": {
      "text/plain": [
       "20000"
      ]
     },
     "execution_count": 2,
     "metadata": {},
     "output_type": "execute_result"
    }
   ],
   "source": [
    "emp=Employee(12,'Mus','wbc',)\n",
    "emp.get_salary()"
   ]
  },
  {
   "cell_type": "code",
   "execution_count": 3,
   "metadata": {},
   "outputs": [
    {
     "data": {
      "text/plain": [
       "32000"
      ]
     },
     "execution_count": 3,
     "metadata": {},
     "output_type": "execute_result"
    }
   ],
   "source": [
    "emp1=Employee()\n",
    "emp1.set_id(12)\n",
    "emp1.set_fname('Mustapha')\n",
    "emp1.set_lname('bocha')\n",
    "emp1.set_category('L3')\n",
    "emp1.get_salary()"
   ]
  },
  {
   "cell_type": "markdown",
   "metadata": {},
   "source": [
    "## Exercise 2:\n",
    "\n",
    "Create a class called `Paper` with the `content`, `length`, `width`, `margin`, `print_layout` (landscape or portrait) and `doublesided` (boolean value) as attributes. Provide methods that allow us to change those attributes."
   ]
  },
  {
   "cell_type": "code",
   "execution_count": 27,
   "metadata": {},
   "outputs": [],
   "source": [
    "class Paper:\n",
    "    def __init__(self,content,length,width,margin,print_layout=\"landscape\",doublesided=False):\n",
    "        self.content=content\n",
    "        self.length=length\n",
    "        self.width=width\n",
    "        self.margin=margin\n",
    "        self.print_layout=print_layout\n",
    "        self.doublesided=doublesided\n",
    "    #setter\n",
    "    def set_content(self,content):\n",
    "        self.content=content\n",
    "    def set_length(self,length):\n",
    "        self.length=length\n",
    "    def set_width(self,width):\n",
    "        self.width=width\n",
    "    def set_margin(self,margin):\n",
    "        self.margin=margin\n",
    "    def set_print_layout(self,print_layout):\n",
    "        if print_layout not in [\"landscape\" , \"portrait\"]:\n",
    "            user_message()\n",
    "        else:\n",
    "            self.print_layout=print_layout\n",
    "    def set_doublesidedt(self,doublesided):\n",
    "        if type(set_content) != bool:\n",
    "            user_message()\n",
    "        else:\n",
    "            self.doublesided=doublesided\n",
    "        \n",
    "    #user message\n",
    "    def user_message():\n",
    "        print(\"Please verify your input\")\n",
    "        \n",
    "    #getter \n",
    "    \n",
    "    def get_content(self):\n",
    "        return content\n",
    "    def get_length(self):\n",
    "        return length\n",
    "    def get_widtht(self):\n",
    "        return width\n",
    "    def get_margin(self):\n",
    "        return margin\n",
    "    def get_print_layout(self):\n",
    "        return print_layout\n",
    "    def get_doublesided(self):\n",
    "        return doublesided\n",
    "    \n",
    "    def __repr__(self):\n",
    "        return f\"Content: {self.content}, length: {self.length}, width: {self.width} , margin: {self.margin}, layout: {self.print_layout} , doublesided: {self.doublesided}\"\n",
    "    \n",
    "    \n",
    "    "
   ]
  },
  {
   "cell_type": "code",
   "execution_count": 28,
   "metadata": {},
   "outputs": [
    {
     "name": "stdout",
     "output_type": "stream",
     "text": [
      "Content: Report, length: 20, width: 20 , margin: 2, layout: landscape , doublesided: False\n"
     ]
    }
   ],
   "source": [
    "paper1=Paper(\"Report\",20,20,2)\n",
    "print(paper1)"
   ]
  },
  {
   "cell_type": "markdown",
   "metadata": {},
   "source": [
    "## Exercise 3\n",
    "\n",
    "Create a class called `Printer` that implements a queue. You should be able to store `Paper` objects in this queue so provide methods that add instances of `Paper` to the `Printer`'s queue and a toy method that \"prints\" `n` amount of \"jobs\" from the queue at a time. Demonstrate that this code works."
   ]
  },
  {
   "cell_type": "code",
   "execution_count": 56,
   "metadata": {},
   "outputs": [],
   "source": [
    "class Printer:\n",
    "    def __init__(self,paper,numOfPaper):\n",
    "        self.numOfPaper=numOfPaper\n",
    "        self.paper={}\n",
    "    def add_paper(self,name,numOfPaper):\n",
    "        self.paper[name]=numOfPaper\n",
    "        \n",
    "    def queue(self,name,x):\n",
    "        if name not in self.paper:\n",
    "            raise ValueError(\"No such title.\")\n",
    "        elif ((self.paper[name]==0) | (x==0)):\n",
    "            return f'There is nothing to print or no more paper to be printed'\n",
    "        else:\n",
    "            if x>self.paper[name]:\n",
    "                self.paper[name]=0\n",
    "            else:\n",
    "                self.paper[name] -=x\n",
    "            return f'Number of paper printed is {x}. Left: {self.paper[name]}'"
   ]
  },
  {
   "cell_type": "code",
   "execution_count": 57,
   "metadata": {},
   "outputs": [],
   "source": [
    "p1=Printer(\"new_print\",10)"
   ]
  },
  {
   "cell_type": "code",
   "execution_count": 58,
   "metadata": {},
   "outputs": [],
   "source": [
    "p1.add_paper(\"Titanic\",30)"
   ]
  },
  {
   "cell_type": "code",
   "execution_count": 59,
   "metadata": {},
   "outputs": [
    {
     "data": {
      "text/plain": [
       "'Number of paper printed is 20. Left: 10'"
      ]
     },
     "execution_count": 59,
     "metadata": {},
     "output_type": "execute_result"
    }
   ],
   "source": [
    "p1.queue(\"Titanic\",20)"
   ]
  },
  {
   "cell_type": "markdown",
   "metadata": {},
   "source": [
    "## Exercise 4:\n",
    "    \n",
    "Create a class called `Square` that overloads the addition operator by adding the area of two squares. You will need at least an attribute for length, a method for calculating area and the overloaded `+` operator method.\n",
    "\n",
    "e.g. `Square(3) + Square(4) == 25`"
   ]
  },
  {
   "cell_type": "code",
   "execution_count": 119,
   "metadata": {},
   "outputs": [],
   "source": [
    "class Square:\n",
    "    def __init__(self,length):\n",
    "        self.length=length\n",
    "    def __add__(self,x):\n",
    "        result=self.area()+x.length**2\n",
    "        return result\n",
    "    def area(self):\n",
    "        return self.length**2\n",
    "   \n",
    "    "
   ]
  },
  {
   "cell_type": "code",
   "execution_count": 120,
   "metadata": {},
   "outputs": [
    {
     "data": {
      "text/plain": [
       "25"
      ]
     },
     "execution_count": 120,
     "metadata": {},
     "output_type": "execute_result"
    }
   ],
   "source": [
    "Square(3)+Square(4)\n"
   ]
  }
 ],
 "metadata": {
  "kernelspec": {
   "display_name": "Python 3",
   "language": "python",
   "name": "python3"
  },
  "language_info": {
   "codemirror_mode": {
    "name": "ipython",
    "version": 3
   },
   "file_extension": ".py",
   "mimetype": "text/x-python",
   "name": "python",
   "nbconvert_exporter": "python",
   "pygments_lexer": "ipython3",
   "version": "3.8.8"
  }
 },
 "nbformat": 4,
 "nbformat_minor": 4
}
