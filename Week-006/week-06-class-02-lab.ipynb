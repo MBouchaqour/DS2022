{
 "cells": [
  {
   "cell_type": "markdown",
   "metadata": {},
   "source": [
    "<div style=\"background: #000;\n",
    "            color: #FFF;\n",
    "            margin: 0px;\n",
    "                padding: 10px 0px 20px 0px;\n",
    "            text-align: center; \n",
    "                \">\n",
    "    <h1>Week 6 - Class 2 - Lab</h1>\n",
    "</div>\n"
   ]
  },
  {
   "cell_type": "markdown",
   "metadata": {},
   "source": [
    "## Question 1:\n",
    "    \n",
    "Explain one of the dunder methods describing what it does, how it works and why we might need to use it."
   ]
  },
  {
   "cell_type": "raw",
   "metadata": {},
   "source": []
  },
  {
   "cell_type": "markdown",
   "metadata": {},
   "source": [
    "## Exercise 1:\n",
    "\n",
    "Create a class called `Employee`, add in attributes and methods you think would be associated with an employee. Use at least 2 attributes and 2 methods (not including the `__init__` method you'll create as well)."
   ]
  },
  {
   "cell_type": "code",
   "execution_count": 35,
   "metadata": {},
   "outputs": [],
   "source": [
    "class Employee():\n",
    "    def __init__(self,id=0,fname=\"\",lname=\"\",category=\"\"):\n",
    "        self.id=id\n",
    "        self.fname=fname\n",
    "        self.lname=lname\n",
    "        self.category=category\n",
    "        #input functions\n",
    "    def set_id(self,id):\n",
    "        self.id=id\n",
    "    def set_fname(self,fname):\n",
    "        self.fname=fname\n",
    "    def set_lname(self,lname):\n",
    "        self.lname=lname\n",
    "    def set_category(self,category):\n",
    "        self.category=category\n",
    "    #get info back\n",
    "    def get_id(self):\n",
    "        return self.id\n",
    "    def get_fname(self):\n",
    "        return self.fname\n",
    "    def get_lname(self):\n",
    "        return self.lname\n",
    "    def get_category(self):\n",
    "        return self.category\n",
    "    def get_salary(self):\n",
    "        grades={\"L1\":89_000,\n",
    "                \"L2\":56_000,\n",
    "                \"L3\":32_000,}\n",
    "        \n",
    "        if self.category in grades.keys():\n",
    "            return grades[self.category]\n",
    "        else:\n",
    "            return 20_000\n",
    "        \n",
    "        \n",
    "    \n",
    "\n",
    "        \n",
    " \n",
    "        \n"
   ]
  },
  {
   "cell_type": "code",
   "execution_count": 42,
   "metadata": {},
   "outputs": [
    {
     "data": {
      "text/plain": [
       "20000"
      ]
     },
     "execution_count": 42,
     "metadata": {},
     "output_type": "execute_result"
    }
   ],
   "source": [
    "emp=Employee(12,'Mus','wbc',)\n",
    "emp.get_salary()"
   ]
  },
  {
   "cell_type": "code",
   "execution_count": 43,
   "metadata": {},
   "outputs": [
    {
     "data": {
      "text/plain": [
       "32000"
      ]
     },
     "execution_count": 43,
     "metadata": {},
     "output_type": "execute_result"
    }
   ],
   "source": [
    "emp1=Employee()\n",
    "emp1.set_id(12)\n",
    "emp1.set_fname('Mustapha')\n",
    "emp1.set_lname('bocha')\n",
    "emp1.set_category('L3')\n",
    "emp1.get_salary()"
   ]
  },
  {
   "cell_type": "code",
   "execution_count": 8,
   "metadata": {},
   "outputs": [
    {
     "name": "stdout",
     "output_type": "stream",
     "text": [
      "2019-10-31 00:00:00\n",
      "Type:  <class 'datetime.datetime'>\n"
     ]
    }
   ],
   "source": [
    "my_string = '2019-10-31'\n",
    "\n",
    "# Create date object in given time format yyyy-mm-dd\n",
    "my_date = datetime.strptime(my_string, \"%Y-%m-%d\")\n",
    "\n",
    "print(my_date)\n",
    "print('Type: ',type(my_date))"
   ]
  },
  {
   "cell_type": "markdown",
   "metadata": {},
   "source": [
    "## Exercise 2:\n",
    "\n",
    "Create a class called `Paper` with the `content`, `length`, `width`, `margin`, `print_layout` (landscape or portrait) and `doublesided` (boolean value) as attributes. Provide methods that allow us to change those attributes."
   ]
  },
  {
   "cell_type": "code",
   "execution_count": null,
   "metadata": {},
   "outputs": [],
   "source": []
  },
  {
   "cell_type": "markdown",
   "metadata": {},
   "source": [
    "## Exercise 3\n",
    "\n",
    "Create a class called `Printer` that implements a queue. You should be able to store `Paper` objects in this queue so provide methods that add instances of `Paper` to the `Printer`'s queue and a toy method that \"prints\" `n` amount of \"jobs\" from the queue at a time. Demonstrate that this code works."
   ]
  },
  {
   "cell_type": "code",
   "execution_count": null,
   "metadata": {},
   "outputs": [],
   "source": []
  },
  {
   "cell_type": "markdown",
   "metadata": {},
   "source": [
    "## Exercise 4:\n",
    "    \n",
    "Create a class called `Square` that overloads the addition operator by adding the area of two squares. You will need at least an attribute for length, a method for calculating area and the overloaded `+` operator method.\n",
    "\n",
    "e.g. `Square(3) + Square(4) == 25`"
   ]
  },
  {
   "cell_type": "code",
   "execution_count": null,
   "metadata": {},
   "outputs": [],
   "source": []
  }
 ],
 "metadata": {
  "kernelspec": {
   "display_name": "Python 3",
   "language": "python",
   "name": "python3"
  },
  "language_info": {
   "codemirror_mode": {
    "name": "ipython",
    "version": 3
   },
   "file_extension": ".py",
   "mimetype": "text/x-python",
   "name": "python",
   "nbconvert_exporter": "python",
   "pygments_lexer": "ipython3",
   "version": "3.8.8"
  }
 },
 "nbformat": 4,
 "nbformat_minor": 4
}
