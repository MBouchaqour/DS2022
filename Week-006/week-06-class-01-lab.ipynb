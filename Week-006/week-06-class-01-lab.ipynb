{
 "cells": [
  {
   "cell_type": "markdown",
   "metadata": {},
   "source": [
    "<div style=\"background: #000;\n",
    "            color: #FFF;\n",
    "            margin: 0px;\n",
    "                padding: 10px 0px 20px 0px;\n",
    "            text-align: center; \n",
    "                \">\n",
    "    <h1>Week 6 - Class 1 - Lab</h1>\n",
    "</div>\n"
   ]
  },
  {
   "cell_type": "markdown",
   "metadata": {},
   "source": [
    "# Question 1\n",
    "\n",
    "What is a class? What is an object? What is the difference? How can we use objects in python?"
   ]
  },
  {
   "cell_type": "markdown",
   "metadata": {},
   "source": [
    "# Answer 1\n",
    "A class can play as blueprint where we can derive an object(s)\n",
    "An object or instance is anything that you would like to work on\n",
    "A class is the source for objects\n",
    "An object in Python can be used with all the methods that belong to the same class where you create the object from. "
   ]
  },
  {
   "cell_type": "markdown",
   "metadata": {},
   "source": [
    "# Execise 1\n",
    "\n",
    "Create a class. Show that the class can be used to create an object."
   ]
  },
  {
   "cell_type": "code",
   "execution_count": 18,
   "metadata": {},
   "outputs": [],
   "source": [
    "# Creating class MyProjects\n",
    "class MyProejcts(object):\n",
    "    def __init__(self, project ):\n",
    "        self.project = project\n",
    "        self.budget=0\n",
    "    def addBudget(self, amount):\n",
    "        self.budget = self.budget + amount\n",
    "    def describe(self):\n",
    "        print(\"Project name is {} and Project budget is {}\".format(self.project , self.budget))\n",
    "       "
   ]
  },
  {
   "cell_type": "code",
   "execution_count": 19,
   "metadata": {},
   "outputs": [
    {
     "name": "stdout",
     "output_type": "stream",
     "text": [
      "Project name is Grant and Project budget is 3000\n"
     ]
    }
   ],
   "source": [
    "#Creating an object called Project_1\n",
    "project_1=MyProejcts(\"Grant\")\n",
    "project_1.addBudget(3000)\n",
    "project_1.describe()"
   ]
  },
  {
   "cell_type": "markdown",
   "metadata": {},
   "source": [
    "# Exercise 2\n",
    "\n",
    "Create a class including an `__init__` function that initializes some sort of state when objects are created. Demonstrate that the state is initialized."
   ]
  },
  {
   "cell_type": "code",
   "execution_count": 1,
   "metadata": {},
   "outputs": [],
   "source": [
    "class MyProejcts_adv:\n",
    "    def __init__(self):\n",
    "        self.project = None\n",
    "        self.budget=0\n",
    "    def project_name(self, name):\n",
    "        self.project = name\n",
    "    def project_budget(self, amount):\n",
    "        self.budget = amount\n",
    "    def get_project_name(self):\n",
    "        return self.project\n",
    "    def get_project_budget(self):\n",
    "        return self.budget\n",
    "    def describe(self):\n",
    "        print(\"Project name: {}\\nProject budget: {}\".format(self.project , self.budget))"
   ]
  },
  {
   "cell_type": "code",
   "execution_count": 2,
   "metadata": {},
   "outputs": [
    {
     "name": "stdout",
     "output_type": "stream",
     "text": [
      "Project name: None\n",
      "Project budget: 0\n"
     ]
    }
   ],
   "source": [
    "project_1=MyProejcts_adv()\n",
    "project_1.describe()"
   ]
  },
  {
   "cell_type": "markdown",
   "metadata": {},
   "source": [
    "# Exercise 3\n",
    "\n",
    "Building on our point example, add code to alter the class to store three values `x`, `y`, and `z`. Bonus if you're able to implement the distance method for this new class."
   ]
  },
  {
   "cell_type": "code",
   "execution_count": 3,
   "metadata": {},
   "outputs": [],
   "source": [
    "class Example: \n",
    "    def __init__(self,x=None,y=None,z=None):\n",
    "        self.x=x\n",
    "        self.y=y\n",
    "        self.z=z\n",
    "    def setting_xyz(self,x,y,z):\n",
    "        self.x=x\n",
    "        self.y=y\n",
    "        self.z=z\n",
    "    def getting_xyz(self):\n",
    "        return self.x,self.y,self.z\n",
    "        \n",
    "        \n",
    "        "
   ]
  },
  {
   "cell_type": "code",
   "execution_count": 4,
   "metadata": {},
   "outputs": [
    {
     "name": "stdout",
     "output_type": "stream",
     "text": [
      "Initializing the variables (None, None, None)\n",
      "Printing out the variables:  (12, 14, 15)\n"
     ]
    }
   ],
   "source": [
    "variables=Example()\n",
    "print(\"Initializing the variables\",variables.getting_xyz() )\n",
    "variables.setting_xyz(12,14,15)\n",
    "print(\"Printing out the variables: \", variables.getting_xyz())"
   ]
  },
  {
   "cell_type": "markdown",
   "metadata": {},
   "source": [
    "# Exercise 4\n",
    "\n",
    "Create an example of a class that uses either `@staticmethod` or `@classmethod`"
   ]
  },
  {
   "cell_type": "code",
   "execution_count": 5,
   "metadata": {},
   "outputs": [
    {
     "name": "stdout",
     "output_type": "stream",
     "text": [
      "John\n",
      "Doe\n"
     ]
    }
   ],
   "source": [
    "class Example:        \n",
    "    def __init__(self, first_name=None, last_name=None):\n",
    "        self.first_name = first_name\n",
    "        self.last_name = last_name\n",
    "    @classmethod\n",
    "    def from_full_name(cls, full_name): # note that it takes argument `cls`\n",
    "        first, last = full_name.split(' ')\n",
    "        return cls(first_name=first, last_name=last)\n",
    "    \n",
    "x = Example.from_full_name(\"John Doe\")\n",
    "print(x.first_name)\n",
    "print(x.last_name)"
   ]
  },
  {
   "cell_type": "markdown",
   "metadata": {},
   "source": [
    "# Exercise 5\n",
    "\n",
    "Create an object called `Student` with attributes that store the `first_name`, `last_name`, and `age` of the student. Also create an attribute `hw_grades` that stores hw grades depending on how you think it might be stored. Create methods that prints the full name of the student, adds grades to the attribute`hw_grades` and even calculates the average hw grade. Use additional attributes and methods if needed.\n",
    "\n",
    "Demonstrate that your code works by creating an instance of the class and storing the requisite information."
   ]
  },
  {
   "cell_type": "code",
   "execution_count": 121,
   "metadata": {},
   "outputs": [],
   "source": [
    "class Student:        \n",
    "    def __init__(self, first_name=None, last_name=None, age=0):\n",
    "        self.first_name = first_name\n",
    "        self.last_name = last_name\n",
    "        self.age = age\n",
    "        self.hw_grades=[]\n",
    "        \n",
    "    def setting_grades(self,grade):\n",
    "        self.hw_grades.append(grade)\n",
    "        \n",
    "    def getting_grades(self):\n",
    "        return self.hw_grades\n",
    "    \n",
    "    def getting_avg(self):\n",
    "        self.hw_grades=avg()\n",
    "        return self.hw_grades\n",
    "    \n",
    "    def getAvg(self):\n",
    "        if len(self.hw_grades)==0:\n",
    "            return 0\n",
    "        else:\n",
    "            return sum(self.hw_grades)/len(self.hw_grades)\n",
    "    \n",
    "    def toString(self): \n",
    "        message=\"student first name {}\\nStudent last name {}\\nStudent age {} years old\"\n",
    "        print(message.format(self.first_name,self.last_name,self.age))\n",
    "    \n"
   ]
  },
  {
   "cell_type": "code",
   "execution_count": 129,
   "metadata": {},
   "outputs": [
    {
     "name": "stdout",
     "output_type": "stream",
     "text": [
      "student first name John\n",
      "Student last name Moris\n",
      "Student age 24 years old\n",
      "Student's grades are:  [82, 83, 96]\n",
      "Student's average is:  87.0\n"
     ]
    }
   ],
   "source": [
    "import random\n",
    "#Getting data for student for the first time\n",
    "student1=Student(\"John\",\"Moris\",24)\n",
    "student1.toString()\n",
    "# getting exms data\n",
    "for n in range(1,4):\n",
    "    score=random.randint(75,100)\n",
    "    student1.setting_grades(score)\n",
    "print(\"Student's grades are: \" , student1.getting_grades())\n",
    "print(\"Student's average is: \" , student1.getAvg())"
   ]
  }
 ],
 "metadata": {
  "kernelspec": {
   "display_name": "Python 3",
   "language": "python",
   "name": "python3"
  },
  "language_info": {
   "codemirror_mode": {
    "name": "ipython",
    "version": 3
   },
   "file_extension": ".py",
   "mimetype": "text/x-python",
   "name": "python",
   "nbconvert_exporter": "python",
   "pygments_lexer": "ipython3",
   "version": "3.8.8"
  }
 },
 "nbformat": 4,
 "nbformat_minor": 4
}
