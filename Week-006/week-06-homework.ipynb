{
 "cells": [
  {
   "cell_type": "markdown",
   "metadata": {},
   "source": [
    "<div style=\"background: #000;\n",
    "            color: #FFF;\n",
    "            margin: 0px;\n",
    "                padding: 10px 0px 20px 0px;\n",
    "            text-align: center; \n",
    "                \">\n",
    "    <h1>Week 6 - Homework</h1>\n",
    "</div>\n",
    "\n",
    "<pre style=\"text-align:center;\">\n",
    "Exercise 1 is due Monday 10/25\n",
    "Exercise 2 is due Tuesday 10/26\n",
    "Exercise 3 is due Wednesday 10/27\n",
    "</pre>"
   ]
  },
  {
   "cell_type": "markdown",
   "metadata": {},
   "source": [
    "# Exercise 1\n",
    "\n",
    "Create a class called `Course` and a class called `Student` based on what you think they will need. Create a way to store 20 \"students\" (instances of the `Student` class into an instance of `Course` to represent our Data Science course. \n",
    "\n",
    "Demonstrate that your code works. Message on slack if stuck or need clarification."
   ]
  },
  {
   "cell_type": "code",
   "execution_count": 73,
   "metadata": {},
   "outputs": [],
   "source": [
    "class Courses:\n",
    "    def __init__(self,courseName,courseCredit,numberOfStudents=0):\n",
    "        self.courseName=courseName\n",
    "        self.courseCredit=courseCredit\n",
    "        self.numberOfStudents =numberOfStudents\n",
    "    def get_courseName(self):\n",
    "        return self.courseName\n",
    "    def get_courseCredit(self):\n",
    "        return self.courseCredit\n",
    "    def get_numberOfStudents(self):\n",
    "        return self.numberOfStudents\n",
    "    \n",
    "    "
   ]
  },
  {
   "cell_type": "code",
   "execution_count": 74,
   "metadata": {},
   "outputs": [],
   "source": [
    "class Students:\n",
    "    def __init__(self,fname,lname):\n",
    "        self.fname=fname\n",
    "        self.lname=lname\n",
    "        self.couses={}\n",
    "    def add_course(self,name):\n",
    "        if name in self.couses:\n",
    "            return f\"course already existe\"\n",
    "        else:\n",
    "            print(\"Creating new course for the student \", self.lname)\n",
    "            n=int(input(\"How many credit at this course \"))\n",
    "            obj1=Courses(name,n)\n",
    "            self.couses[name]=[obj1.get_courseName(),obj1.get_courseCredit(),obj1.get_numberOfStudents()]\n",
    "\n",
    "    def print_summary(self):\n",
    "        print('fname       lname'   )\n",
    "        print(f'{self.fname}       {self.lname}')\n",
    "        print('--------------- ---------- ----------  ----------')\n",
    "        print('Courses')\n",
    "        if len(self.couses)>0:\n",
    "            for name in self.couses:\n",
    "                print(f'{self.couses[name]}')\n",
    "        else:\n",
    "            print(\"No courses was created\")"
   ]
  },
  {
   "cell_type": "code",
   "execution_count": 75,
   "metadata": {},
   "outputs": [],
   "source": [
    "st1=Students('Mus','Boucha')"
   ]
  },
  {
   "cell_type": "code",
   "execution_count": 76,
   "metadata": {},
   "outputs": [
    {
     "name": "stdout",
     "output_type": "stream",
     "text": [
      "fname       lname\n",
      "Mus       Boucha\n",
      "--------------- ---------- ----------  ----------\n",
      "Courses\n",
      "No courses was created\n"
     ]
    }
   ],
   "source": [
    "st1.print_summary()"
   ]
  },
  {
   "cell_type": "code",
   "execution_count": 77,
   "metadata": {},
   "outputs": [
    {
     "name": "stdout",
     "output_type": "stream",
     "text": [
      "Creating new course for the student  Boucha\n",
      "How many credit at this course 6\n"
     ]
    }
   ],
   "source": [
    "st1.add_course(\"DS\")"
   ]
  },
  {
   "cell_type": "code",
   "execution_count": 78,
   "metadata": {},
   "outputs": [
    {
     "name": "stdout",
     "output_type": "stream",
     "text": [
      "fname       lname\n",
      "Mus       Boucha\n",
      "--------------- ---------- ----------  ----------\n",
      "Courses\n",
      "['DS', 6, 0]\n"
     ]
    }
   ],
   "source": [
    "st1.print_summary()"
   ]
  },
  {
   "cell_type": "code",
   "execution_count": 79,
   "metadata": {},
   "outputs": [
    {
     "name": "stdout",
     "output_type": "stream",
     "text": [
      "Creating new course for the student  Boucha\n",
      "How many credit at this course 5\n"
     ]
    }
   ],
   "source": [
    "st1.add_course(\"CS\")"
   ]
  },
  {
   "cell_type": "code",
   "execution_count": 80,
   "metadata": {},
   "outputs": [
    {
     "name": "stdout",
     "output_type": "stream",
     "text": [
      "fname       lname\n",
      "Mus       Boucha\n",
      "--------------- ---------- ----------  ----------\n",
      "Courses\n",
      "['DS', 6, 0]\n",
      "['CS', 5, 0]\n"
     ]
    }
   ],
   "source": [
    "st1.print_summary()"
   ]
  },
  {
   "cell_type": "markdown",
   "metadata": {},
   "source": [
    "# Exercise 2\n",
    "\n",
    "Create a class called `SafeFloat` that stores an attribute called `num` as an instance attribute set during initialization and sets `num_as_float` based on `num`\n",
    "\n",
    "Include the following three methods:\n",
    "\n",
    "`to_float` - that converts `num` to a float and stores that an attribute `num_as_float`. If `num` cannot be converted, set `num_as_float` to `None`. Do on mutate the original `num`, we'd like to keep it.\n",
    "\n",
    "`check_type` - that returns `True` if `num_as_float` is a float. It should create `num_as_float` if it doesn't exist. \n",
    "\n",
    "and a method that overrides the addition operator so that when instances of `SafeFloat` are added, `num_as_float` is used to add. Return the sum of the two instances or return `None` if the two cannot be added.\n",
    "\n",
    "Demonstrate that this works for strings, ints, bools and floats."
   ]
  },
  {
   "cell_type": "code",
   "execution_count": 127,
   "metadata": {},
   "outputs": [],
   "source": [
    "class SafeFloat:\n",
    "    def __init__(self,num):\n",
    "        self.num=num\n",
    "        self.num_as_float=self.to_float()\n",
    "        \n",
    "    def to_float(self):\n",
    "        if type(self.num)==str:\n",
    "            if self.num.isnumeric():\n",
    "                return float(self.num)\n",
    "            else:\n",
    "                return None\n",
    "        elif type(self.num) in [int,float]:\n",
    "            return float(self.num)\n",
    "        else:\n",
    "            return None\n",
    "    def check_type(self):\n",
    "        if type(self.num_as_float)==float:\n",
    "            return True\n",
    "        elif type(self.num_as_float)==None:\n",
    "            self.num_as_float=self.to_float(self)\n",
    "        else:\n",
    "            return False\n",
    "    def __add__(self,x):\n",
    "        if self.check_type() & x.check_type():\n",
    "            return self.num_as_float + x.num_as_float\n",
    "        else:\n",
    "            return None\n",
    "            "
   ]
  },
  {
   "cell_type": "code",
   "execution_count": 129,
   "metadata": {},
   "outputs": [
    {
     "name": "stdout",
     "output_type": "stream",
     "text": [
      "None\n",
      "6.0\n",
      "False\n",
      "True\n",
      "None\n"
     ]
    }
   ],
   "source": [
    "e=SafeFloat(\"sdf\")\n",
    "f = SafeFloat(\"6\")\n",
    "print(e.num_as_float)\n",
    "print(f.num_as_float)\n",
    "print(e.check_type())\n",
    "print(f.check_type())\n",
    "print(e + f)"
   ]
  },
  {
   "cell_type": "code",
   "execution_count": 130,
   "metadata": {},
   "outputs": [
    {
     "name": "stdout",
     "output_type": "stream",
     "text": [
      "0.0\n",
      "0.0\n",
      "True\n",
      "True\n",
      "0.0\n"
     ]
    }
   ],
   "source": [
    "\n",
    "# test with ints, floats, bools and strings\n",
    "e = SafeFloat(0)\n",
    "f = SafeFloat(0)\n",
    "print(e.num_as_float)\n",
    "print(f.num_as_float)\n",
    "print(e.check_type())\n",
    "print(f.check_type())\n",
    "print(e + f)"
   ]
  },
  {
   "cell_type": "markdown",
   "metadata": {},
   "source": [
    "# Exercise 3\n",
    "\n",
    "Create a base class `Shape` and two classes that inherits that base class called `Triangle` and `Rectangle`. Consider what those two share in common (height and width) and use that to create your base class `Shape`. Create a method for base class called `area` that returns `None` for the base class. Override that method for `Triangle` and `Rectangle` so instances of those two classes can calculate the correct area.\n",
    "\n",
    "Demonstrate that your code works."
   ]
  },
  {
   "cell_type": "code",
   "execution_count": 136,
   "metadata": {},
   "outputs": [],
   "source": [
    "class Shape:\n",
    "    def __init__(self,h,w):\n",
    "        self.w=w\n",
    "        self.h=h\n",
    "    def area(self):\n",
    "        return None\n",
    "    \n",
    "\n"
   ]
  },
  {
   "cell_type": "code",
   "execution_count": 145,
   "metadata": {},
   "outputs": [],
   "source": [
    "class Triangle(Shape):\n",
    "    def __init__(self,w,h):\n",
    "        super().__init__(w,h)\n",
    "    def area(self):\n",
    "        return self.w*self.h/2\n",
    "    \n",
    "\n",
    "\n"
   ]
  },
  {
   "cell_type": "code",
   "execution_count": 148,
   "metadata": {},
   "outputs": [],
   "source": [
    "class Rectangle(Shape):\n",
    "    def __init__(self,w,h):\n",
    "        super().__init__(w,h)\n",
    "    def area(self):\n",
    "        return self.w*self.h\n",
    "        "
   ]
  },
  {
   "cell_type": "code",
   "execution_count": 150,
   "metadata": {},
   "outputs": [
    {
     "data": {
      "text/plain": [
       "75.0"
      ]
     },
     "execution_count": 150,
     "metadata": {},
     "output_type": "execute_result"
    }
   ],
   "source": [
    "tr1=Triangle(10,15)\n",
    "tr1.area()"
   ]
  },
  {
   "cell_type": "code",
   "execution_count": 151,
   "metadata": {},
   "outputs": [
    {
     "data": {
      "text/plain": [
       "150"
      ]
     },
     "execution_count": 151,
     "metadata": {},
     "output_type": "execute_result"
    }
   ],
   "source": [
    "rct1=Rectangle(10,15)\n",
    "rct1.area()"
   ]
  }
 ],
 "metadata": {
  "kernelspec": {
   "display_name": "Python 3",
   "language": "python",
   "name": "python3"
  },
  "language_info": {
   "codemirror_mode": {
    "name": "ipython",
    "version": 3
   },
   "file_extension": ".py",
   "mimetype": "text/x-python",
   "name": "python",
   "nbconvert_exporter": "python",
   "pygments_lexer": "ipython3",
   "version": "3.8.8"
  }
 },
 "nbformat": 4,
 "nbformat_minor": 4
}
