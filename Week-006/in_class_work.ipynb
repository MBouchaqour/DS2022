{
 "cells": [
  {
   "cell_type": "code",
   "execution_count": 55,
   "id": "afc816e2",
   "metadata": {},
   "outputs": [],
   "source": [
    "# Budget Manager\n",
    "class BudgetManager:\n",
    "    def __init__(self,amount):   #constructor   \n",
    "        self.available = amount\n",
    "        self.budgets = {}\n",
    "        self.expenditure = {}\n",
    "\n",
    "    def add_budget(self, name, amount):\n",
    "        if name in self.budgets:\n",
    "            raise ValueError(\"Budget already exists.\")\n",
    "    \n",
    "        if amount > self.available:\n",
    "            raise ValueError(\"Insufficient funds.\")\n",
    "\n",
    "        self.budgets[name] =  amount\n",
    "        self.available -=  amount\n",
    "        self.expenditure[name] = 0\n",
    "        return self.available \n",
    "\n",
    "    def spend(self, name, amount):\n",
    "        if name not in self.expenditure:\n",
    "            raise ValueError(\"No such budget.\")\n",
    "        self.expenditure[self.name] += amount\n",
    "\n",
    "        budgeted = self.budgets[name]\n",
    "        spent = self.expenditure[name]\n",
    "        return budgeted - spent\n",
    "\n",
    "    def print_summary(self):\n",
    "        print('Budget          Budgeted   Spent       Remaining')\n",
    "        print('--------------- ---------- ----------  ----------')\n",
    "\n",
    "        total_budgeted = 0\n",
    "        total_spent = 0\n",
    "        total_remaining = 0\n",
    "\n",
    "        for name in self.budgets:\n",
    "            budgeted = self.budgets[name]\n",
    "            spent = self.expenditure[name]\n",
    "            remaining = budgeted - spent\n",
    "          # print(name, budgeted, spent, remaining)\n",
    "            print(f'{name:15s} {budgeted:10.2f} {spent:10.2f} {remaining:10.2f}')\n",
    "\n",
    "            total_budgeted += budgeted\n",
    "            total_spent += spent \n",
    "            total_remaining += remaining \n",
    "\n",
    "        print('--------------- ---------- ----------  ----------')\n",
    "        print(f'{\"Total\":15s} {total_budgeted:10.2f} {total_spent:10.2f}'\n",
    "                f'{total_budgeted - total_spent:10.2f}')  "
   ]
  },
  {
   "cell_type": "code",
   "execution_count": 47,
   "id": "397c81e0",
   "metadata": {},
   "outputs": [],
   "source": [
    "trip_budget=BudgetManager(1000)"
   ]
  },
  {
   "cell_type": "code",
   "execution_count": 48,
   "id": "48b086b1",
   "metadata": {},
   "outputs": [
    {
     "data": {
      "text/plain": [
       "1000"
      ]
     },
     "execution_count": 48,
     "metadata": {},
     "output_type": "execute_result"
    }
   ],
   "source": [
    "trip_budget.available"
   ]
  },
  {
   "cell_type": "code",
   "execution_count": 49,
   "id": "715b6697",
   "metadata": {},
   "outputs": [
    {
     "data": {
      "text/plain": [
       "{}"
      ]
     },
     "execution_count": 49,
     "metadata": {},
     "output_type": "execute_result"
    }
   ],
   "source": [
    "trip_budget.budgets"
   ]
  },
  {
   "cell_type": "code",
   "execution_count": 50,
   "id": "eed85b2c",
   "metadata": {},
   "outputs": [
    {
     "data": {
      "text/plain": [
       "400"
      ]
     },
     "execution_count": 50,
     "metadata": {},
     "output_type": "execute_result"
    }
   ],
   "source": [
    "trip_budget.add_budget(\"Travel\",600)"
   ]
  },
  {
   "cell_type": "code",
   "execution_count": 51,
   "id": "b53931f8",
   "metadata": {},
   "outputs": [
    {
     "data": {
      "text/plain": [
       "{'Travel': 600}"
      ]
     },
     "execution_count": 51,
     "metadata": {},
     "output_type": "execute_result"
    }
   ],
   "source": [
    "trip_budget.budgets"
   ]
  },
  {
   "cell_type": "code",
   "execution_count": 52,
   "id": "dabae5bd",
   "metadata": {},
   "outputs": [
    {
     "data": {
      "text/plain": [
       "250"
      ]
     },
     "execution_count": 52,
     "metadata": {},
     "output_type": "execute_result"
    }
   ],
   "source": [
    "trip_budget.add_budget(\"Food\",150)"
   ]
  },
  {
   "cell_type": "code",
   "execution_count": 53,
   "id": "82133e23",
   "metadata": {},
   "outputs": [
    {
     "data": {
      "text/plain": [
       "200"
      ]
     },
     "execution_count": 53,
     "metadata": {},
     "output_type": "execute_result"
    }
   ],
   "source": [
    "trip_budget.add_budget(\"Other expenses\",50)"
   ]
  },
  {
   "cell_type": "code",
   "execution_count": 54,
   "id": "a2b30033",
   "metadata": {},
   "outputs": [
    {
     "name": "stdout",
     "output_type": "stream",
     "text": [
      "Budget          Budgeted   Spent       Remaining\n",
      "--------------- ---------- ----------  ----------\n",
      "Travel              600.00       0.00     600.00\n",
      "Food                150.00       0.00     150.00\n",
      "Other expenses       50.00       0.00      50.00\n",
      "--------------- ---------- ----------  ----------\n",
      "Total               800.00       0.00    800.00\n"
     ]
    }
   ],
   "source": [
    "trip_budget.print_summary()"
   ]
  },
  {
   "cell_type": "code",
   "execution_count": 56,
   "id": "dcba2389",
   "metadata": {},
   "outputs": [
    {
     "data": {
      "text/plain": [
       "['__class__',\n",
       " '__delattr__',\n",
       " '__dict__',\n",
       " '__dir__',\n",
       " '__doc__',\n",
       " '__eq__',\n",
       " '__format__',\n",
       " '__ge__',\n",
       " '__getattribute__',\n",
       " '__gt__',\n",
       " '__hash__',\n",
       " '__init__',\n",
       " '__init_subclass__',\n",
       " '__le__',\n",
       " '__lt__',\n",
       " '__module__',\n",
       " '__ne__',\n",
       " '__new__',\n",
       " '__reduce__',\n",
       " '__reduce_ex__',\n",
       " '__repr__',\n",
       " '__setattr__',\n",
       " '__sizeof__',\n",
       " '__str__',\n",
       " '__subclasshook__',\n",
       " '__weakref__',\n",
       " 'add_budget',\n",
       " 'print_summary',\n",
       " 'spend']"
      ]
     },
     "execution_count": 56,
     "metadata": {},
     "output_type": "execute_result"
    }
   ],
   "source": [
    "dir(BudgetManager)"
   ]
  },
  {
   "cell_type": "code",
   "execution_count": 57,
   "id": "3fe929fd",
   "metadata": {},
   "outputs": [
    {
     "name": "stdout",
     "output_type": "stream",
     "text": [
      "['add_budget', 'print_summary', 'spend']\n"
     ]
    }
   ],
   "source": [
    "method_list = [method for method in dir(BudgetManager) if method.startswith('__') is False]\n",
    "print(method_list)"
   ]
  },
  {
   "cell_type": "code",
   "execution_count": null,
   "id": "b1a9391d",
   "metadata": {},
   "outputs": [],
   "source": []
  }
 ],
 "metadata": {
  "kernelspec": {
   "display_name": "Python 3",
   "language": "python",
   "name": "python3"
  },
  "language_info": {
   "codemirror_mode": {
    "name": "ipython",
    "version": 3
   },
   "file_extension": ".py",
   "mimetype": "text/x-python",
   "name": "python",
   "nbconvert_exporter": "python",
   "pygments_lexer": "ipython3",
   "version": "3.8.8"
  }
 },
 "nbformat": 4,
 "nbformat_minor": 5
}
