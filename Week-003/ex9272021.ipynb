{
 "cells": [
  {
   "cell_type": "code",
   "execution_count": null,
   "id": "a1ce3e1d",
   "metadata": {},
   "outputs": [],
   "source": [
    "# using one branch \n",
    "age=int(input(\"enter your age: \"))\n",
    "if age>=18:\n",
    "    print(\"You may be eligible to vote\")"
   ]
  },
  {
   "cell_type": "code",
   "execution_count": 3,
   "id": "15d3f12c",
   "metadata": {},
   "outputs": [
    {
     "name": "stdout",
     "output_type": "stream",
     "text": [
      "Are you a U.S citizen: Y/NY\n",
      "You may be eligible to vote\n"
     ]
    }
   ],
   "source": [
    "# using two branch \n",
    "status=input(\"Are you a U.S citizen: Y/N\")\n",
    "if status != \"Y\":\n",
    "    print(\"Sorry you can't vote\")\n",
    "else:\n",
    "    print(\"You may be eligible to vote\")"
   ]
  },
  {
   "cell_type": "code",
   "execution_count": 12,
   "id": "71ff3390",
   "metadata": {},
   "outputs": [
    {
     "name": "stdout",
     "output_type": "stream",
     "text": [
      "enter boro that you live in:jjkl\n",
      "not in NYC\n"
     ]
    }
   ],
   "source": [
    "boro=input(\"enter boro that you live in:\") #convert case\n",
    "if boro==\"NYC\":\n",
    "    print (\"great island\")\n",
    "elif boro==\"Queens\":\n",
    "    print (\"queens\")\n",
    "elif boro==\"Bronx\":\n",
    "    print (\"TKJ HQ\")\n",
    "elif boro == \"Staten Island\":\n",
    "    print (\"Yo! brooklyn\")\n",
    "else:\n",
    "    print(\"not in NYC\")\n"
   ]
  },
  {
   "cell_type": "code",
   "execution_count": 14,
   "id": "620d7ff2",
   "metadata": {},
   "outputs": [
    {
     "name": "stdout",
     "output_type": "stream",
     "text": [
      "1\n",
      "2.3\n",
      "Hello\n",
      "5\n",
      "9.8\n",
      "Great\n"
     ]
    }
   ],
   "source": [
    "the_list=[1,2.3,\"Hello\",5,9.8,\"Great\"]\n",
    "for item in the_list: print(item)"
   ]
  },
  {
   "cell_type": "code",
   "execution_count": 2,
   "id": "18dc2f78",
   "metadata": {},
   "outputs": [
    {
     "name": "stdout",
     "output_type": "stream",
     "text": [
      "Would you like to saty in loop y/n: y\n",
      "Would you like to saty in loop y/n: yes\n",
      "Would you like to saty in loop y/n: NO\n",
      "You are out of the loop now\n"
     ]
    }
   ],
   "source": [
    "x=-1\n",
    "while x !=0:\n",
    "    message= input(\"Would you like to saty in loop y/n: \")\n",
    "    if message.lower() in [\"n\",\"no\"]:\n",
    "        x=0\n",
    "    else:\n",
    "        x=1\n",
    "print(\"You are out of the loop now\")        "
   ]
  },
  {
   "cell_type": "code",
   "execution_count": null,
   "id": "5c393319",
   "metadata": {},
   "outputs": [],
   "source": []
  },
  {
   "cell_type": "code",
   "execution_count": null,
   "id": "dddecca1",
   "metadata": {},
   "outputs": [],
   "source": []
  }
 ],
 "metadata": {
  "kernelspec": {
   "display_name": "Python 3",
   "language": "python",
   "name": "python3"
  },
  "language_info": {
   "codemirror_mode": {
    "name": "ipython",
    "version": 3
   },
   "file_extension": ".py",
   "mimetype": "text/x-python",
   "name": "python",
   "nbconvert_exporter": "python",
   "pygments_lexer": "ipython3",
   "version": "3.8.8"
  }
 },
 "nbformat": 4,
 "nbformat_minor": 5
}
