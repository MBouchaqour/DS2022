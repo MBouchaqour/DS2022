{
 "cells": [
  {
   "cell_type": "markdown",
   "metadata": {},
   "source": [
    "<div style=\"background: #000;\n",
    "            color: #FFF;\n",
    "            margin: 0px;\n",
    "                padding: 10px 0px 20px 0px;\n",
    "            text-align: center; \n",
    "                \">\n",
    "    <h1>Week 3 - Homework</h1>\n",
    "</div>\n",
    "\n",
    "<hr>\n",
    "\n",
    "Exercise 1 due Monday.  \n",
    "\n",
    "Exercise 2 due Tueday.\n",
    "\n",
    "Exercise 3 due Wednesday.\n",
    "<hr>"
   ]
  },
  {
   "cell_type": "markdown",
   "metadata": {},
   "source": [
    "# Exercise 1\n",
    "\n",
    "Write a for loop that sums the values of the following list and appends the different values to the correct list.\n",
    "\n",
    "Remember what we learned about the value of an `int` and `str`.\n",
    "\n",
    "Hint: try one part before the other."
   ]
  },
  {
   "cell_type": "code",
   "execution_count": 75,
   "metadata": {},
   "outputs": [],
   "source": [
    "# list to sum\n",
    "list_vals = [82,True,'d',False,'v',7301,False,1,True,'x','F','w','Q','f',True]\n",
    "#import hashlib;print(\"list_vals is correct\" if hashlib.md5(str(list_vals).encode()).hexdigest() == '867f5d64395c44f016668cc442fb650c' else \"list_vals is incorrect\")\n"
   ]
  },
  {
   "cell_type": "code",
   "execution_count": 77,
   "metadata": {},
   "outputs": [],
   "source": [
    "# creating empty lists\n",
    "list_for_bools = []\n",
    "list_for_ints = []\n",
    "list_for_chars = []\n",
    "#initilize this variable to hold the usm of the items in the list \n",
    "sum_of_all = 0\n",
    "#looping through the original list \n",
    "for item in list_vals:\n",
    "    # check if the item is boolean\n",
    "    if type(item)==bool:\n",
    "        list_for_bools.append(item)\n",
    "        #keep tracking the sum\n",
    "        sum_of_all +=int(item)\n",
    "    # check if the item is int\n",
    "    elif type(item)==int:\n",
    "        list_for_ints.append(item)\n",
    "         #keep tracking the sum\n",
    "        sum_of_all +=item\n",
    "    # check if the item is str and the len is 1 \n",
    "    elif ((type(item)==str)&(len(item)==1)):\n",
    "        list_for_chars.append(item)\n",
    "         #keep tracking the sum\n",
    "        sum_of_all +=ord(item)"
   ]
  },
  {
   "cell_type": "code",
   "execution_count": 78,
   "metadata": {},
   "outputs": [
    {
     "name": "stdout",
     "output_type": "stream",
     "text": [
      "[True, False, False, True, True]\n",
      "[82, 7301, 1]\n",
      "['d', 'v', 'x', 'F', 'w', 'Q', 'f']\n",
      "The sum is == 8097\n",
      "lenght of list_for_bools == 5\n",
      "lenght of list_for_ints ==  3\n",
      "lenght of list_for_chars ==  7\n"
     ]
    }
   ],
   "source": [
    "# use the following to output your results:\n",
    "print(list_for_bools)\n",
    "print(list_for_ints)\n",
    "print(list_for_chars)\n",
    "print(\"The sum is ==\",sum_of_all)\n",
    "print(\"lenght of list_for_bools ==\",len(list_for_bools))\n",
    "print(\"lenght of list_for_ints == \", len(list_for_ints))\n",
    "print(\"lenght of list_for_chars == \",len(list_for_chars))"
   ]
  },
  {
   "cell_type": "markdown",
   "metadata": {},
   "source": [
    "### Final Answer: \n",
    "`sum == 8097`  \n",
    "`len(list_for_bools) == 5`  \n",
    "`len(list_for_ints) == 3`   \n",
    "`len(list_for_ints) == 7`   "
   ]
  },
  {
   "cell_type": "markdown",
   "metadata": {},
   "source": [
    "# Exercise 2\n",
    "\n",
    "Given a tuple of strings. Find the following value `x` and print it. The loop should end when `x` is found"
   ]
  },
  {
   "cell_type": "code",
   "execution_count": 79,
   "metadata": {},
   "outputs": [
    {
     "name": "stdout",
     "output_type": "stream",
     "text": [
      "Element exist:  ------\n"
     ]
    }
   ],
   "source": [
    "x = '------'\n",
    "# x='erw'\n",
    "tuple_of_strings = ('steel', 'collect', 'capable', '------', 'shelter', 'language', 'mug', 'flowers')\n",
    "\n",
    "# enter your code here:\n",
    "check=False\n",
    "for item in tuple_of_strings:\n",
    "    if item == x:\n",
    "        check=True\n",
    "        break\n",
    "if check:\n",
    "    print(\"Element exist: \", x)\n",
    "else:\n",
    "    print(\"Element does not exist: \")"
   ]
  },
  {
   "cell_type": "markdown",
   "metadata": {},
   "source": [
    "# Exercise 3\n",
    "\n",
    "Create a game in python. \n",
    "\n",
    "Rules:  \n",
    "    1. You have 3 tries to guess a secret number.   \n",
    "    2. Each try you are prompted to input a number.  \n",
    "    3. You get a success message if you guess correctly and stop looping, else you subtract a try and go again.\n",
    "    "
   ]
  },
  {
   "cell_type": "code",
   "execution_count": 31,
   "metadata": {},
   "outputs": [],
   "source": [
    "##### use secret_number in your code but don't cheat\n",
    "# importing needed libreries\n",
    "import random\n",
    "#generating a random integer number between 0 and 3\n",
    "secret_number = random.randint(0,3)    "
   ]
  },
  {
   "cell_type": "code",
   "execution_count": 81,
   "metadata": {},
   "outputs": [
    {
     "name": "stdout",
     "output_type": "stream",
     "text": [
      "Enter your guess number: 3\n",
      "Sorry, you did not get it. \n",
      "Enter your guess number: 2\n",
      "Sorry, you did not get it. \n",
      "Enter your guess number: 0\n",
      "Congrat! You got it\n"
     ]
    }
   ],
   "source": [
    "# numbers of times that user allow to repeat\n",
    "tries=3\n",
    "# keep tracking if we found the value\n",
    "findIt=False\n",
    "\n",
    "while tries>=1: # looping \n",
    "    user_try=int(input(\"Enter your guess number: \")) # promoting the user to enter guess number\n",
    "    if user_try==secret_number: # getting good guess \n",
    "        print(\"Congrat! You got it\") # printing out message \n",
    "        findIt=True # changing tracking to True\n",
    "        break  # breaking out of loop\n",
    "    else: # otherwise \n",
    "         print(\"Sorry, you did not get it. \") # user did not get it\n",
    "    tries -=1 # keep decreaing the tries\n",
    "\n",
    "# check if we did not find the value searched    \n",
    "if not findIt:\n",
    "    print(\"Sorry, you have finished all your tries. The secret number is:{} \".format(secret_number))\n",
    "\n"
   ]
  },
  {
   "cell_type": "markdown",
   "metadata": {},
   "source": [
    "# Bonus Exercise\n",
    "Research List & Dict Comprehension and try these problems. Also leave a written explanation of both.\n",
    "\n",
    "a. \n",
    "Create a list comprehension that prints the following.\n",
    "```python\n",
    "[0, '*',2, '*', 4, '*', 6]\n",
    "\n",
    "```\n",
    "\n",
    "Hint: start from the most basic list comprehension  "
   ]
  },
  {
   "cell_type": "code",
   "execution_count": 53,
   "metadata": {},
   "outputs": [
    {
     "data": {
      "text/plain": [
       "[0, '*', 2, '*', 4, '*', 6]"
      ]
     },
     "execution_count": 53,
     "metadata": {},
     "output_type": "execute_result"
    }
   ],
   "source": [
    "#First method\n",
    "a_list=[]  # creating an empty list\n",
    "initial_list=list(range(0,7)) # creating a list of integers from 0 to 6\n",
    "for element in initial_list: # looping through the list\n",
    "    if element%2 !=0: # if the element is odd append to the list *\n",
    "        a_list.append(\"*\")\n",
    "    else: # if the element is not odd, append element to the list\n",
    "        a_list.append(element)\n",
    "a_list #printing out the result       \n"
   ]
  },
  {
   "cell_type": "code",
   "execution_count": 54,
   "metadata": {},
   "outputs": [
    {
     "data": {
      "text/plain": [
       "[0, '*', 2, '*', 4, '*', 6]"
      ]
     },
     "execution_count": 54,
     "metadata": {},
     "output_type": "execute_result"
    }
   ],
   "source": [
    "#Second Method\n",
    "text=\"0*2*4*6\" # creating a text contains the desired output\n",
    "a_list=[] # creating an empty list\n",
    "for item in text: # looping through the list\n",
    "    if item.isnumeric(): # checking if the element is numeric/digit\n",
    "        a_list.append(int(item)) # if so, convert the element to integer\n",
    "    else:\n",
    "        a_list.append(item) # if not, keep the elemenet as it is\n",
    "a_list #printing out the result \n",
    "        \n"
   ]
  },
  {
   "cell_type": "markdown",
   "metadata": {},
   "source": [
    "b. Create a dict comprehension that prints the following:\n",
    "```python\n",
    "{'a': ['*', '*'], 'b': ['*', '*'],}\n",
    "\n",
    "```\n"
   ]
  },
  {
   "cell_type": "code",
   "execution_count": 73,
   "metadata": {},
   "outputs": [
    {
     "data": {
      "text/plain": [
       "{'a': ['*', '*'], 'b': ['*', '*']}"
      ]
     },
     "execution_count": 73,
     "metadata": {},
     "output_type": "execute_result"
    }
   ],
   "source": [
    "#first method\n",
    "keys=['a','b'] # creating a list contains a and b\n",
    "values=['*']*2 # creating a list contains two of * \n",
    "b_dictionnary={} # initializing a dictionnary\n",
    "for key in keys: # looping through keys list \n",
    "    b_dictionnary[key]=values # assigning key to b_dictionary and values \n",
    "b_dictionnary # printing out the dictionary\n",
    "    "
   ]
  },
  {
   "cell_type": "code",
   "execution_count": 74,
   "metadata": {},
   "outputs": [
    {
     "data": {
      "text/plain": [
       "{'a': ['*', '*'], 'b': ['*', '*']}"
      ]
     },
     "execution_count": 74,
     "metadata": {},
     "output_type": "execute_result"
    }
   ],
   "source": [
    "#second method: Direct way\n",
    "b_dictionnary ={ # creating a dictionnary that has two keys a and b with an empty list \n",
    "    'a':[],\n",
    "    'b':[]\n",
    "}\n",
    "for key in b_dictionnary: # looping through the keys of  dictionnary \n",
    "    # appending * to the values of each key in dictionary\n",
    "    b_dictionnary[key].append('*') # append * to the list \n",
    "    b_dictionnary[key].append('*') # append * to the list \n",
    "b_dictionnary    \n",
    "    "
   ]
  }
 ],
 "metadata": {
  "kernelspec": {
   "display_name": "Python 3",
   "language": "python",
   "name": "python3"
  },
  "language_info": {
   "codemirror_mode": {
    "name": "ipython",
    "version": 3
   },
   "file_extension": ".py",
   "mimetype": "text/x-python",
   "name": "python",
   "nbconvert_exporter": "python",
   "pygments_lexer": "ipython3",
   "version": "3.8.8"
  }
 },
 "nbformat": 4,
 "nbformat_minor": 4
}
