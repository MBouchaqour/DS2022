{
 "cells": [
  {
   "cell_type": "markdown",
   "metadata": {},
   "source": [
    "<div style=\"background: #000;\n",
    "            color: #FFF;\n",
    "            margin: 0px;\n",
    "                padding: 10px 0px 20px 0px;\n",
    "            text-align: center; \n",
    "                \">\n",
    "    <h1>Week 3 - Class 1 - Lab</h1>\n",
    "</div>\n"
   ]
  },
  {
   "cell_type": "markdown",
   "metadata": {},
   "source": [
    "# Question 1\n",
    "    \n",
    "Why do we need control structures and conditionals? Name one scenario we've encountered in previous assignments that could have benefitted from the use of these things. How would it have helped?\n",
    "\n",
    "# Answer 1\n",
    "We need control structures and conditionals to control structure and execute statement(s) based on some condition. \n",
    "In Exercise 1, week 2, lab 3, I faced this a question when I needed to us if statement. The question is : \"Create a dictionary and populate it with keys from 0 to 9 and a default value of \"None\". Then set the values of all keys divisible by 2 to be the value times itself.\" To work with values that are divisible by 2 I used selection (If statment). \n"
   ]
  },
  {
   "cell_type": "markdown",
   "metadata": {},
   "source": [
    "# Exercise 1\n",
    "\n",
    "Given the input variable, write conditional statements to return True if an element:\n",
    "* contains a string longer than 30.\n",
    "* is a number greater than 30.\n",
    "* is a string less than 30 characters containing a number.\n",
    "* otherwise store the value to a list."
   ]
  },
  {
   "cell_type": "code",
   "execution_count": 16,
   "metadata": {},
   "outputs": [
    {
     "name": "stdout",
     "output_type": "stream",
     "text": [
      "Enter your sentence: gdf\n",
      "Would you like to continue y/n: n\n",
      "Here is your list:  ['gdf']\n"
     ]
    }
   ],
   "source": [
    "the_list=[]  # empty list for non true values\n",
    "stay_in_loop=True   # while controller\n",
    "while stay_in_loop: # while stay_in is true \n",
    "    check=False\n",
    "    var_input=input(\"Enter your sentence: \") # user input\n",
    "    \n",
    "    #check out condition\n",
    "    if len(var_input)>30:\n",
    "        check=True\n",
    "    elif var_input.isnumeric():\n",
    "        if float(var_input)>30:\n",
    "            check=True\n",
    "    elif len(var_input)<30:\n",
    "        for item in var_input:\n",
    "            if item.isnumeric():\n",
    "                check=True\n",
    "    if check==False:\n",
    "        the_list.append(var_input)\n",
    "        \n",
    "        # to control while\n",
    "    message=input(\"Would you like to continue y/n: \")\n",
    "    if message.lower() in [\"n\",\"no\"]:\n",
    "        stay_in_loop=False\n",
    "    else:\n",
    "        stay_in_loop=True\n",
    "#print out olny those sentnces are satified with the condition\n",
    "print(\"Here is your list: \", the_list)    \n",
    "    "
   ]
  },
  {
   "cell_type": "markdown",
   "metadata": {},
   "source": [
    "# Exercise 2\n",
    "\n",
    "Create a \"switch\" statement that takes a number and prints \"fizz\" if the number is greater than 0 **and** even, \"buzz\" if greater than 0 and odd, an absolute value of the number if negative, \"ZERO\" if 0 and \"not a number\" otherwise. \n"
   ]
  },
  {
   "cell_type": "code",
   "execution_count": 15,
   "metadata": {},
   "outputs": [
    {
     "name": "stdout",
     "output_type": "stream",
     "text": [
      "Enter your number: 0\n",
      "ZERO\n"
     ]
    }
   ],
   "source": [
    "# Prompt the user to enter \n",
    "num=input(\"Enter your number: \")\n",
    "\n",
    "#check the input\n",
    "if num.isnumeric():\n",
    "    #apply our conidtions\n",
    "    if ((int(num)%2==0) & (int(num)>0)):\n",
    "        print(\"fizz\")\n",
    "    elif ((int(num) % 2 != 0) & (int(num) > 0)):\n",
    "        print(\"buzz\")\n",
    "    else:\n",
    "        print(\"ZERO\")  \n",
    "elif num.find(\"-\")!=-1:\n",
    "    x=num.replace(\"-\",\"\")\n",
    "    if x.isnumeric():\n",
    "        print(abs(int(num)))\n",
    "    else:\n",
    "        print(\"Not a number\")\n",
    "else:\n",
    "    print(\"Not a number\") \n"
   ]
  },
  {
   "cell_type": "code",
   "execution_count": 8,
   "metadata": {},
   "outputs": [],
   "source": [
    "# import string, random\n",
    "# from random import choice, randint, triangular\n",
    "# from string import ascii_letters\n",
    "\n",
    "# def random_string():\n",
    "#     letters = string.ascii_letters\n",
    "#     r = [random.choice(letters) for i in range(4)]\n",
    "#     return \"\".join(r)\n",
    "\n",
    "# def random_number():\n",
    "#     return randint(-1000,1000)\n",
    "\n",
    "# def random_bool():\n",
    "#     return bool(randint(0,1))\n",
    "    \n",
    "# def random_function():\n",
    "#     s = {\n",
    "#         0: random_string(),\n",
    "#         1: random_number(), \n",
    "#         2: random_bool(),\n",
    "#     }\n",
    "#     return s[randint(0, 2)]"
   ]
  },
  {
   "cell_type": "code",
   "execution_count": 82,
   "metadata": {},
   "outputs": [],
   "source": [
    "# value = random_function()\n",
    "# print(value)"
   ]
  },
  {
   "cell_type": "code",
   "execution_count": 400,
   "metadata": {},
   "outputs": [],
   "source": [
    "#put your code here:"
   ]
  }
 ],
 "metadata": {
  "kernelspec": {
   "display_name": "Python 3",
   "language": "python",
   "name": "python3"
  },
  "language_info": {
   "codemirror_mode": {
    "name": "ipython",
    "version": 3
   },
   "file_extension": ".py",
   "mimetype": "text/x-python",
   "name": "python",
   "nbconvert_exporter": "python",
   "pygments_lexer": "ipython3",
   "version": "3.8.8"
  }
 },
 "nbformat": 4,
 "nbformat_minor": 4
}
