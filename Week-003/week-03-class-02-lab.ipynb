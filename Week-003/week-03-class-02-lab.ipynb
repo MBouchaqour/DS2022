{
 "cells": [
  {
   "cell_type": "markdown",
   "metadata": {},
   "source": [
    "<div style=\"background: #000;\n",
    "            color: #FFF;\n",
    "            margin: 0px;\n",
    "                padding: 10px 0px 20px 0px;\n",
    "            text-align: center; \n",
    "                \">\n",
    "    <h1>Week 3 - Class -2 - Lab</h1>\n",
    "</div>\n"
   ]
  },
  {
   "cell_type": "markdown",
   "metadata": {},
   "source": [
    "# Question 1: \n",
    "\n",
    "In the future we will be using different datasets, how do you think we can utilize condtionals and control structures to clean, sort, and separate data?\n",
    "\n",
    "# Answer 1:\n",
    "We can use conditional and control structure to clean, sort, and seperte data. For example, if we want to select only the records that contains integer from a given atribute, we can apply \"IF\" statement and our condition will contain code such as type(variable)==int. We can also include another conditional statment that picks only the variables that contains strings, and so on. An exmaple of clean data, could be as the following: \n",
    "1 - check if the condition True by using If type(variable)==str\n",
    "2 - convert the variable into a nice format: nic_format=variable.title()\n"
   ]
  },
  {
   "cell_type": "markdown",
   "metadata": {},
   "source": [
    "# Exercise 1:\n",
    "\n",
    "Given any integer, create a conditional that checks if the integer is 3 digits. Print \"It's 3 digits\" if the number is three digits, print \"it's not three digits\" otherwise\n"
   ]
  },
  {
   "cell_type": "code",
   "execution_count": 54,
   "metadata": {},
   "outputs": [
    {
     "name": "stdout",
     "output_type": "stream",
     "text": [
      "Enter your number:fgdfgdfgdf\n",
      "Please enter a number not a text\n"
     ]
    }
   ],
   "source": [
    "\n",
    "try:\n",
    "    num=int(input(\"Enter your number:\"))\n",
    "    if(99<num<1000):\n",
    "        print(\"{} is a 3 digit number \".format(num))\n",
    "    else:\n",
    "        print(\"{} is not a 3 digit number\".format(num))\n",
    "except:\n",
    "    print(\"Please enter a number not a text\")"
   ]
  },
  {
   "cell_type": "code",
   "execution_count": 55,
   "metadata": {},
   "outputs": [
    {
     "name": "stdout",
     "output_type": "stream",
     "text": [
      "Enter your number:909\n",
      "909 is a 3 digit number \n"
     ]
    }
   ],
   "source": [
    "# alternative way to do it\n",
    "num=int(input(\"Enter your number:\"))\n",
    "if len(str(num))==3:\n",
    "    print(\"{} is a 3 digit number \".format(num))\n",
    "else:\n",
    "    print(\"{} is not a 3 digit number\".format(num))\n",
    "\n",
    " "
   ]
  },
  {
   "cell_type": "markdown",
   "metadata": {},
   "source": [
    "# Exercise 2:\n",
    "\n",
    "Write a conditional to apply the correct amount of tax depending on how much is spent on a purchase.\n",
    "\n",
    "        **Cost price**                                                        **Tax**\n",
    "        Greater than 100000                                                    15 %\n",
    "        Greater than 50000 and less than or equal to 100000                    10%\n",
    "        less than or equal to 50000                                            5%\n",
    "        \n",
    "Print the total amount including tax"
   ]
  },
  {
   "cell_type": "code",
   "execution_count": 87,
   "metadata": {},
   "outputs": [],
   "source": [
    "#data\n",
    "cost_price= {\n",
    "    100_000:0.15,\n",
    "    50_000:0.1,\n",
    "    0:0.05\n",
    "}"
   ]
  },
  {
   "cell_type": "code",
   "execution_count": 73,
   "metadata": {},
   "outputs": [],
   "source": [
    "#function\n",
    "def comput_tax(x,data=cost_price):\n",
    "    tax=0.0\n",
    "    for key, val in data.items():\n",
    "        if float(x)>key:\n",
    "            tax=val*float(x)\n",
    "            break\n",
    "    return tax\n",
    "        "
   ]
  },
  {
   "cell_type": "code",
   "execution_count": 88,
   "metadata": {},
   "outputs": [
    {
     "name": "stdout",
     "output_type": "stream",
     "text": [
      "How much was the purchase? 676856756756\n",
      "You purchased $676856756756 and tax you paid is $101528513513.4, the total amount you paid is $778385270269.4 \n"
     ]
    }
   ],
   "source": [
    "# User interface\n",
    "purchase = input(\"How much was the purchase? \")\n",
    "# comput_tax(purchase)\n",
    "tax=comput_tax(purchase)\n",
    "total_amout=float(purchase)+tax\n",
    "print(\"You purchased ${} and tax you paid is ${}, the total amount you paid is ${} \".format(purchase,tax,total_amout))"
   ]
  },
  {
   "cell_type": "markdown",
   "metadata": {},
   "source": [
    "# Exercise 3\n",
    "\n",
    "Provided a dictionary of users, take an input value and create a conditonal to determine if the password enter matches the user's password.\n",
    "\n",
    "print the users name, admin status and age\n",
    "\n",
    "If the user entered in the input is not in the users print \"Username/Password Incorrect\"\n",
    "\n",
    "If the password enter in the input is incorrect print \"Username/Password Incorrect\""
   ]
  },
  {
   "cell_type": "code",
   "execution_count": 89,
   "metadata": {},
   "outputs": [],
   "source": [
    "users = {\n",
    "    \"Joe\": {\n",
    "        \"is_admin\": False,\n",
    "        \"age\" : 22,\n",
    "        \"password\": \"newpassword1\"\n",
    "    },\n",
    "    \"Craig\": {\n",
    "        \"is_admin\": True,\n",
    "        \"age\" : 35,\n",
    "        \"password\": \"testword4321\"\n",
    "    },\n",
    "    \"Trixy\": {\n",
    "        \"is_admin\": False,\n",
    "        \"age\" : 18,\n",
    "        \"password\": \"catdoor2\"\n",
    "    },\n",
    "    \"Matt\": {\n",
    "        \"is_admin\": True,\n",
    "        \"age\" : 31,\n",
    "        \"password\": \"yoyo45alma\"\n",
    "    },\n",
    "    \"Tim\": {\n",
    "        \"is_admin\": False,\n",
    "        \"age\" : 27,\n",
    "        \"password\": \"p@$$w0rd!23\"\n",
    "    },\n",
    "}"
   ]
  },
  {
   "cell_type": "code",
   "execution_count": 86,
   "metadata": {},
   "outputs": [
    {
     "name": "stdout",
     "output_type": "stream",
     "text": [
      "Enter User's name and password separated by a comma: joe, newpassword1\n",
      "Welcom Joe, admin status: False, age: 22\n"
     ]
    }
   ],
   "source": [
    "input_value = input(\"Enter User's name and password separated by a comma: \")\n",
    "data=input_value.split(\",\")\n",
    "name=data[0].strip()\n",
    "name=name.title()\n",
    "password=data[1].strip()\n",
    "message=\"Username/Password Incorrect\"\n",
    "if name in users.keys():\n",
    "    if password==users[name]['password']:\n",
    "        print(\"Welcom {}, admin status: {}, age: {}\".format(name,users[name]['is_admin'], users[name]['age']))\n",
    "    else:\n",
    "        print(message)\n",
    "else:\n",
    "    print(message)\n",
    "        "
   ]
  },
  {
   "cell_type": "code",
   "execution_count": null,
   "metadata": {},
   "outputs": [],
   "source": []
  }
 ],
 "metadata": {
  "kernelspec": {
   "display_name": "Python 3",
   "language": "python",
   "name": "python3"
  },
  "language_info": {
   "codemirror_mode": {
    "name": "ipython",
    "version": 3
   },
   "file_extension": ".py",
   "mimetype": "text/x-python",
   "name": "python",
   "nbconvert_exporter": "python",
   "pygments_lexer": "ipython3",
   "version": "3.8.8"
  }
 },
 "nbformat": 4,
 "nbformat_minor": 4
}
