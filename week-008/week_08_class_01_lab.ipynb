{
  "cells": [
    {
      "cell_type": "markdown",
      "metadata": {
        "id": "zndGg0rNFH7b"
      },
      "source": [
        "<div style=\"background: #000;\n",
        "            color: #FFF;\n",
        "            margin: 0px;\n",
        "                padding: 10px 0px 20px 0px;\n",
        "            text-align: center; \n",
        "                \">\n",
        "    <h1>Week 8 - Lab 1</h1>\n",
        "</div>"
      ]
    },
    {
      "cell_type": "markdown",
      "metadata": {
        "id": "_no9KBSAFH7e"
      },
      "source": [
        "# Question 1\n",
        "\n",
        "What is the use of read() function in Python? Why it is important?"
      ]
    },
    {
      "cell_type": "markdown",
      "metadata": {},
      "source": [
        "# Answer\n",
        "The read function basically returns the specified number of byts from the file that apply to it. "
      ]
    },
    {
      "cell_type": "markdown",
      "metadata": {
        "id": "KV1pFuS8FH7e"
      },
      "source": [
        "# Exercise 1\n",
        "\n",
        "Create a txt file (file extention .txt) and title it reading_python.ipynb. In the txt file, write: \"It's time to read in python!\".\n",
        "\n",
        "Open the txt file in Visual Studio Code using read() .\n",
        "\n",
        "Insert that screenshot below showing you were successful:"
      ]
    },
    {
      "cell_type": "code",
      "execution_count": 5,
      "metadata": {},
      "outputs": [],
      "source": [
        "f = open(\"reading_python.ipynb.txt\", \"a\")\n",
        "f.write(\"It's time to read in python\")\n",
        "f.close()\n"
      ]
    },
    {
      "cell_type": "code",
      "execution_count": 6,
      "metadata": {},
      "outputs": [
        {
          "name": "stdout",
          "output_type": "stream",
          "text": [
            "It's time to read in python\n"
          ]
        }
      ],
      "source": [
        "#open and read the file after the appending:\n",
        "f = open(\"reading_python.ipynb.txt\", \"r\")\n",
        "print(f.read())"
      ]
    },
    {
      "cell_type": "markdown",
      "metadata": {
        "id": "fzpO6jPxFH7f"
      },
      "source": [
        "# Exercise 2\n",
        "\n",
        "From the helloworld.html file from the lesson, use Python to update the webpage to display an image of your choice. Upload your code and a screenshot of your updated webpage.\n",
        "\n"
      ]
    },
    {
      "cell_type": "code",
      "execution_count": 7,
      "metadata": {
        "id": "GaJ9r_AO7ANd"
      },
      "outputs": [
        {
          "data": {
            "text/plain": [
              "True"
            ]
          },
          "execution_count": 7,
          "metadata": {},
          "output_type": "execute_result"
        }
      ],
      "source": [
        "import webbrowser\n",
        "import os\n",
        "  \n",
        "# to open/create a new html file in the write mode\n",
        "webbrowser.open_new_tab('helloworld.html')"
      ]
    },
    {
      "cell_type": "code",
      "execution_count": 9,
      "metadata": {},
      "outputs": [],
      "source": [
        "updating_text=\"\"\"\n",
        "<!DOCTYPE html>\n",
        "<html>\n",
        "<head>\n",
        "<title>Welcome to Python & HTML </title>\n",
        "</head>\n",
        "<body>\n",
        "\n",
        "<h1></h1>\n",
        "<p>Hello World.</p>\n",
        "<h2>I love cat</h2>\n",
        "<img src=\"https://i1.wp.com/katzenworld.co.uk/wp-content/uploads/2019/06/funny-cat.jpeg?fit=1920%2C1920&ssl=1\" alt=\"W3Schools.com\" style=\"width:104px;height:142px;\">\n",
        "\n",
        "</body>\n",
        "</html>\n",
        "\"\"\""
      ]
    },
    {
      "cell_type": "code",
      "execution_count": 10,
      "metadata": {},
      "outputs": [],
      "source": [
        "f = open(\"helloworld.html\", \"w\")\n",
        "f.write(updating_text)\n",
        "f.close()"
      ]
    },
    {
      "cell_type": "code",
      "execution_count": 12,
      "metadata": {},
      "outputs": [
        {
          "data": {
            "text/plain": [
              "True"
            ]
          },
          "execution_count": 12,
          "metadata": {},
          "output_type": "execute_result"
        }
      ],
      "source": [
        "webbrowser.open_new_tab('helloworld.html')"
      ]
    },
    {
      "cell_type": "markdown",
      "metadata": {},
      "source": [
        "<img src='cat.jpg'>"
      ]
    },
    {
      "cell_type": "markdown",
      "metadata": {
        "id": "QtFmSH8zIP4z"
      },
      "source": [
        "### **Bonus**\n",
        "\n",
        "---\n",
        "\n",
        "\n",
        "when using the open() function/parameters what are the 6 available file mode's that can be used? please give a  brief description of what these modes do.\n",
        "\n",
        "\n"
      ]
    }
  ],
  "metadata": {
    "colab": {
      "collapsed_sections": [],
      "name": "week-08-class-01-lab.ipynb",
      "provenance": []
    },
    "interpreter": {
      "hash": "4fe423c96aa21f041534bead582c2e6c3f42ab46597860deda9051867850283b"
    },
    "kernelspec": {
      "display_name": "Python 3.8.5 32-bit",
      "name": "python3"
    },
    "language_info": {
      "codemirror_mode": {
        "name": "ipython",
        "version": 3
      },
      "file_extension": ".py",
      "mimetype": "text/x-python",
      "name": "python",
      "nbconvert_exporter": "python",
      "pygments_lexer": "ipython3",
      "version": "3.8.5"
    }
  },
  "nbformat": 4,
  "nbformat_minor": 0
}
