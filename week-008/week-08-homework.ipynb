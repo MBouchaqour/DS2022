{
 "cells": [
  {
   "cell_type": "markdown",
   "metadata": {},
   "source": [
    "<div style=\"background: #000;\n",
    "            color: #FFF;\n",
    "            margin: 0px;\n",
    "                padding: 10px 0px 20px 0px;\n",
    "            text-align: center; \n",
    "                \">\n",
    "    <h1>Week 8 - Homework</h1>\n",
    "</div>\n",
    "\n",
    "<pre style=\"text-align:center;\">\n",
    "Exercise 1,2 and 3 are due Tuesday Novemeber 9th\n",
    "</pre>"
   ]
  },
  {
   "cell_type": "markdown",
   "metadata": {},
   "source": [
    "# Exercise 1\n",
    "\n",
    "Create a class called `Person`.\n",
    "\n",
    "Then create two classes, one called `Child` and one called `Adult` that inherit from the Person Class.  \n",
    "\n",
    "These methods should be available to all classes. \n",
    "<br>`print_age`\n",
    "<br>`print_name`\n",
    "\n",
    "\n",
    "\n",
    "These methods should only be available to the `Child` Class\n",
    "<br>`age_until_adult`\n",
    "<br>`current_school`\n",
    "\n",
    "\n",
    "\n",
    "\n",
    "\n",
    "These methods should only be available to the `Adult Class`\n",
    "<br>`age_until_senior`\n",
    "<br>`current_job`\n",
    "\n",
    "\n",
    "Create an instance of all 3 classes, and prove that all functions work for every class"
   ]
  },
  {
   "cell_type": "code",
   "execution_count": 25,
   "metadata": {},
   "outputs": [],
   "source": [
    "class Person():\n",
    "    def __init__(self,name,age):\n",
    "        self.name=name\n",
    "        self.age=age\n",
    "\n",
    "    def print_age(self):\n",
    "        print(self.age)\n",
    "    def print_name(self):\n",
    "        print(self.name)\n",
    "\n",
    "class Child(Person):\n",
    "    def __init__(self,name,age,school):\n",
    "        super().__init__(name,age)\n",
    "        self.school=school\n",
    "    def age_until_adult(self):\n",
    "        diffAge=18-self.age\n",
    "        return diffAge\n",
    "    def current_school(self):\n",
    "        return self.school\n",
    "\n",
    "class Adult(Person):\n",
    "    def __init__(self,name,age,job):\n",
    "        super().__init__(name,age)\n",
    "        self.job=job\n",
    "    def age_until_senior(self):\n",
    "        diffAge=55-self.age\n",
    "        return diffAge\n",
    "    def current_job(self):\n",
    "        return self.job\n"
   ]
  },
  {
   "cell_type": "code",
   "execution_count": 22,
   "metadata": {},
   "outputs": [
    {
     "name": "stdout",
     "output_type": "stream",
     "text": [
      "The person: Mustapha their agr is 33\n"
     ]
    }
   ],
   "source": [
    "#creating a person object\n",
    "p1=Person('Mustapha',33)\n",
    "#cheking some info\n",
    "message='The person: {} their agr is {}'\n",
    "print(message.format(p1.name,p1.age))"
   ]
  },
  {
   "cell_type": "code",
   "execution_count": 23,
   "metadata": {},
   "outputs": [
    {
     "name": "stdout",
     "output_type": "stream",
     "text": [
      "Child name: Mustapha\n",
      "Child school: High School IV\n",
      "Child age: 13\n",
      "Child age until adult: 5\n"
     ]
    }
   ],
   "source": [
    "#creating a subclass child\n",
    "c1=Child('Mustapha',13,'High School IV')\n",
    "message='Child name: {}\\nChild school: {}\\nChild age: {}\\nChild age until adult: {}'\n",
    "diffAge=c1.age_until_adult()\n",
    "currentSchool=c1.current_school()\n",
    "print(message.format(c1.name,currentSchool,c1.age,diffAge))"
   ]
  },
  {
   "cell_type": "code",
   "execution_count": 29,
   "metadata": {},
   "outputs": [
    {
     "name": "stdout",
     "output_type": "stream",
     "text": [
      "Adult name: Mustapha\n",
      "current job : Teacher\n",
      "age: 23\n",
      "age until senior: 32\n"
     ]
    }
   ],
   "source": [
    "#creating a subclass Adult\n",
    "a1=Adult('Mustapha',23,'Teacher')\n",
    "message='Adult name: {}\\ncurrent job : {}\\nage: {}\\nage until senior: {}'\n",
    "diffAge=a1.age_until_senior()\n",
    "currentJob=a1.current_job()\n",
    "print(message.format(a1.name,currentJob,a1.age,diffAge))"
   ]
  },
  {
   "cell_type": "markdown",
   "metadata": {},
   "source": [
    "# Exercise 2\n",
    "\n",
    "Create a class called `Animal`.\n",
    "\n",
    "It should have the following attributes:\n",
    "<br>\n",
    "<br>`name` which is a string that contains its name\n",
    "<br>`has_hair` which is a bool\n",
    "<br>`has_feathers` which is a bool\n",
    "<br>`age` which is an integer\n",
    "<br>`diet` which is a string containing a food that it's diet. Either Grain or Pellets.\n",
    "\n",
    "____________\n",
    "Animals should have the following functions available to them\n",
    "\n",
    "`description` which prints out its name and age in a line.\n",
    "____________\n",
    "\n",
    "Create two classes that inherit from `Animal`.\n",
    "\n",
    "`Cow` and `Chicken`. Chickens eat pellets, Cows eat Grain. \n",
    "____________\n",
    "\n",
    "Cows should have the following attribute\n",
    "\n",
    "`times_milked` which is starts at 0\n",
    "\n",
    "Cows should have the functions\n",
    "\n",
    "`milk` which increases the times_milked by 1. Cows under 1 year old cannot be milked.\n",
    "\n",
    "____________\n",
    "Chickens should have the attribute\n",
    "\n",
    "`eggs_laid` which is starts at 0\n",
    "\n",
    "Chickens should have the function \n",
    "\n",
    "`lay_egg` which increases egg_laid by 5. Chickens under 6 months cannot lay eggs.\n",
    "\n",
    "____________\n",
    "\n"
   ]
  },
  {
   "cell_type": "code",
   "execution_count": 42,
   "metadata": {},
   "outputs": [],
   "source": [
    "class Animal():\n",
    "    def __init__(self,name,age,diet,has_hair=True,has_features=True):\n",
    "        self.name=name\n",
    "        self.has_hair=has_hair\n",
    "        self.has_features=has_features\n",
    "        self.age=age\n",
    "        self.diet=diet\n",
    "       \n",
    "    def description(self):\n",
    "        print(self.name,self.age)\n",
    "\n",
    "class Cow(Animal):\n",
    "    def __init__(self,name,age,diet='Grain',has_hair=True,has_features=True,times_milked=0):\n",
    "        super().__init__(name,age,diet='Grain',has_hair=True,has_features=True)\n",
    "        self.times_milked=times_milked\n",
    "\n",
    "    def milk(self):\n",
    "        if self.age>1:\n",
    "            self.times_milked +=1\n",
    "        else:\n",
    "            print('Cow less than 1 year cannot be milked')\n",
    "\n",
    "class Chicken(Animal):\n",
    "    def __init__(self,name,age,diet='Grain',has_hair=True,has_features=True,eggs_laid=0): \n",
    "        super().__init__(name,age,diet='pellets',has_hair=True,has_features=True)\n",
    "        self.eggs_laid=eggs_laid\n",
    "\n",
    "    def lay_egg(self):\n",
    "        if self.age>6:\n",
    "            self.eggs_laid +=5\n",
    "        else:\n",
    "            print('Chickes under 6 month cannot lay eggs')\n",
    "\n"
   ]
  },
  {
   "cell_type": "code",
   "execution_count": 43,
   "metadata": {},
   "outputs": [
    {
     "data": {
      "text/plain": [
       "1"
      ]
     },
     "execution_count": 43,
     "metadata": {},
     "output_type": "execute_result"
    }
   ],
   "source": [
    "#creating cow\n",
    "c1=Cow('LoliBo',2)\n",
    "c1.milk()\n",
    "c1.times_milked"
   ]
  },
  {
   "cell_type": "code",
   "execution_count": 44,
   "metadata": {},
   "outputs": [
    {
     "name": "stdout",
     "output_type": "stream",
     "text": [
      "Chickes under 6 month cannot lay eggs\n"
     ]
    }
   ],
   "source": [
    "#creaitng Chicken\n",
    "chicken1=Chicken('myCat',4)\n",
    "chicken1.lay_egg()\n"
   ]
  },
  {
   "cell_type": "markdown",
   "metadata": {},
   "source": [
    "# Exercise 3\n",
    "\n",
    "Create a class called `Car`.\n",
    "\n",
    "It should contain a private attribute called `fuel`. Fuel `ALWAYS` starts at 50.\n",
    "\n",
    "Use setter and getter functions to protect our attribute. When a user tries to change `fuel`, it should raise a ValueError if Fuel is < 0 or > 100\n",
    "\n"
   ]
  },
  {
   "cell_type": "code",
   "execution_count": 53,
   "metadata": {},
   "outputs": [],
   "source": [
    "class Car():\n",
    "    def __init__(self,car_model):\n",
    "        self.car_model=car_model\n",
    "        self.__fuel=50\n",
    "    def setter_fuel(self,new_value):\n",
    "        if 0<new_value<100:\n",
    "            self.__fuel=new_value\n",
    "        else:\n",
    "            raise ValueError(\"Please check Fiel value\")\n",
    "    def getter_fuel(self):\n",
    "        return self.__fuel\n"
   ]
  },
  {
   "cell_type": "code",
   "execution_count": 54,
   "metadata": {},
   "outputs": [
    {
     "ename": "ValueError",
     "evalue": "Please check Fiel value",
     "output_type": "error",
     "traceback": [
      "\u001b[1;31m---------------------------------------------------------------------------\u001b[0m",
      "\u001b[1;31mValueError\u001b[0m                                Traceback (most recent call last)",
      "\u001b[1;32m~\\AppData\\Local\\Temp/ipykernel_2068/2003878747.py\u001b[0m in \u001b[0;36m<module>\u001b[1;34m\u001b[0m\n\u001b[0;32m      1\u001b[0m \u001b[0mcar1\u001b[0m\u001b[1;33m=\u001b[0m\u001b[0mCar\u001b[0m\u001b[1;33m(\u001b[0m\u001b[1;34m'BMW'\u001b[0m\u001b[1;33m)\u001b[0m\u001b[1;33m\u001b[0m\u001b[1;33m\u001b[0m\u001b[0m\n\u001b[1;32m----> 2\u001b[1;33m \u001b[0mcar1\u001b[0m\u001b[1;33m.\u001b[0m\u001b[0msetter_fuel\u001b[0m\u001b[1;33m(\u001b[0m\u001b[1;36m101\u001b[0m\u001b[1;33m)\u001b[0m\u001b[1;33m\u001b[0m\u001b[1;33m\u001b[0m\u001b[0m\n\u001b[0m\u001b[0;32m      3\u001b[0m \u001b[0mcar1\u001b[0m\u001b[1;33m.\u001b[0m\u001b[0mgetter_fuel\u001b[0m\u001b[1;33m(\u001b[0m\u001b[1;33m)\u001b[0m\u001b[1;33m\u001b[0m\u001b[1;33m\u001b[0m\u001b[0m\n",
      "\u001b[1;32m~\\AppData\\Local\\Temp/ipykernel_2068/3943796430.py\u001b[0m in \u001b[0;36msetter_fuel\u001b[1;34m(self, new_value)\u001b[0m\n\u001b[0;32m      7\u001b[0m             \u001b[0mself\u001b[0m\u001b[1;33m.\u001b[0m\u001b[0m__fuel\u001b[0m\u001b[1;33m=\u001b[0m\u001b[0mnew_value\u001b[0m\u001b[1;33m\u001b[0m\u001b[1;33m\u001b[0m\u001b[0m\n\u001b[0;32m      8\u001b[0m         \u001b[1;32melse\u001b[0m\u001b[1;33m:\u001b[0m\u001b[1;33m\u001b[0m\u001b[1;33m\u001b[0m\u001b[0m\n\u001b[1;32m----> 9\u001b[1;33m             \u001b[1;32mraise\u001b[0m \u001b[0mValueError\u001b[0m\u001b[1;33m(\u001b[0m\u001b[1;34m\"Please check Fiel value\"\u001b[0m\u001b[1;33m)\u001b[0m\u001b[1;33m\u001b[0m\u001b[1;33m\u001b[0m\u001b[0m\n\u001b[0m\u001b[0;32m     10\u001b[0m     \u001b[1;32mdef\u001b[0m \u001b[0mgetter_fuel\u001b[0m\u001b[1;33m(\u001b[0m\u001b[0mself\u001b[0m\u001b[1;33m)\u001b[0m\u001b[1;33m:\u001b[0m\u001b[1;33m\u001b[0m\u001b[1;33m\u001b[0m\u001b[0m\n\u001b[0;32m     11\u001b[0m         \u001b[1;32mreturn\u001b[0m \u001b[0mself\u001b[0m\u001b[1;33m.\u001b[0m\u001b[0m__fuel\u001b[0m\u001b[1;33m\u001b[0m\u001b[1;33m\u001b[0m\u001b[0m\n",
      "\u001b[1;31mValueError\u001b[0m: Please check Fiel value"
     ]
    }
   ],
   "source": [
    "car1=Car('BMW')\n",
    "car1.setter_fuel(101)\n",
    "car1.getter_fuel()\n"
   ]
  },
  {
   "cell_type": "code",
   "execution_count": 55,
   "metadata": {},
   "outputs": [
    {
     "data": {
      "text/plain": [
       "70"
      ]
     },
     "execution_count": 55,
     "metadata": {},
     "output_type": "execute_result"
    }
   ],
   "source": [
    "car1.setter_fuel(70)\n",
    "car1.getter_fuel()"
   ]
  },
  {
   "cell_type": "markdown",
   "metadata": {},
   "source": [
    "# Question 1\n",
    "\n",
    "What is a class?\n",
    "\n",
    "# Answer 1\n",
    "it's how we tell python to build our object\n"
   ]
  },
  {
   "cell_type": "markdown",
   "metadata": {},
   "source": [
    "# Question 2\n",
    "\n",
    "<br>What is a the difference between a Parent Class and a Child Class?\n",
    "\n",
    "# Answer 2\n",
    "\n",
    "Child class is a subclass for the class Parent. Child class will inherritance from Parent class if we don't want to override Parent class data\n"
   ]
  },
  {
   "cell_type": "markdown",
   "metadata": {},
   "source": [
    "# Question 3\n",
    "How does inheritance help us as programmers?\n",
    "\n",
    "# Answer 3\n",
    "Inheritance helps us relate classes and reuse functions and attributes wihtout going and creat them again, except if we want to override them. \n"
   ]
  }
 ],
 "metadata": {
  "interpreter": {
   "hash": "4fe423c96aa21f041534bead582c2e6c3f42ab46597860deda9051867850283b"
  },
  "kernelspec": {
   "display_name": "Python 3.8.5 32-bit",
   "name": "python3"
  },
  "language_info": {
   "codemirror_mode": {
    "name": "ipython",
    "version": 3
   },
   "file_extension": ".py",
   "mimetype": "text/x-python",
   "name": "python",
   "nbconvert_exporter": "python",
   "pygments_lexer": "ipython3",
   "version": "3.8.5"
  }
 },
 "nbformat": 4,
 "nbformat_minor": 4
}
