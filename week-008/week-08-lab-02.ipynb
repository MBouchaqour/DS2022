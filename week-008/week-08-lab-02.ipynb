{
 "cells": [
  {
   "cell_type": "markdown",
   "metadata": {},
   "source": [
    "<div style=\"background: #000;\n",
    "            color: #FFF;\n",
    "            margin: 0px;\n",
    "                padding: 10px 0px 20px 0px;\n",
    "            text-align: center; \n",
    "                \">\n",
    "    <h1>Week 8 - Lab</h1>\n",
    "</div>\n"
   ]
  },
  {
   "cell_type": "markdown",
   "metadata": {},
   "source": [
    "# Exercise 1\n",
    "\n",
    "Create a class called `Person`.\n",
    "Make an attribute for the class called `x` and set it equal to 5.\n",
    "\n",
    "Create an instance of the `Person` class.\n",
    "Print out the `x` attribute of the instance."
   ]
  },
  {
   "cell_type": "code",
   "execution_count": 4,
   "metadata": {},
   "outputs": [
    {
     "data": {
      "text/plain": [
       "5"
      ]
     },
     "execution_count": 4,
     "metadata": {},
     "output_type": "execute_result"
    }
   ],
   "source": [
    "class Person:\n",
    "    x=5\n",
    "p1=Person()\n",
    "p1.x"
   ]
  },
  {
   "cell_type": "markdown",
   "metadata": {},
   "source": [
    "# Excerise 2\n",
    "\n",
    "Create a class called `Student` with  the following attributes \n",
    "<br>`first_name`\n",
    "<br>`last_name`\n",
    "<br>`age`\n",
    "<br>`hw_grades` \n",
    "# `THINK ABOUT WHAT DATA STRUCTURE WE SHOULD BE USING FOR HW GRADES`\n",
    "# `THINK ABOUT THE DATA STRUCTURES WE KNOW. WHAT SEEMS APPROPRIATE? LISTS, DICTS, TUPLES OR SETS?`\n",
    "\n",
    "Create methods that:\n",
    "<br>Print the full name of the student\n",
    "<br>Adds a grade to the attribute `hw_grades` \n",
    "<br>Calculates the Student's average hw grade\n",
    "\n",
    "Create an instance of the class and ensure that all the methods works."
   ]
  },
  {
   "cell_type": "code",
   "execution_count": 248,
   "metadata": {},
   "outputs": [],
   "source": [
    "class Student:\n",
    "    def __init__(self,first_name,last_name,age,hw_grades=None):\n",
    "        self.first_name=first_name\n",
    "        self.last_name=last_name\n",
    "        self.age=age\n",
    "        self.hw_grades=self.add_grades(hw_grades)\n",
    "\n",
    "    def add_grades(self,hw_grades):\n",
    "        empty_list=[]\n",
    "        if hw_grades==None: \n",
    "            self.hw_grades=empty_list\n",
    "        if type(hw_grades)==int:\n",
    "            empty_list.append(hw_grades)\n",
    "            self.hw_grades=empty_list\n",
    "        elif type(hw_grades)==list:\n",
    "            self.hw_grades.extend(hw_grades)\n",
    "        return self.hw_grades\n",
    "    \n",
    "            \n",
    "    def full_name(self):\n",
    "        return (self.first_name +\" \" + self.last_name)\n",
    "    \n",
    "    def average(self):\n",
    "        if self.hw_grades==None:\n",
    "            return 0\n",
    "        if len(self.hw_grades)==0:\n",
    "            return 0\n",
    "        else:\n",
    "            return float(sum(self.hw_grades))/len(self.hw_grades)\n",
    "    \n"
   ]
  },
  {
   "cell_type": "code",
   "execution_count": 249,
   "metadata": {},
   "outputs": [
    {
     "name": "stdout",
     "output_type": "stream",
     "text": [
      "student full name is: Mus Boucha\n",
      "student average is :  89.0\n"
     ]
    }
   ],
   "source": [
    "# creating an object s1 of class Student\n",
    "# s1 has no hw grade assigned yet\n",
    "s1=Student(\"Mus\",\"Boucha\",33,89)\n",
    "\n",
    "# printing out student full name \n",
    "print(\"student full name is:\" , s1.full_name())\n",
    "#checking student average\n",
    "print(\"student average is : \" , s1.average())"
   ]
  },
  {
   "cell_type": "code",
   "execution_count": 250,
   "metadata": {},
   "outputs": [
    {
     "name": "stdout",
     "output_type": "stream",
     "text": [
      "average grade is:  100.0\n"
     ]
    }
   ],
   "source": [
    "# Adding grades to student s1\n",
    "s1.add_grades([100,99])\n",
    "s1.add_grades(100)\n",
    "s1.add_grades(100)\n",
    "\n",
    "#calculating average grade of student s1\n",
    "print(\"average grade is: \", s1.average())"
   ]
  },
  {
   "cell_type": "code",
   "execution_count": 182,
   "metadata": {},
   "outputs": [
    {
     "name": "stdout",
     "output_type": "stream",
     "text": [
      "insider:  [100, 100, 100, 99]\n"
     ]
    },
    {
     "data": {
      "text/plain": [
       "99.75"
      ]
     },
     "execution_count": 182,
     "metadata": {},
     "output_type": "execute_result"
    }
   ],
   "source": [
    "s1.average()"
   ]
  },
  {
   "cell_type": "markdown",
   "metadata": {},
   "source": [
    "# Exercise 3:\n",
    "Create a class called `Square` that overloads the addition operator by adding the area of two squares. You will need at least an attribute for length, a method for calculating area and the overloaded + operator method.\n",
    "\n",
    "e.g. Square(3) + Square(4) == 25"
   ]
  },
  {
   "cell_type": "code",
   "execution_count": 12,
   "metadata": {},
   "outputs": [],
   "source": [
    "class Square():\n",
    "    def __init__(self,length):\n",
    "        self.length=length\n",
    "    \n",
    "    def area(self):\n",
    "        return self.length**2\n",
    "\n",
    "    def __add__(self,other):\n",
    "        return self.area()+other.area()\n",
    "\n",
    "    def __repr__(self):\n",
    "        return self.area\n",
    "        \n"
   ]
  },
  {
   "cell_type": "code",
   "execution_count": 15,
   "metadata": {},
   "outputs": [
    {
     "data": {
      "text/plain": [
       "25"
      ]
     },
     "execution_count": 15,
     "metadata": {},
     "output_type": "execute_result"
    }
   ],
   "source": [
    "Square(3)+Square(4)"
   ]
  },
  {
   "cell_type": "markdown",
   "metadata": {},
   "source": [
    "\n",
    "# Exercise 4:\n",
    "Create a class called `Store` with an attribute called `inventory` that stores key value pairs which represent a product and its count.\n",
    "<br> `{\"oranges\":100,'apples':20}`\n",
    "\n",
    "Create a `buy` method that decrements from a key's value whenever an item is \"bought\"\n",
    "\n",
    "Create a method that lists the products for sale.\n",
    "<br>Create a method that allows you to add more products to the store's inventory.\n",
    "\n",
    "\n",
    "When you're finished, create an instance of Store and demonstrate that your methods/code work. Bonus points for addtional methods/functionality."
   ]
  },
  {
   "cell_type": "code",
   "execution_count": 74,
   "metadata": {},
   "outputs": [],
   "source": [
    "import pandas as pd\n",
    "class Store():\n",
    "    def __init__(self):\n",
    "        self.inventory={}\n",
    "    \n",
    "    def buy(self,key,count):\n",
    "        if key in self.inventory.keys():\n",
    "            if self.inventory[key]>count:\n",
    "                self.inventory[key] -= count\n",
    "            \n",
    "    def printAll(self):\n",
    "        print()\n",
    "        table=pd.DataFrame.from_dict(self.inventory, orient='index', columns=['count'])\n",
    "        print(table)\n",
    "\n",
    "    def addProduct(self,key,count):\n",
    "        if key in self.inventory.keys():\n",
    "            self.inventory[key] +=count\n",
    "        else:\n",
    "            self.inventory[key] =count\n",
    "        print('Action succesuly done')\n"
   ]
  },
  {
   "cell_type": "code",
   "execution_count": 75,
   "metadata": {},
   "outputs": [
    {
     "name": "stdout",
     "output_type": "stream",
     "text": [
      "Action succesuly done\n",
      "Action succesuly done\n",
      "Action succesuly done\n",
      "\n",
      "         count\n",
      "Oranges    100\n",
      "apples      20\n",
      "Banana      70\n"
     ]
    }
   ],
   "source": [
    "# creating Store object\n",
    "prod1=Store()\n",
    "# adding data\n",
    "prod1.addProduct('Oranges',100)\n",
    "prod1.addProduct('apples',20)\n",
    "prod1.addProduct('Banana',70)\n",
    "\n",
    "# printing the result\n",
    "prod1.printAll()"
   ]
  },
  {
   "cell_type": "code",
   "execution_count": 76,
   "metadata": {},
   "outputs": [
    {
     "name": "stdout",
     "output_type": "stream",
     "text": [
      "Action succesuly done\n",
      "\n",
      "         count\n",
      "Oranges     60\n",
      "apples      10\n",
      "Banana      70\n"
     ]
    }
   ],
   "source": [
    "#updating data\n",
    "prod1.addProduct('Oranges',30)\n",
    "prod1.buy('apples',10)\n",
    "prod1.buy('Oranges',70)\n",
    "\n",
    "\n",
    "# printing the result\n",
    "prod1.printAll()"
   ]
  }
 ],
 "metadata": {
  "interpreter": {
   "hash": "4fe423c96aa21f041534bead582c2e6c3f42ab46597860deda9051867850283b"
  },
  "kernelspec": {
   "display_name": "Python 3.8.5 32-bit",
   "name": "python3"
  },
  "language_info": {
   "codemirror_mode": {
    "name": "ipython",
    "version": 3
   },
   "file_extension": ".py",
   "mimetype": "text/x-python",
   "name": "python",
   "nbconvert_exporter": "python",
   "pygments_lexer": "ipython3",
   "version": "3.8.5"
  }
 },
 "nbformat": 4,
 "nbformat_minor": 4
}
