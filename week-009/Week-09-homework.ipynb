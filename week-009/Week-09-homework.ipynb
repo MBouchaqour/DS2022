{
 "cells": [
  {
   "cell_type": "markdown",
   "metadata": {
    "id": "zndGg0rNFH7b"
   },
   "source": [
    "<div style=\"background: #000;\n",
    "            color: #FFF;\n",
    "            margin: 0px;\n",
    "                padding: 10px 0px 20px 0px;\n",
    "            text-align: center; \n",
    "                \">\n",
    "    <h1>Week 9 - Homework</h1>\n",
    "</div>"
   ]
  },
  {
   "cell_type": "markdown",
   "metadata": {},
   "source": [
    "For each question below, paste in the query or queries you used in order to answer the question. Also INCLUDE A SCREENSHOT of the results from your query.\n",
    "\n",
    "Remeber to check the ER Diagram to understand where the different pieces of information you need live: https://www.jooq.org/sakila\n",
    "\n",
    "\n",
    "1. What are the names of all the languages in the database (sorted alphabetically)?\n",
    "2. Return the full names (first and last) of actors with “SON” in their last name, ordered by their first name.\n",
    "3. Find all the addresses where the second address is not empty (i.e., contains some text), and return these second addresses sorted.\n",
    "4. Return the first and last names of actors who played in a film involving a “Crocodile” and a “Shark”, along with the release year of the movie, sorted by the actors’ last names.\n",
    "5. How many films involve a “Crocodile” and a “Shark”?\n",
    "6. Find all the film categories in which there are between 55 and 65 films. Return the names of these categories and the number of films per category, sorted by the number of films.\n",
    "7. What are the top 10 largest payments? Sort largest to smallest.\n",
    "8. Which actors have the first name ‘Scarlett’? Sort by last name descending.\n",
    "9 Which actors have the last name ‘Johansson’? Sort by first name ascending.\n",
    "10. How many distinct actors last names are there?\n",
    "11. Which last names are not repeated?\n",
    "12. Which last names appear more than once?\n",
    "13. Which actor has appeared in the most films?\n",
    "14. Is ‘Academy Dinosaur’ available for rent from Store 1?\n",
    "15. Insert a record to represent Mary Smith renting ‘Academy Dinosaur’ from Mike Hillyer at Store 1 today .\n",
    "16. When is ‘Academy Dinosaur’ due?\n",
    "17. What is that average running time of all the films in the sakila DB?\n",
    "18. What is the average running time of films by category?\n",
    "\n",
    "Bonus Question 1:\n",
    "\n",
    "Create a new table called \"theater\". It should have at least 5 attributes: one primary key, two foreign keys (from existing tables), and two other attributes of your choosing. Insert at least 5 records into the table. Paste below the query you used to make the table, and a screenshot of the table with it's data (SELECT * from it when done).\n",
    "\n",
    "Bonus Question 2:\n",
    "\n",
    "Create a new table from an existing one. Change at least three of the data types of the new table. Sort the new table by any column of your choosing and delete the last 10 rows based on however you sorted. Include all the queries you used below. Prove that you completed the steps above.\n",
    "\n",
    "\n",
    "\n"
   ]
  },
  {
   "cell_type": "markdown",
   "metadata": {},
   "source": [
    "# Q1: What are the names of all the languages in the database (sorted alphabetically)?"
   ]
  },
  {
   "cell_type": "markdown",
   "metadata": {},
   "source": [
    "select *\n",
    "from language\n",
    "order by name;"
   ]
  },
  {
   "cell_type": "markdown",
   "metadata": {},
   "source": [
    "<img src='sql_images/q1.jpg'>\n"
   ]
  },
  {
   "cell_type": "markdown",
   "metadata": {},
   "source": [
    "# Q2: Return the full names (first and last) of actors with “SON” in their last name, ordered by their first name."
   ]
  },
  {
   "cell_type": "markdown",
   "metadata": {},
   "source": [
    "SELECT first_name, last_name \n",
    "FROM actor\n",
    "where last_name like '%SON%'\n",
    "order by first_name;"
   ]
  },
  {
   "cell_type": "markdown",
   "metadata": {},
   "source": [
    "<img src='sql_images/q2.jpg'>"
   ]
  },
  {
   "cell_type": "markdown",
   "metadata": {},
   "source": [
    "# q3: Find all the addresses where the second address is not empty (i.e., contains some text), and return these second addresses sorted."
   ]
  },
  {
   "cell_type": "markdown",
   "metadata": {},
   "source": [
    "SELECT address2\n",
    "FROM address\n",
    "where address2 is not NULL\n",
    "order by address2\n"
   ]
  },
  {
   "cell_type": "markdown",
   "metadata": {},
   "source": [
    "<img src='sql_images/q3.jpg'>"
   ]
  },
  {
   "cell_type": "markdown",
   "metadata": {},
   "source": [
    "# q4: Return the first and last names of actors who played in a film involving a “Crocodile” and a “Shark”, along with the release year of the movie, sorted by the actors’ last names."
   ]
  },
  {
   "cell_type": "markdown",
   "metadata": {},
   "source": [
    "select  distinct actor.first_name,actor.last_name, film.release_year\n",
    "From actor\n",
    "inner JOIN film_actor on film_actor.actor_id=actor.actor_id\n",
    "inner join film on film_actor.film_id=film.film_id\n",
    "where film.description like '%Shark%' and film.description like '%Crocodile%'\n",
    "order by actor.last_name\n"
   ]
  },
  {
   "cell_type": "markdown",
   "metadata": {},
   "source": [
    "<img src='sql_images/q4.jpg'>"
   ]
  },
  {
   "cell_type": "markdown",
   "metadata": {},
   "source": [
    "# q5: How many films involve a “Crocodile” and a “Shark”?"
   ]
  },
  {
   "cell_type": "markdown",
   "metadata": {},
   "source": [
    "select count(film_id)\n",
    "from film\n",
    "where description like '%Shark%' and description like '%Crocodile%'"
   ]
  },
  {
   "cell_type": "markdown",
   "metadata": {},
   "source": [
    "<img src='sql_images/q5.jpg'>"
   ]
  },
  {
   "cell_type": "markdown",
   "metadata": {},
   "source": [
    "# q6: Find all the film categories in which there are between 55 and 65 films. Return the names of these categories and the number of films per category, sorted by the number of films."
   ]
  },
  {
   "cell_type": "markdown",
   "metadata": {},
   "source": [
    "select name , count(name) as films_per_category\n",
    "from category\n",
    "inner join film_category on film_category.category_id=category.category_id\n",
    "where film_category.film_id between 55 and 65\n",
    "group by category.name;"
   ]
  },
  {
   "cell_type": "markdown",
   "metadata": {},
   "source": [
    "<img src='sql_images/q6.jpg'>"
   ]
  },
  {
   "cell_type": "markdown",
   "metadata": {},
   "source": [
    "# q7: What are the top 10 largest payments? Sort largest to smallest."
   ]
  },
  {
   "cell_type": "markdown",
   "metadata": {},
   "source": [
    "SELECT * \n",
    "FROM sakila.payment\n",
    "order by amount desc\n",
    "limit 10;\n"
   ]
  },
  {
   "cell_type": "markdown",
   "metadata": {},
   "source": [
    "<img src='sql_images/q7.jpg'>"
   ]
  },
  {
   "cell_type": "markdown",
   "metadata": {},
   "source": [
    "# q8: Which actors have the first name ‘Scarlett’? Sort by last name descending. 9 Which actors have the last name ‘Johansson’? Sort by first name ascending."
   ]
  },
  {
   "cell_type": "markdown",
   "metadata": {},
   "source": [
    "# first part\n",
    "select *\n",
    "from actor\n",
    "where first_name like 'Scarlett'\n",
    "order by last_name desc"
   ]
  },
  {
   "cell_type": "markdown",
   "metadata": {},
   "source": [
    "<img src='sql_images/q81.jpg'>"
   ]
  },
  {
   "cell_type": "markdown",
   "metadata": {},
   "source": [
    "# second part\n",
    "select *\n",
    "from actor\n",
    "where last_name like 'Johansson'\n",
    "order by first_name asc"
   ]
  },
  {
   "cell_type": "markdown",
   "metadata": {},
   "source": [
    "<img src='sql_images/q82.jpg'>"
   ]
  },
  {
   "cell_type": "markdown",
   "metadata": {},
   "source": [
    "# q9: How many distinct actors last names are there?"
   ]
  },
  {
   "cell_type": "markdown",
   "metadata": {},
   "source": [
    "select COUNT( DISTINCT last_name)\n",
    "from actor"
   ]
  },
  {
   "cell_type": "markdown",
   "metadata": {},
   "source": [
    "<img src='sql_images/q9.jpg'>"
   ]
  },
  {
   "cell_type": "markdown",
   "metadata": {},
   "source": [
    "# q10: Which last names are not repeated?"
   ]
  },
  {
   "cell_type": "markdown",
   "metadata": {},
   "source": [
    "select last_name \n",
    "from actor\n",
    "group by last_name\n",
    "having count(last_name) <=1;"
   ]
  },
  {
   "cell_type": "markdown",
   "metadata": {},
   "source": [
    "<img src='sql_images/q10.jpg'>"
   ]
  },
  {
   "cell_type": "markdown",
   "metadata": {},
   "source": [
    "# q11: Which last names appear more than once?"
   ]
  },
  {
   "cell_type": "markdown",
   "metadata": {},
   "source": [
    "select last_name \n",
    "from actor\n",
    "group by last_name\n",
    "having count(last_name) > 1;\n",
    "\n"
   ]
  },
  {
   "cell_type": "markdown",
   "metadata": {},
   "source": [
    "<img src='sql_images/q11.jpg'>"
   ]
  },
  {
   "cell_type": "markdown",
   "metadata": {},
   "source": [
    "# q12:Which actor has appeared in the most films  ?"
   ]
  },
  {
   "cell_type": "markdown",
   "metadata": {},
   "source": [
    "select actor.last_name, actor.first_name, max(film_actor.actor_id)\n",
    "from actor\n",
    "inner join film_actor on film_actor.actor_id=actor.actor_id\n",
    "group by film_actor.actor_id\n",
    "order by film_actor.actor_id desc\n",
    "limit 1"
   ]
  },
  {
   "cell_type": "markdown",
   "metadata": {},
   "source": [
    "<img src='sql_images/q12.jpg'>"
   ]
  },
  {
   "cell_type": "markdown",
   "metadata": {},
   "source": [
    "# q13: Is ‘Academy Dinosaur’ available for rent from Store 1?\n",
    "Answer:\n",
    "Yes. "
   ]
  },
  {
   "cell_type": "markdown",
   "metadata": {},
   "source": [
    "SELECT film.film_id, film.title, film.description\n",
    "from film\n",
    "inner join inventory\n",
    "on film.film_id=inventory.film_id\n",
    "where film.title like 'Academy Dinosaur'\n",
    "and inventory.inventory_id in (\n",
    "select inventory.inventory_id\n",
    "from inventory\n",
    "left join rental\n",
    "on inventory.inventory_id=rental.inventory_id\n",
    ")\n"
   ]
  },
  {
   "cell_type": "markdown",
   "metadata": {},
   "source": [
    "<img src='sql_images/q13.jpg'>"
   ]
  },
  {
   "cell_type": "markdown",
   "metadata": {},
   "source": [
    "# q14: Insert a record to represent Mary Smith renting ‘Academy Dinosaur’ from Mike Hillyer at Store 1 today"
   ]
  },
  {
   "cell_type": "markdown",
   "metadata": {},
   "source": [
    "# first getting the customer id for Mary Smith: customer_id=1\n",
    "SELECT customer_id FROM customer\n",
    "where (first_name = 'Mary'\n",
    "AND last_name = 'Smith');"
   ]
  },
  {
   "cell_type": "markdown",
   "metadata": {},
   "source": [
    "# second getting info about the movie Academy Dinosaur: film_id=1, \n",
    "SELECT * FROM sakila.film\n",
    "where title='Academy Dinosaur'"
   ]
  },
  {
   "cell_type": "markdown",
   "metadata": {},
   "source": [
    "#third step, getting the inventory information: inventory_id = 1 and store_id=1, last_update= 2006-02-15\n",
    "SELECT * FROM sakila.inventory\n",
    "where inventory_id=1;"
   ]
  },
  {
   "cell_type": "markdown",
   "metadata": {},
   "source": [
    "# finally knowing data about staff: staff_id=1 that is related to Mike Hillyer\n",
    "SELECT * \n",
    "FROM sakila.staff\n",
    "where first_name like 'Mike'\n",
    "and last_name like 'Hillyer';"
   ]
  },
  {
   "cell_type": "markdown",
   "metadata": {},
   "source": [
    "# Right now we have enough data for each attributes we need to deal with: \n",
    "We will enter data into table rental\n",
    "---\n",
    "we need: \n",
    "--\n",
    "rental_id=1\n",
    "-\n",
    "rental_date=2021-11-14\n",
    "-\n",
    "inventory_id=1\n",
    "-\n",
    "customer_id=1\n",
    "-\n",
    "staff_id=1\n",
    "-\n",
    "last_update=2021-11-14"
   ]
  },
  {
   "cell_type": "markdown",
   "metadata": {},
   "source": [
    "#SQL \n",
    "INSERT INTO `sakila`.`rental`\n",
    "(`rental_id`,\n",
    "`rental_date`,\n",
    "`inventory_id`,\n",
    "`customer_id`,\n",
    "`return_date`,\n",
    "`staff_id`,\n",
    "`last_update`)\n",
    "VALUES\n",
    "(16050,\n",
    "11/14/2021,\n",
    "1,\n",
    "1,\n",
    "11/20/2021,\n",
    "1,\n",
    "11/14/2021);\n"
   ]
  },
  {
   "cell_type": "markdown",
   "metadata": {},
   "source": [
    "<img src='sql_images/q14.jpg'>"
   ]
  },
  {
   "cell_type": "markdown",
   "metadata": {},
   "source": [
    "# q15: When is ‘Academy Dinosaur’ due?"
   ]
  },
  {
   "cell_type": "markdown",
   "metadata": {},
   "source": [
    "select rental_date,\n",
    "       rental_date + interval\n",
    "                   (select rental_duration from film where film_id = 1) day\n",
    "                   as due_date\n",
    "from rental\n",
    "where rental_id = (select rental_id from rental order by rental_id desc limit 1);"
   ]
  },
  {
   "cell_type": "markdown",
   "metadata": {},
   "source": [
    "<img src='sql_images/q15.jpg'>"
   ]
  },
  {
   "cell_type": "markdown",
   "metadata": {},
   "source": [
    "# q16: What is that average running time of all the films in the sakila DB?"
   ]
  },
  {
   "cell_type": "markdown",
   "metadata": {},
   "source": [
    "# I treated running time as the length of the movie\n",
    "select avg(length) from film;"
   ]
  },
  {
   "cell_type": "markdown",
   "metadata": {},
   "source": [
    "<img src='sql_images/q16.jpg'>"
   ]
  },
  {
   "cell_type": "markdown",
   "metadata": {},
   "source": [
    "# q17: What is the average running time of films by category?"
   ]
  },
  {
   "cell_type": "markdown",
   "metadata": {},
   "source": [
    "select category.name, avg(length) as average_by_category\n",
    "from film \n",
    "join film_category \n",
    "on film_category.film_id=film.film_id\n",
    "join category\n",
    "on film_category.category_id=category.category_id\n",
    "group by category.name\n"
   ]
  },
  {
   "cell_type": "markdown",
   "metadata": {},
   "source": [
    "<img src='sql_images/q17.jpg'>"
   ]
  }
 ],
 "metadata": {
  "interpreter": {
   "hash": "2d1de90774c993cf6e7d5c386b4ee54de413cea9aa0ff5448672a6f040e044d5"
  },
  "kernelspec": {
   "display_name": "Python 3.8.8 64-bit ('base': conda)",
   "language": "python",
   "name": "python3"
  },
  "language_info": {
   "name": "python",
   "version": "3.8.8"
  },
  "orig_nbformat": 4
 },
 "nbformat": 4,
 "nbformat_minor": 2
}
