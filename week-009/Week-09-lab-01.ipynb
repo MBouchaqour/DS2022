{
 "cells": [
  {
   "cell_type": "markdown",
   "metadata": {
    "id": "zndGg0rNFH7b"
   },
   "source": [
    "<div style=\"background: #000;\n",
    "            color: #FFF;\n",
    "            margin: 0px;\n",
    "                padding: 10px 0px 20px 0px;\n",
    "            text-align: center; \n",
    "                \">\n",
    "    <h1>Week 9 - Lab 1</h1>\n",
    "</div>"
   ]
  },
  {
   "cell_type": "markdown",
   "metadata": {},
   "source": [
    "# Exercise 1\n",
    "\n",
    "Follow the instruction given and install the Pandas Library in VS Code. After installation, input a picture to document that you have successfully installed the Pandas Library.\n",
    "\n",
    "https://pypi.org/project/pandas/\n",
    "\n",
    "In a New Terminal: Should be pypi:\n",
    "    \n",
    "    pip install pandas \n",
    "\n",
    "If you have the latest version of python:\n",
    "\n",
    "    pip3 install pandas \n",
    "\n",
    "Once you have the library create a simple dataframe of your choosing. Show your code."
   ]
  },
  {
   "cell_type": "markdown",
   "metadata": {},
   "source": [
    "<img src='src1.jpg'>"
   ]
  },
  {
   "cell_type": "code",
   "execution_count": 3,
   "metadata": {},
   "outputs": [
    {
     "data": {
      "text/html": [
       "<div>\n",
       "<style scoped>\n",
       "    .dataframe tbody tr th:only-of-type {\n",
       "        vertical-align: middle;\n",
       "    }\n",
       "\n",
       "    .dataframe tbody tr th {\n",
       "        vertical-align: top;\n",
       "    }\n",
       "\n",
       "    .dataframe thead th {\n",
       "        text-align: right;\n",
       "    }\n",
       "</style>\n",
       "<table border=\"1\" class=\"dataframe\">\n",
       "  <thead>\n",
       "    <tr style=\"text-align: right;\">\n",
       "      <th></th>\n",
       "      <th>Name of students</th>\n",
       "      <th>Grades</th>\n",
       "    </tr>\n",
       "  </thead>\n",
       "  <tbody>\n",
       "    <tr>\n",
       "      <th>0</th>\n",
       "      <td>Mus lolo</td>\n",
       "      <td>99</td>\n",
       "    </tr>\n",
       "    <tr>\n",
       "      <th>1</th>\n",
       "      <td>nick Naji</td>\n",
       "      <td>98</td>\n",
       "    </tr>\n",
       "    <tr>\n",
       "      <th>2</th>\n",
       "      <td>Joulia Boto</td>\n",
       "      <td>99</td>\n",
       "    </tr>\n",
       "  </tbody>\n",
       "</table>\n",
       "</div>"
      ],
      "text/plain": [
       "  Name of students  Grades\n",
       "0         Mus lolo      99\n",
       "1        nick Naji      98\n",
       "2      Joulia Boto      99"
      ]
     },
     "execution_count": 3,
     "metadata": {},
     "output_type": "execute_result"
    }
   ],
   "source": [
    "import pandas as pd\n",
    "# initialize list of lists\n",
    "data = [['Mus lolo', 99], ['nick Naji', 98], ['Joulia Boto', 99]]\n",
    "  \n",
    "# Create the pandas DataFrame\n",
    "df = pd.DataFrame(data, columns = ['Name of students', 'Grades'])\n",
    "  \n",
    "# print dataframe.\n",
    "df"
   ]
  },
  {
   "cell_type": "markdown",
   "metadata": {},
   "source": [
    "# Exercise 2\n",
    "\n",
    "Create a data frame using pandas that uses a conditional statement other than if ascending = false."
   ]
  },
  {
   "cell_type": "code",
   "execution_count": 13,
   "metadata": {},
   "outputs": [
    {
     "data": {
      "text/html": [
       "<div>\n",
       "<style scoped>\n",
       "    .dataframe tbody tr th:only-of-type {\n",
       "        vertical-align: middle;\n",
       "    }\n",
       "\n",
       "    .dataframe tbody tr th {\n",
       "        vertical-align: top;\n",
       "    }\n",
       "\n",
       "    .dataframe thead th {\n",
       "        text-align: right;\n",
       "    }\n",
       "</style>\n",
       "<table border=\"1\" class=\"dataframe\">\n",
       "  <thead>\n",
       "    <tr style=\"text-align: right;\">\n",
       "      <th></th>\n",
       "      <th>Student's id</th>\n",
       "      <th>Name of students</th>\n",
       "      <th>Grades</th>\n",
       "    </tr>\n",
       "  </thead>\n",
       "  <tbody>\n",
       "    <tr>\n",
       "      <th>1</th>\n",
       "      <td>3453</td>\n",
       "      <td>nick Naji</td>\n",
       "      <td>98</td>\n",
       "    </tr>\n",
       "    <tr>\n",
       "      <th>0</th>\n",
       "      <td>12321</td>\n",
       "      <td>Mus lolo</td>\n",
       "      <td>99</td>\n",
       "    </tr>\n",
       "    <tr>\n",
       "      <th>2</th>\n",
       "      <td>756756</td>\n",
       "      <td>Joulia Boto</td>\n",
       "      <td>99</td>\n",
       "    </tr>\n",
       "  </tbody>\n",
       "</table>\n",
       "</div>"
      ],
      "text/plain": [
       "   Student's id Name of students  Grades\n",
       "1          3453        nick Naji      98\n",
       "0         12321         Mus lolo      99\n",
       "2        756756      Joulia Boto      99"
      ]
     },
     "execution_count": 13,
     "metadata": {},
     "output_type": "execute_result"
    }
   ],
   "source": [
    "data = [[12321, 'Mus lolo', 99], [3453, 'nick Naji', 98], [756756, 'Joulia Boto', 99]]\n",
    "df = pd.DataFrame(data, columns = [\"Student's id\",'Name of students', 'Grades'])\n",
    "df.sort_values(by=['Grades'], kind='quicksort')"
   ]
  },
  {
   "cell_type": "markdown",
   "metadata": {},
   "source": [
    "# Exercise 3\n",
    "\n",
    "Create a Data Frame using pandas with Names and Age and change the datatype of age from int to str."
   ]
  },
  {
   "cell_type": "code",
   "execution_count": 18,
   "metadata": {},
   "outputs": [
    {
     "data": {
      "text/html": [
       "<div>\n",
       "<style scoped>\n",
       "    .dataframe tbody tr th:only-of-type {\n",
       "        vertical-align: middle;\n",
       "    }\n",
       "\n",
       "    .dataframe tbody tr th {\n",
       "        vertical-align: top;\n",
       "    }\n",
       "\n",
       "    .dataframe thead th {\n",
       "        text-align: right;\n",
       "    }\n",
       "</style>\n",
       "<table border=\"1\" class=\"dataframe\">\n",
       "  <thead>\n",
       "    <tr style=\"text-align: right;\">\n",
       "      <th></th>\n",
       "      <th>Names</th>\n",
       "      <th>Age</th>\n",
       "    </tr>\n",
       "  </thead>\n",
       "  <tbody>\n",
       "    <tr>\n",
       "      <th>0</th>\n",
       "      <td>Nano</td>\n",
       "      <td>45</td>\n",
       "    </tr>\n",
       "    <tr>\n",
       "      <th>1</th>\n",
       "      <td>Ki</td>\n",
       "      <td>34</td>\n",
       "    </tr>\n",
       "    <tr>\n",
       "      <th>2</th>\n",
       "      <td>Kolo</td>\n",
       "      <td>33</td>\n",
       "    </tr>\n",
       "    <tr>\n",
       "      <th>3</th>\n",
       "      <td>Mus</td>\n",
       "      <td>12</td>\n",
       "    </tr>\n",
       "  </tbody>\n",
       "</table>\n",
       "</div>"
      ],
      "text/plain": [
       "  Names  Age\n",
       "0  Nano   45\n",
       "1    Ki   34\n",
       "2  Kolo   33\n",
       "3   Mus   12"
      ]
     },
     "execution_count": 18,
     "metadata": {},
     "output_type": "execute_result"
    }
   ],
   "source": [
    "data={\n",
    "    'Names':['Nano','Ki', 'Kolo','Mus'],\n",
    "    'Age':[45,34,33,12]     \n",
    "}\n",
    "df = pd.DataFrame(data, columns = ['Names','Age'])\n",
    "df"
   ]
  },
  {
   "cell_type": "code",
   "execution_count": 19,
   "metadata": {},
   "outputs": [
    {
     "data": {
      "text/plain": [
       "Names    object\n",
       "Age       int64\n",
       "dtype: object"
      ]
     },
     "execution_count": 19,
     "metadata": {},
     "output_type": "execute_result"
    }
   ],
   "source": [
    "df.dtypes"
   ]
  },
  {
   "cell_type": "code",
   "execution_count": 20,
   "metadata": {},
   "outputs": [
    {
     "data": {
      "text/plain": [
       "Names    object\n",
       "Age      object\n",
       "dtype: object"
      ]
     },
     "execution_count": 20,
     "metadata": {},
     "output_type": "execute_result"
    }
   ],
   "source": [
    "df['Age'] = df['Age'].values.astype(str)\n",
    "df.dtypes"
   ]
  },
  {
   "cell_type": "markdown",
   "metadata": {},
   "source": [
    "# Exercise 4\n",
    "\n",
    "Write a data frame using pandas that contains a dictionary of column1 of 5 strings of letters, a column2 of 5 integers, another column3 of 5 integers and a column4 of 5 strings of letters with lower and upper cases."
   ]
  },
  {
   "cell_type": "code",
   "execution_count": 32,
   "metadata": {},
   "outputs": [
    {
     "data": {
      "text/html": [
       "<div>\n",
       "<style scoped>\n",
       "    .dataframe tbody tr th:only-of-type {\n",
       "        vertical-align: middle;\n",
       "    }\n",
       "\n",
       "    .dataframe tbody tr th {\n",
       "        vertical-align: top;\n",
       "    }\n",
       "\n",
       "    .dataframe thead th {\n",
       "        text-align: right;\n",
       "    }\n",
       "</style>\n",
       "<table border=\"1\" class=\"dataframe\">\n",
       "  <thead>\n",
       "    <tr style=\"text-align: right;\">\n",
       "      <th></th>\n",
       "      <th>Column_1</th>\n",
       "      <th>Column_2</th>\n",
       "      <th>Column_3</th>\n",
       "      <th>column_4</th>\n",
       "    </tr>\n",
       "  </thead>\n",
       "  <tbody>\n",
       "    <tr>\n",
       "      <th>0</th>\n",
       "      <td>f</td>\n",
       "      <td>12</td>\n",
       "      <td>21</td>\n",
       "      <td>L</td>\n",
       "    </tr>\n",
       "    <tr>\n",
       "      <th>1</th>\n",
       "      <td>p</td>\n",
       "      <td>14</td>\n",
       "      <td>22</td>\n",
       "      <td>P</td>\n",
       "    </tr>\n",
       "    <tr>\n",
       "      <th>2</th>\n",
       "      <td>r</td>\n",
       "      <td>11</td>\n",
       "      <td>23</td>\n",
       "      <td>a</td>\n",
       "    </tr>\n",
       "    <tr>\n",
       "      <th>3</th>\n",
       "      <td>y</td>\n",
       "      <td>44</td>\n",
       "      <td>41</td>\n",
       "      <td>k</td>\n",
       "    </tr>\n",
       "    <tr>\n",
       "      <th>4</th>\n",
       "      <td>q</td>\n",
       "      <td>23</td>\n",
       "      <td>51</td>\n",
       "      <td>O</td>\n",
       "    </tr>\n",
       "  </tbody>\n",
       "</table>\n",
       "</div>"
      ],
      "text/plain": [
       "  Column_1  Column_2  Column_3 column_4\n",
       "0        f        12        21        L\n",
       "1        p        14        22        P\n",
       "2        r        11        23        a\n",
       "3        y        44        41        k\n",
       "4        q        23        51        O"
      ]
     },
     "execution_count": 32,
     "metadata": {},
     "output_type": "execute_result"
    }
   ],
   "source": [
    "data={\n",
    "    'Column_1':['f','p','r','y','q'],\n",
    "    'Column_2':[12,14,11,44,23],\n",
    "    'Column_3':[21,22,23,41,51],\n",
    "    'column_4':['L','P','a','k','O']\n",
    "}\n",
    "df=pd.DataFrame.from_dict(data)\n",
    "df"
   ]
  },
  {
   "cell_type": "code",
   "execution_count": 33,
   "metadata": {},
   "outputs": [
    {
     "data": {
      "text/html": [
       "<style type=\"text/css\">\n",
       "</style>\n",
       "<table id=\"T_bb9f8_\">\n",
       "  <thead>\n",
       "    <tr>\n",
       "      <th class=\"col_heading level0 col0\" >Column_1</th>\n",
       "      <th class=\"col_heading level0 col1\" >Column_2</th>\n",
       "      <th class=\"col_heading level0 col2\" >Column_3</th>\n",
       "      <th class=\"col_heading level0 col3\" >column_4</th>\n",
       "    </tr>\n",
       "  </thead>\n",
       "  <tbody>\n",
       "    <tr>\n",
       "      <td id=\"T_bb9f8_row0_col0\" class=\"data row0 col0\" >f</td>\n",
       "      <td id=\"T_bb9f8_row0_col1\" class=\"data row0 col1\" >12</td>\n",
       "      <td id=\"T_bb9f8_row0_col2\" class=\"data row0 col2\" >21</td>\n",
       "      <td id=\"T_bb9f8_row0_col3\" class=\"data row0 col3\" >L</td>\n",
       "    </tr>\n",
       "    <tr>\n",
       "      <td id=\"T_bb9f8_row1_col0\" class=\"data row1 col0\" >p</td>\n",
       "      <td id=\"T_bb9f8_row1_col1\" class=\"data row1 col1\" >14</td>\n",
       "      <td id=\"T_bb9f8_row1_col2\" class=\"data row1 col2\" >22</td>\n",
       "      <td id=\"T_bb9f8_row1_col3\" class=\"data row1 col3\" >P</td>\n",
       "    </tr>\n",
       "    <tr>\n",
       "      <td id=\"T_bb9f8_row2_col0\" class=\"data row2 col0\" >r</td>\n",
       "      <td id=\"T_bb9f8_row2_col1\" class=\"data row2 col1\" >11</td>\n",
       "      <td id=\"T_bb9f8_row2_col2\" class=\"data row2 col2\" >23</td>\n",
       "      <td id=\"T_bb9f8_row2_col3\" class=\"data row2 col3\" >a</td>\n",
       "    </tr>\n",
       "    <tr>\n",
       "      <td id=\"T_bb9f8_row3_col0\" class=\"data row3 col0\" >y</td>\n",
       "      <td id=\"T_bb9f8_row3_col1\" class=\"data row3 col1\" >44</td>\n",
       "      <td id=\"T_bb9f8_row3_col2\" class=\"data row3 col2\" >41</td>\n",
       "      <td id=\"T_bb9f8_row3_col3\" class=\"data row3 col3\" >k</td>\n",
       "    </tr>\n",
       "    <tr>\n",
       "      <td id=\"T_bb9f8_row4_col0\" class=\"data row4 col0\" >q</td>\n",
       "      <td id=\"T_bb9f8_row4_col1\" class=\"data row4 col1\" >23</td>\n",
       "      <td id=\"T_bb9f8_row4_col2\" class=\"data row4 col2\" >51</td>\n",
       "      <td id=\"T_bb9f8_row4_col3\" class=\"data row4 col3\" >O</td>\n",
       "    </tr>\n",
       "  </tbody>\n",
       "</table>\n"
      ],
      "text/plain": [
       "<pandas.io.formats.style.Styler at 0x17c2478>"
      ]
     },
     "execution_count": 33,
     "metadata": {},
     "output_type": "execute_result"
    }
   ],
   "source": [
    "df.style.hide_index()"
   ]
  },
  {
   "cell_type": "markdown",
   "metadata": {},
   "source": [
    "# Bonus Question\n",
    "\n",
    "Write a Pandas program that contains data of a student for each column (you can create as many as you think are necessary). Make sure to display the default index and set a column as an Index in the dataframe. Output only one of the columns of your choice and change its datatype. "
   ]
  },
  {
   "cell_type": "code",
   "execution_count": 34,
   "metadata": {},
   "outputs": [
    {
     "data": {
      "text/html": [
       "<div>\n",
       "<style scoped>\n",
       "    .dataframe tbody tr th:only-of-type {\n",
       "        vertical-align: middle;\n",
       "    }\n",
       "\n",
       "    .dataframe tbody tr th {\n",
       "        vertical-align: top;\n",
       "    }\n",
       "\n",
       "    .dataframe thead th {\n",
       "        text-align: right;\n",
       "    }\n",
       "</style>\n",
       "<table border=\"1\" class=\"dataframe\">\n",
       "  <thead>\n",
       "    <tr style=\"text-align: right;\">\n",
       "      <th></th>\n",
       "      <th>Student_id</th>\n",
       "      <th>Student_name</th>\n",
       "      <th>Student_major</th>\n",
       "      <th>Student_GPA</th>\n",
       "    </tr>\n",
       "  </thead>\n",
       "  <tbody>\n",
       "    <tr>\n",
       "      <th>0</th>\n",
       "      <td>234</td>\n",
       "      <td>Iko</td>\n",
       "      <td>LBS</td>\n",
       "      <td>4.4</td>\n",
       "    </tr>\n",
       "    <tr>\n",
       "      <th>1</th>\n",
       "      <td>54</td>\n",
       "      <td>Loka</td>\n",
       "      <td>CST</td>\n",
       "      <td>3.6</td>\n",
       "    </tr>\n",
       "    <tr>\n",
       "      <th>2</th>\n",
       "      <td>654</td>\n",
       "      <td>Poly</td>\n",
       "      <td>CST</td>\n",
       "      <td>2.3</td>\n",
       "    </tr>\n",
       "    <tr>\n",
       "      <th>3</th>\n",
       "      <td>744</td>\n",
       "      <td>Bbc</td>\n",
       "      <td>ARB</td>\n",
       "      <td>3.5</td>\n",
       "    </tr>\n",
       "  </tbody>\n",
       "</table>\n",
       "</div>"
      ],
      "text/plain": [
       "   Student_id Student_name Student_major Student_GPA\n",
       "0         234          Iko           LBS         4.4\n",
       "1          54         Loka           CST         3.6\n",
       "2         654         Poly           CST         2.3\n",
       "3         744          Bbc           ARB         3.5"
      ]
     },
     "execution_count": 34,
     "metadata": {},
     "output_type": "execute_result"
    }
   ],
   "source": [
    "data ={\n",
    "      'Student_id':[234,54,654,744],\n",
    "      'Student_name':['Iko','Loka','Poly','Bbc'],\n",
    "      'Student_major':['LBS','CST','CST','ARB'],\n",
    "      'Student_GPA':['4.4','3.6','2.3','3.5']\n",
    "}\n",
    "df=pd.DataFrame.from_dict(data)\n",
    "df"
   ]
  },
  {
   "cell_type": "code",
   "execution_count": 35,
   "metadata": {},
   "outputs": [
    {
     "data": {
      "text/plain": [
       "Student_id        int64\n",
       "Student_name     object\n",
       "Student_major    object\n",
       "Student_GPA      object\n",
       "dtype: object"
      ]
     },
     "execution_count": 35,
     "metadata": {},
     "output_type": "execute_result"
    }
   ],
   "source": [
    "df.dtypes"
   ]
  },
  {
   "cell_type": "code",
   "execution_count": 36,
   "metadata": {},
   "outputs": [
    {
     "data": {
      "text/plain": [
       "Student_id         int64\n",
       "Student_name      object\n",
       "Student_major     object\n",
       "Student_GPA      float64\n",
       "dtype: object"
      ]
     },
     "execution_count": 36,
     "metadata": {},
     "output_type": "execute_result"
    }
   ],
   "source": [
    "#Converting Student_GPA to float \n",
    "df['Student_GPA']=df['Student_GPA'].astype(float)\n",
    "df.dtypes"
   ]
  }
 ],
 "metadata": {
  "interpreter": {
   "hash": "4fe423c96aa21f041534bead582c2e6c3f42ab46597860deda9051867850283b"
  },
  "kernelspec": {
   "display_name": "Python 3.8.5 32-bit",
   "language": "python",
   "name": "python3"
  },
  "language_info": {
   "codemirror_mode": {
    "name": "ipython",
    "version": 3
   },
   "file_extension": ".py",
   "mimetype": "text/x-python",
   "name": "python",
   "nbconvert_exporter": "python",
   "pygments_lexer": "ipython3",
   "version": "3.8.5"
  },
  "orig_nbformat": 4
 },
 "nbformat": 4,
 "nbformat_minor": 2
}
