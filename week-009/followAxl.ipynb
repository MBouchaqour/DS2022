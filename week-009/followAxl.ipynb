{
 "cells": [
  {
   "cell_type": "code",
   "execution_count": 1,
   "metadata": {},
   "outputs": [],
   "source": [
    "def validate_word(word):\n",
    "    word_list=list(word)\n",
    "    if len(word_list) % 2 !=0:\n",
    "        return False\n",
    "    keys=set(word_list)\n",
    "    character_to_follow=list(keys)[0]\n",
    "    values=[0 for item in list(keys)]\n",
    "    word_dict=dict(zip(keys,values))\n",
    "\n",
    "    for item in word_list:\n",
    "        if item in word_dict.keys():\n",
    "            word_dict[item]+=1\n",
    "    \n",
    "    for val in word_dict.values():\n",
    "        if val != word_dict[character_to_follow]:\n",
    "            return False\n",
    "    \n",
    "            \n",
    "    return True    "
   ]
  },
  {
   "cell_type": "code",
   "execution_count": 4,
   "metadata": {},
   "outputs": [
    {
     "data": {
      "text/plain": [
       "True"
      ]
     },
     "execution_count": 4,
     "metadata": {},
     "output_type": "execute_result"
    }
   ],
   "source": [
    "validate_word('qwwq')"
   ]
  },
  {
   "cell_type": "code",
   "execution_count": null,
   "metadata": {},
   "outputs": [],
   "source": []
  }
 ],
 "metadata": {
  "interpreter": {
   "hash": "4fe423c96aa21f041534bead582c2e6c3f42ab46597860deda9051867850283b"
  },
  "kernelspec": {
   "display_name": "Python 3.8.5 32-bit",
   "language": "python",
   "name": "python3"
  },
  "language_info": {
   "codemirror_mode": {
    "name": "ipython",
    "version": 3
   },
   "file_extension": ".py",
   "mimetype": "text/x-python",
   "name": "python",
   "nbconvert_exporter": "python",
   "pygments_lexer": "ipython3",
   "version": "3.8.5"
  },
  "orig_nbformat": 4
 },
 "nbformat": 4,
 "nbformat_minor": 2
}
