{
 "cells": [
  {
   "cell_type": "markdown",
   "metadata": {},
   "source": [
    "<div style=\"background: #000;\n",
    "            color: #FFF;\n",
    "            margin: 0px;\n",
    "                padding: 10px 0px 20px 0px;\n",
    "            text-align: center; \n",
    "                \">\n",
    "    <h1>Week 5 - Class 1 - Lab</h1>\n",
    "</div>"
   ]
  },
  {
   "cell_type": "markdown",
   "metadata": {},
   "source": [
    "# Question 1:\n",
    "\n",
    "What are signs you should use a recursive function? What happens when you do a recursive function call in a return statement?\n",
    "\n",
    "Walk us through how recursive functions work in your answer.\n",
    "\n",
    "# Answer 1:\n",
    "\n",
    "If I see that the function is calling itself and that will help the code I write, I will use recursion function. \n",
    "When you do a recursive function call in a return you are basically calling the function again.\n",
    "\n"
   ]
  },
  {
   "cell_type": "markdown",
   "metadata": {},
   "source": [
    "# Exercise 1:\n",
    "\n",
    "Create a function using the following function that will take your choice of the following and input:\n",
    "\n",
    "\"R\" (rock), \"P\" (paper), or \"S\" (scissors) \n",
    "\n",
    "and return whether or not you beat the computer.\n"
   ]
  },
  {
   "cell_type": "code",
   "execution_count": 13,
   "metadata": {},
   "outputs": [
    {
     "data": {
      "text/plain": [
       "(0, 'rock')"
      ]
     },
     "execution_count": 13,
     "metadata": {},
     "output_type": "execute_result"
    }
   ],
   "source": [
    "import random\n",
    "def computers_turn():\n",
    "    choices = {\n",
    "        0: 'rock',\n",
    "        1: 'paper',\n",
    "        2: 'scissors',\n",
    "    }\n",
    "    turn = random.randint(0,2)\n",
    "    return (turn, choices[turn])\n",
    "\n",
    "computers_turn()"
   ]
  },
  {
   "cell_type": "code",
   "execution_count": 14,
   "metadata": {},
   "outputs": [],
   "source": [
    "def user_function(letter):\n",
    "    computer_choice=computers_turn()\n",
    "    print(\"Computer choice is: \",computer_choice[1] )\n",
    "    winner={\n",
    "        \"rock\":\"scissors\",\n",
    "        \"paper\":\"rock\",\n",
    "        \"scissors\":\"paper\"\n",
    "    }\n",
    "    if winner[letter]==computer_choice[1]:\n",
    "        print(\"You won\")\n",
    "    elif letter==computer_choice[1]:\n",
    "        print(\"Even\")\n",
    "    else:\n",
    "        print(\"You lost\")\n",
    "    "
   ]
  },
  {
   "cell_type": "code",
   "execution_count": 37,
   "metadata": {},
   "outputs": [
    {
     "name": "stdout",
     "output_type": "stream",
     "text": [
      "{0: 'rock', 1: 'paper', 2: 'scissors', 3: 'Exist'}\n",
      "please enter a right choice: 2\n",
      "Your choice is  scissors\n",
      "Computer choice is:  rock\n",
      "You lost\n"
     ]
    }
   ],
   "source": [
    "message = {\n",
    "        0: 'rock',\n",
    "        1: 'paper',\n",
    "        2: 'scissors',\n",
    "        3: 'Exist'\n",
    "}\n",
    "stay_in=True\n",
    "while stay_in:\n",
    "    print(message)\n",
    "    user_input=input(\"please enter a right choice: \")\n",
    "    if user_input.isnumeric():\n",
    "        if int(user_input) in [0,1,2]:\n",
    "            print(\"Your choice is \", message[int(user_input)])\n",
    "            user_function(message[int(user_input)])\n",
    "            stay_in=False\n",
    "        elif int(user_input)==3:\n",
    "            print(\"Thanks for your time! GoodBay\")\n",
    "            stay_in=False\n",
    "            \n",
    "            "
   ]
  },
  {
   "cell_type": "markdown",
   "metadata": {},
   "source": [
    "# Exercise 2:\n",
    "\n",
    "Create a function that takes a string, converts it to upper, sorts it and then take the `ord()` of each element of the string and adds it to a list. Output the final list."
   ]
  },
  {
   "cell_type": "code",
   "execution_count": 38,
   "metadata": {},
   "outputs": [],
   "source": [
    "def the_function(text):\n",
    "    text_upp=list(text.upper())\n",
    "    text_upp.sort()\n",
    "    return [ord(item) for item in text_upp]\n",
    "    "
   ]
  },
  {
   "cell_type": "code",
   "execution_count": 39,
   "metadata": {},
   "outputs": [
    {
     "data": {
      "text/plain": [
       "[69, 72, 76, 76, 79]"
      ]
     },
     "execution_count": 39,
     "metadata": {},
     "output_type": "execute_result"
    }
   ],
   "source": [
    "the_function(\"hello\")"
   ]
  },
  {
   "cell_type": "markdown",
   "metadata": {},
   "source": [
    "# Exercise 3:\n",
    "\n",
    "Create a recursive function that computers the powers of a number using the following equation:\n",
    "\n",
    "   $$ x^{n} = x * x^{n-1} $$ "
   ]
  },
  {
   "cell_type": "code",
   "execution_count": 40,
   "metadata": {},
   "outputs": [],
   "source": [
    "def power_function(x,n):\n",
    "    if n==0:\n",
    "        return 1\n",
    "    else:\n",
    "        return x*power_function(x,n-1)"
   ]
  },
  {
   "cell_type": "code",
   "execution_count": 41,
   "metadata": {},
   "outputs": [
    {
     "data": {
      "text/plain": [
       "1"
      ]
     },
     "execution_count": 41,
     "metadata": {},
     "output_type": "execute_result"
    }
   ],
   "source": [
    "power_function(0,0)"
   ]
  }
 ],
 "metadata": {
  "interpreter": {
   "hash": "aee8b7b246df8f9039afb4144a1f6fd8d2ca17a180786b69acc140d282b71a49"
  },
  "kernelspec": {
   "display_name": "Python 3",
   "language": "python",
   "name": "python3"
  },
  "language_info": {
   "codemirror_mode": {
    "name": "ipython",
    "version": 3
   },
   "file_extension": ".py",
   "mimetype": "text/x-python",
   "name": "python",
   "nbconvert_exporter": "python",
   "pygments_lexer": "ipython3",
   "version": "3.8.8"
  }
 },
 "nbformat": 4,
 "nbformat_minor": 4
}
