{
 "cells": [
  {
   "cell_type": "markdown",
   "metadata": {},
   "source": [
    "<div style=\"background: #000;\n",
    "            color: #FFF;\n",
    "            margin: 0px;\n",
    "                padding: 10px 0px 20px 0px;\n",
    "            text-align: center; \n",
    "                \">\n",
    "    <h1>Week 5 - Class 2 - Lab</h1>\n",
    "</div>"
   ]
  },
  {
   "cell_type": "markdown",
   "metadata": {},
   "source": [
    "# Question 1:\n",
    "\n",
    "What is the time complexity of the following code? Explain your answer.\n",
    "\n",
    "```python3\n",
    "def function_a(*args):\n",
    "    array = []\n",
    "    length = len(args)\n",
    "    \n",
    "    for i in range(0, length-1):\n",
    "        print(i)\n",
    "    \n",
    "    for i in range(0, length-1):\n",
    "        for j in range(0, length-1):\n",
    "            for k in range(0, length-1):\n",
    "                array.append([i, j, k])\n",
    "    \n",
    "    for val in array:\n",
    "        print(val)\n",
    "    \n",
    "    return array\n",
    "            \n",
    "\n",
    "\n",
    "```\n"
   ]
  },
  {
   "cell_type": "raw",
   "metadata": {},
   "source": []
  },
  {
   "cell_type": "markdown",
   "metadata": {},
   "source": [
    "# Exercise 1:\n",
    "\n",
    "Create a function of your own choosing that uses `if`, `for` or `while`. What is the time complexity?"
   ]
  },
  {
   "cell_type": "code",
   "execution_count": null,
   "metadata": {},
   "outputs": [],
   "source": []
  },
  {
   "cell_type": "markdown",
   "metadata": {},
   "source": [
    "# Exercise 2:\n",
    "\n",
    "Write a lambda function that checks whether or not a given string starts with a given character. \n",
    "\n",
    "Hint: Use a string method."
   ]
  },
  {
   "cell_type": "code",
   "execution_count": 4,
   "metadata": {},
   "outputs": [
    {
     "data": {
      "text/plain": [
       "False"
      ]
     },
     "execution_count": 4,
     "metadata": {},
     "output_type": "execute_result"
    }
   ],
   "source": [
    "g=lambda x,y:True if x.startswith(y) else False\n",
    "g(\"Hello\",\"g\")"
   ]
  },
  {
   "cell_type": "code",
   "execution_count": null,
   "metadata": {},
   "outputs": [],
   "source": [
    "function_a = lambda s, c: True if s.startswith(c) else False\n",
    "\n",
    "\n",
    "print(function_a(\"apple\",\"b\"))\n",
    "print(function_a(\"apple\",\"a\"))\n"
   ]
  },
  {
   "cell_type": "markdown",
   "metadata": {},
   "source": [
    "# Exercise 3:\n",
    "\n",
    "Create a function called `checker` that takes a tuple of three values, checks if there's a pair of numbers and returns the 3rd. If no doubles, return False. If there's a triple return the non-paired number and \"triple\" Use the code in the following cell to generate tuples.\n",
    "\n",
    "E.g. \n",
    "\n",
    "`checker(2,3,2)` would return 3    \n",
    "`checker(1,2,3)` would return False  \n",
    "`checker(3,3,3)` would return 3, \"triple\"  \n"
   ]
  },
  {
   "cell_type": "code",
   "execution_count": 82,
   "metadata": {},
   "outputs": [
    {
     "data": {
      "text/plain": [
       "(6, 2, 2)"
      ]
     },
     "execution_count": 82,
     "metadata": {},
     "output_type": "execute_result"
    }
   ],
   "source": [
    "import random\n",
    "\n",
    "def dice_roller():\n",
    "    return (random.randint(1,6), random.randint(1,6), random.randint(1,6))\n",
    "\n",
    "three_dice_rolls = dice_roller()\n",
    "\n",
    "three_dice_rolls"
   ]
  },
  {
   "cell_type": "code",
   "execution_count": 87,
   "metadata": {},
   "outputs": [
    {
     "data": {
      "text/plain": [
       "((6, 2, 2), 6)"
      ]
     },
     "execution_count": 87,
     "metadata": {},
     "output_type": "execute_result"
    }
   ],
   "source": [
    "def checker(three_tuple):\n",
    "    # to make a list from tuple\n",
    "    list_1=list(three_tuple)\n",
    "    # to make a set from a list\n",
    "    list_2=list(set(list_1))\n",
    "    # to make a list contains tuple from both list above\n",
    "    new_list=[(item,list_1.count(item)) for item in list_2]\n",
    "#     print(new_list)\n",
    "    if len(list_2)==1:\n",
    "        return three_tuple, \"tripe\"\n",
    "    elif len(list_2)==2:\n",
    "        new_list.sort(key=lambda new_list:new_list[1])\n",
    "        return three_tuple, new_list[0][0]\n",
    "    else:\n",
    "        return three_tuple, False\n",
    "\n",
    "checker(three_dice_rolls)"
   ]
  },
  {
   "cell_type": "code",
   "execution_count": 74,
   "metadata": {},
   "outputs": [
    {
     "name": "stdout",
     "output_type": "stream",
     "text": [
      "(5, 1)\n"
     ]
    }
   ],
   "source": [
    "x=[(4, 2), (5, 1)]\n",
    "x.sort(key=lambda x:x[1])\n",
    "print(x[0])"
   ]
  },
  {
   "cell_type": "markdown",
   "metadata": {},
   "source": [
    "# Bonus: \n",
    "\n",
    "Create your own naive (unsophisticated) sorting algorithm that takes a list of ints and sorts the elements. It doesn't not have to be efficient, it just needs to give the correct sorted list as output. No points for using any built in or library method that sorts."
   ]
  },
  {
   "cell_type": "code",
   "execution_count": 94,
   "metadata": {},
   "outputs": [
    {
     "name": "stdout",
     "output_type": "stream",
     "text": [
      "first list without sorting : [23, 64, 57, 72, 44, 74, 65, 2, 81, 64, 75, 2, 11, 38, 42, 35, 23, 73, 61, 58]\n",
      "second list with sorting order : [2, 2, 11, 23, 23, 35, 38, 42, 44, 57, 61, 64, 64, 65, 72, 73, 74, 75, 81, 58]\n"
     ]
    }
   ],
   "source": [
    "import random\n",
    "list_a=[random.randrange(1,100,1) for i in range(20)]\n",
    "print(\"first list without sorting :\", list(list_a))\n",
    "for i in range(0,len(list_a)):\n",
    "    check=False\n",
    "    for j in range(i+1,len(list_a)-1):\n",
    "        if list_a[i]>list_a[j]:\n",
    "            check=True\n",
    "            num=list_a[i]\n",
    "            list_a[i]=list_a[j]\n",
    "            list_a[j]=num\n",
    "    if not check:\n",
    "        break\n",
    "\n",
    "print(\"second list with sorting order :\", list(list_a))\n",
    "        \n",
    "    \n"
   ]
  }
 ],
 "metadata": {
  "kernelspec": {
   "display_name": "Python 3",
   "language": "python",
   "name": "python3"
  },
  "language_info": {
   "codemirror_mode": {
    "name": "ipython",
    "version": 3
   },
   "file_extension": ".py",
   "mimetype": "text/x-python",
   "name": "python",
   "nbconvert_exporter": "python",
   "pygments_lexer": "ipython3",
   "version": "3.8.8"
  }
 },
 "nbformat": 4,
 "nbformat_minor": 4
}
