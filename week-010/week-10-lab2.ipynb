{
 "cells": [
  {
   "cell_type": "code",
   "execution_count": 8,
   "metadata": {},
   "outputs": [],
   "source": [
    "import mysql.connector #importing needed library\n",
    "\n",
    "# getting connetion to host\n",
    "\n",
    "#create a connection to server\n",
    "\n",
    "cnx = mysql.connector.connect(user='root', password='I hide it $',\n",
    "                              host='127.0.0.1',\n",
    "                              )\n",
    "# cnx.close()"
   ]
  },
  {
   "cell_type": "code",
   "execution_count": 9,
   "metadata": {},
   "outputs": [],
   "source": [
    "# 2 creating  a cursor and a database called lab_server\n",
    "mycursor = cnx.cursor()\n",
    "mycursor.execute(\"CREATE DATABASE lab_server\")"
   ]
  },
  {
   "cell_type": "code",
   "execution_count": 10,
   "metadata": {},
   "outputs": [
    {
     "name": "stdout",
     "output_type": "stream",
     "text": [
      "('childcaremanagementsystem',)\n",
      "('information_schema',)\n",
      "('lab_server',)\n",
      "('mysql',)\n",
      "('performance_schema',)\n",
      "('sakila',)\n",
      "('studentapp',)\n"
     ]
    }
   ],
   "source": [
    "#printing out all databases in the server\n",
    "\n",
    "mycursor.execute(\"SHOW DATABASES\")\n",
    "for db in mycursor:\n",
    "    print(db)\n"
   ]
  },
  {
   "cell_type": "code",
   "execution_count": 11,
   "metadata": {},
   "outputs": [],
   "source": [
    "# better practice to close connection\n",
    "cnx.close()"
   ]
  },
  {
   "cell_type": "code",
   "execution_count": 12,
   "metadata": {},
   "outputs": [],
   "source": [
    "#4 creating connection the lab_server database\n",
    "mydb = mysql.connector.connect(user='root', password='I hide it$$',\n",
    "                              host='127.0.0.1', database='lab_server'\n",
    "                              )"
   ]
  },
  {
   "cell_type": "code",
   "execution_count": 13,
   "metadata": {},
   "outputs": [],
   "source": [
    "mycursor = mydb.cursor()"
   ]
  },
  {
   "cell_type": "code",
   "execution_count": null,
   "metadata": {},
   "outputs": [],
   "source": [
    "# 5. Creates a TABLE called STUDENTS. The TABLE should have the\n",
    "# following Columns. \n",
    "# An INT as the PRIMARY KEY called id that AUTO INCRIMENTS, a\n",
    "# VARCHAR(255) as FIRST_NAME, and an INT as AVG_GRADE.\n",
    "\n",
    "\n",
    "TABLES = {}\n",
    "TABLES['students'] = (\n",
    "    \"CREATE TABLE `students` (\"\n",
    "    \"  `id` int(11) NOT NULL AUTO_INCREMENT,\"\n",
    "    \"  `first_name` varchar(255) NOT NULL,\"\n",
    "    \"  `avg_grade` int ,\"\n",
    "    \"  PRIMARY KEY (`id`)\"\n",
    "    \") ENGINE=InnoDB\")"
   ]
  },
  {
   "cell_type": "code",
   "execution_count": null,
   "metadata": {},
   "outputs": [],
   "source": [
    "mycursor.execute(TABLES['students'])"
   ]
  },
  {
   "cell_type": "code",
   "execution_count": 14,
   "metadata": {},
   "outputs": [
    {
     "name": "stdout",
     "output_type": "stream",
     "text": [
      "('student_grades',)\n",
      "('students',)\n"
     ]
    }
   ],
   "source": [
    "# 6 Print all tables in our Schema\n",
    "mycursor.execute('show tables')\n",
    "for table in mycursor:\n",
    "    print(table)"
   ]
  },
  {
   "cell_type": "code",
   "execution_count": null,
   "metadata": {},
   "outputs": [],
   "source": [
    "# 7. Fill the table with Dummy Data. Names don't have to be unique. Pass\n",
    "# 0s as the AVG_GRADE for now.\n",
    "add_student = (\"INSERT INTO students \"\n",
    "               \"(first_name, avg_grade) \"\n",
    "               \"VALUES ( %s, %s)\")\n",
    "data_student= ('mustapha', 0)\n",
    "# Insert new student\n",
    "mycursor.execute(add_student, data_student)\n",
    "# stud_no = mycursor.lastrowid\n",
    "mydb.commit()"
   ]
  },
  {
   "cell_type": "code",
   "execution_count": null,
   "metadata": {},
   "outputs": [],
   "source": [
    "# need to install this library in order to play with dummy data\n",
    "!pip install Faker\n",
    "from faker import Faker"
   ]
  },
  {
   "cell_type": "code",
   "execution_count": null,
   "metadata": {},
   "outputs": [],
   "source": [
    "# Creating fake data\n",
    "import pandas as pd\n",
    "import random\n",
    "from random import randrange\n",
    "from datetime import datetime\n",
    "nr_of_students = 100\n",
    "fake = Faker('de_DE')\n",
    "students = []\n",
    "for student_id in range(nr_of_students):\n",
    "    #create student's name\n",
    "    name = fake.name()\n",
    "    #create student's avg_grade\n",
    "    # avg_grade=fake.random.randint(70,100)\n",
    "    students.append((name,0))\n",
    "print(students)\n"
   ]
  },
  {
   "cell_type": "code",
   "execution_count": null,
   "metadata": {},
   "outputs": [],
   "source": [
    "# feeding this data into our table\n",
    "data_student=students\n",
    "for dt in data_student:\n",
    "    mycursor.execute(add_student, dt)\n",
    "# stud_no = mycursor.lastrowid\n",
    "mydb.commit()"
   ]
  },
  {
   "cell_type": "code",
   "execution_count": null,
   "metadata": {},
   "outputs": [],
   "source": [
    "# 7. Creates a TABLE called student_grades that contains the columns student_id as an int,\n",
    "# assignment_num as an int, assignment_grade as an int, and assignment_num_and_student_id as a VARCHAR(255) which should be the primary key.\n",
    "TABLES['student_grades'] = (\n",
    "    \"CREATE TABLE `student_grades` (\"\n",
    "    \"  `student_id` int NOT NULL,\"\n",
    "    \"  `assignment_num` int NOT NULL,\"\n",
    "    \"  `assignment_grads` int NOT NULL,\"\n",
    "    \"  `assignment_num_and_student_id` varchar(255) NOT NULL,\"\n",
    "    \"  PRIMARY KEY (`assignment_num_and_student_id`)\"\n",
    "    \") ENGINE=InnoDB\")"
   ]
  },
  {
   "cell_type": "code",
   "execution_count": null,
   "metadata": {},
   "outputs": [],
   "source": [
    "mycursor.execute(TABLES['student_grades'])"
   ]
  },
  {
   "cell_type": "code",
   "execution_count": 15,
   "metadata": {},
   "outputs": [
    {
     "name": "stdout",
     "output_type": "stream",
     "text": [
      "('student_grades',)\n",
      "('students',)\n"
     ]
    }
   ],
   "source": [
    "# 8 check for the table if it exist or not\n",
    "mycursor.execute('show tables')\n",
    "for table in mycursor:\n",
    "    print(table)"
   ]
  },
  {
   "cell_type": "code",
   "execution_count": null,
   "metadata": {},
   "outputs": [],
   "source": [
    "# 9. Add rows to the students_grades table. Every student should have 4\n",
    "# assignments. Grades can be random. assignment_name_and_student_id \n",
    "# should be a string that combines the assignment number and student ID\n",
    "# to make a unique key.\n",
    "# ****BONUS*** MAKE A PROGRAM THAT CREATES THIS DUMMY DATA\n",
    "# PROGRAMATICALLY INSTEAD OF YOU HAVING TO TYPE ALL THE DUMMY DATA OUT. "
   ]
  },
  {
   "cell_type": "code",
   "execution_count": null,
   "metadata": {},
   "outputs": [],
   "source": [
    "# for testing our code:\n",
    "query = (\"SELECT id FROM students \")\n",
    "mycursor = mydb.cursor()\n",
    "mycursor.execute(query)\n",
    "for i in mycursor:\n",
    "    print(i[0])"
   ]
  },
  {
   "cell_type": "code",
   "execution_count": null,
   "metadata": {},
   "outputs": [],
   "source": [
    "\n",
    "# 10. Create a program that now goes through our students_grades table. IT should calculate the average for each of our students.\n",
    "query = (\"SELECT id FROM students \")\n",
    "\n",
    "mycursor.execute(query)\n",
    "\n",
    "assignment_num=[1,2,3,4]\n",
    "\n",
    "add_student_assignment = (\"INSERT INTO student_grades \"\n",
    "               \"(student_id,assignment_num, assignment_grads,assignment_num_and_student_id) \"\n",
    "               \"VALUES ( %s, %s, %s, %s)\")\n",
    "\n",
    "myresult = mycursor.fetchall()\n",
    "\n",
    "for studentId in myresult:\n",
    "  for assignment in assignment_num:\n",
    "    assignment_grads=random.randint(56,100)\n",
    "    key_table=str(assignment)+str(studentId[0])\n",
    "    data_student=(studentId[0],assignment,assignment_grads,key_table)\n",
    "    mycursor.execute(add_student_assignment, data_student)\n",
    "mydb.commit()\n",
    "    "
   ]
  },
  {
   "cell_type": "code",
   "execution_count": null,
   "metadata": {},
   "outputs": [],
   "source": [
    "# 10. Create a program that INSERTS the average of  the grades INTO the students TABLE.\n",
    "# 11. Ensure that your DB is populated with the correct data. \n",
    "query=\"SELECT student_id , avg(assignment_grads) from student_grades group by student_id\"\n",
    "mycursor.execute(query)\n",
    "myresult = mycursor.fetchall()\n",
    "\n",
    "\n",
    "for id, avg in myresult:\n",
    "    sql = \"UPDATE students SET avg_grade = %s  WHERE id = %s\"\n",
    "    val = (avg, id)\n",
    "    mycursor.execute(sql, val)\n",
    "mydb.commit()"
   ]
  },
  {
   "cell_type": "code",
   "execution_count": null,
   "metadata": {},
   "outputs": [],
   "source": [
    "#Always a good practice to close the connection\n",
    "mydb.close()"
   ]
  },
  {
   "cell_type": "code",
   "execution_count": null,
   "metadata": {},
   "outputs": [],
   "source": []
  },
  {
   "cell_type": "code",
   "execution_count": null,
   "metadata": {},
   "outputs": [],
   "source": []
  },
  {
   "cell_type": "code",
   "execution_count": null,
   "metadata": {},
   "outputs": [],
   "source": []
  }
 ],
 "metadata": {
  "interpreter": {
   "hash": "4fe423c96aa21f041534bead582c2e6c3f42ab46597860deda9051867850283b"
  },
  "kernelspec": {
   "display_name": "Python 3.8.5 32-bit",
   "language": "python",
   "name": "python3"
  },
  "language_info": {
   "codemirror_mode": {
    "name": "ipython",
    "version": 3
   },
   "file_extension": ".py",
   "mimetype": "text/x-python",
   "name": "python",
   "nbconvert_exporter": "python",
   "pygments_lexer": "ipython3",
   "version": "3.8.5"
  },
  "orig_nbformat": 4
 },
 "nbformat": 4,
 "nbformat_minor": 2
}
