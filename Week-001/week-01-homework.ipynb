{
 "cells": [
  {
   "cell_type": "markdown",
   "metadata": {},
   "source": [
    "# Week 1 HW\n",
    "\n",
    "**Exercise 1 and 3 are due Monday 9/20**  \n",
    "**Exercise 2 and 4 are due Tuesday 9/21**  \n",
    "**Exercise 5 and 6 are due Wednesday 9/22**  "
   ]
  },
  {
   "cell_type": "markdown",
   "metadata": {},
   "source": [
    "# Exercise 1"
   ]
  },
  {
   "cell_type": "markdown",
   "metadata": {},
   "source": [
    "a. Set a variable to a user input. "
   ]
  },
  {
   "cell_type": "code",
   "execution_count": null,
   "metadata": {},
   "outputs": [],
   "source": [
    "getUserName=input(\"Please enter your name\\t\")\n",
    "print(\"You name is {}\".format(getUserName))"
   ]
  },
  {
   "cell_type": "markdown",
   "metadata": {},
   "source": [
    "b. Set two variables in the same statement."
   ]
  },
  {
   "cell_type": "code",
   "execution_count": null,
   "metadata": {},
   "outputs": [],
   "source": [
    "first_name,last_name=input(\"Enter your first name:\\t\"),input(\"Enter your last name:\\t\")\n",
    "print(\"Welcome {} {} to TKH Program\".format(first_name,last_name))"
   ]
  },
  {
   "cell_type": "markdown",
   "metadata": {},
   "source": [
    "c. Create a variable with a value that when cast as a bool returns True."
   ]
  },
  {
   "cell_type": "code",
   "execution_count": null,
   "metadata": {},
   "outputs": [],
   "source": [
    "x=5<10\n",
    "bool(x)"
   ]
  },
  {
   "cell_type": "markdown",
   "metadata": {},
   "source": [
    "d. If we add up all the numbers from 0 to 100, we get 5050. \n",
    "\n",
    "What sum do we get if we add up all the numbers from 0 to 1000?\n",
    "\n",
    "(Show your work)"
   ]
  },
  {
   "cell_type": "code",
   "execution_count": null,
   "metadata": {},
   "outputs": [],
   "source": [
    "#Mathematic Approach:\n",
    "\n",
    "#The sum of arithmetic series such 0+1+2+3+4+...+n=n*(n+1)/2\n",
    "#Here is the proof:\n",
    "#The rule can be proven using Induction [assum n=1, so both sides are equalls since 1=(1*(1+1)/2)\n",
    "#Now, assume it is true for n=k means that 0+1+2+3+...+k=k(k+1)/2 and want to prove it for n=k+1 means want to prove 0+1+2+3+...+k+k+1=(k+1)(k+2)/2\n",
    "#Need to check the leftSide=1+2+3+...+(k+1) if it equals to rightSide=(k+1)(k+2)/n???\n",
    "#Start from left side: leftSide=1+2+3+..+k+k+1=(1+2+..+k)+k+1 by our assumption (0+1+2+3+...+k=k(k+1)/2) leftSide=k*(k+1)/2+(k+1)=(k+1)[1+k/2]=(k+1)(k+2)/2=rightSide\n",
    "#So we have proved using Induction that 1+2+...+n=n*(n+1)/2\n",
    "\n",
    "#Python code:\n",
    "\n",
    "# Direct code deriven from our math aproach:\n",
    "theSum=(1000*1001)/2\n",
    "print(\"The sum of all the numbers from 0 to 1000 is: {}\".format(theSum))\n"
   ]
  },
  {
   "cell_type": "markdown",
   "metadata": {},
   "source": [
    "# Exercise 2 \n",
    "\n",
    "Convert the following logical statements into python. Print the result for each possible combination (TT, TF, FT, FF)"
   ]
  },
  {
   "cell_type": "markdown",
   "metadata": {},
   "source": [
    "¬(p || q )  "
   ]
  },
  {
   "cell_type": "code",
   "execution_count": null,
   "metadata": {},
   "outputs": [],
   "source": []
  },
  {
   "cell_type": "markdown",
   "metadata": {},
   "source": [
    "( p || q ) ⊕ ( p & q)"
   ]
  },
  {
   "cell_type": "code",
   "execution_count": null,
   "metadata": {},
   "outputs": [],
   "source": []
  },
  {
   "cell_type": "markdown",
   "metadata": {},
   "source": [
    "(p & ¬q ) || (¬p & q)"
   ]
  },
  {
   "cell_type": "code",
   "execution_count": null,
   "metadata": {},
   "outputs": [],
   "source": []
  },
  {
   "cell_type": "markdown",
   "metadata": {},
   "source": [
    "# Exercise 3"
   ]
  },
  {
   "cell_type": "markdown",
   "metadata": {},
   "source": [
    " a. Create an array of strings that consist of five individual zeros followed by five individual ones. Demonstrate that it's an array, and that this is an array of strings using a built-in python function."
   ]
  },
  {
   "cell_type": "code",
   "execution_count": null,
   "metadata": {},
   "outputs": [],
   "source": [
    "array = [\"0\",\"0\",\"0\",\"0\",\"0\",\"1\",\"1\",\"1\",\"1\",\"1\"]\n",
    "\n",
    "#check the type of the array\n",
    "print(\"We are dealing with: \", type(array))\n",
    "\n",
    "# check that is all element in an array are strings data type\n",
    "#Get element which is not string data type\n",
    "elements=[item for item in array if not isinstance(item,str)]\n",
    "if len(elements)==0: print(\"It is an array of strings\") \n",
    "else: \n",
    "    print(\"Some elements in array are not string and they are: \", elements)\n",
    "    \n"
   ]
  },
  {
   "cell_type": "markdown",
   "metadata": {},
   "source": [
    "b. Create an array of integers that consists of the same. Output the number of elements in the array using a built-in python function"
   ]
  },
  {
   "cell_type": "code",
   "execution_count": null,
   "metadata": {},
   "outputs": [],
   "source": [
    "# Creating an array of integers that consists of the same origine array contents \n",
    "\n",
    "# mapping each element (string) of the previous array to a new element which becomes (integer), \n",
    "# then creating a list of integers\n",
    "array1=list(map(int,array))\n",
    "print(\"The array of integers we are dealing with is: {}\".format(list(array1)))\n",
    "#printing out the list \n",
    "print(\"The number of element in the array is: {}\".format(len(array1)))"
   ]
  },
  {
   "cell_type": "markdown",
   "metadata": {},
   "source": [
    "c. Create an array of floats that consists of the same. Demonstrate that this array is one of floats using a built-in python function."
   ]
  },
  {
   "cell_type": "code",
   "execution_count": null,
   "metadata": {},
   "outputs": [],
   "source": [
    "# Creating an array of floats that consists of the same origin array contents\n",
    "\n",
    "# mapping each element (string) of the previous array to a new element which becomes (float), \n",
    "# then creating a list of floats\n",
    "array2=list(map(float,array))\n",
    "print(\"The array of floats we are dealing with is: {}\".format(list(array2)))\n",
    "\n",
    "# check that is all element in an array are floats data type\n",
    "\n",
    "#Get element which is not float data type\n",
    "elements=[item for item in array2 if not isinstance(item,float)]\n",
    "if len(elements)==0: print(\"It is an array of floats\") \n",
    "else: \n",
    "    print(\"Some elements in array are not float and they are: \", elements)"
   ]
  },
  {
   "cell_type": "markdown",
   "metadata": {},
   "source": [
    "d. Create an array of bools that consists of the same. Demonstrate that this array is one of bools using a built-in python function."
   ]
  },
  {
   "cell_type": "code",
   "execution_count": null,
   "metadata": {},
   "outputs": [],
   "source": [
    "# Creating an array of bool that consists of the same\n",
    "\n",
    "# mapping each element (string) of the previous array to a new element which becomes (boolean), \n",
    "# then creating a list of floats\n",
    "array3=list(map(bool,array1))\n",
    "print(\"The array of bool we are dealing with is: {}\".format(list(array3)))\n",
    "\n",
    "# check that is all element in an array are bools data type\n",
    "\n",
    "#Get element which is not bools data type\n",
    "elements=[item for item in array3 if not isinstance(item,bool)]\n",
    "if len(elements)==0: print(\"It is an array of bools\") \n",
    "else: \n",
    "    print(\"Some elements in array are not bool and they are: \", elements)"
   ]
  },
  {
   "cell_type": "markdown",
   "metadata": {},
   "source": [
    "# Exercise 4\n",
    "\n",
    "Without actually using Python, determine what the following would evaluate\n",
    "to in Python and explain step-by-step how you arrived at this answer:\n",
    "\n",
    "    a. (1 or ((0 or 0) or 1)) or 1\n",
    "    b. ((1 or 0) or 0 or 1) or 1\n",
    "    c. 1 or 0 or 0 or 1 or 1\n",
    "    \n",
    "Change the following cells to markdown and fill your answer in them."
   ]
  },
  {
   "cell_type": "markdown",
   "metadata": {},
   "source": []
  },
  {
   "cell_type": "markdown",
   "metadata": {},
   "source": [
    "# Exercise 5\n",
    "\n",
    "To convert Fahrenheit to Celsius, you use the following formula:\n",
    "\n",
    "$$\n",
    "    C^{\\circ} = \\frac{ (F^{\\circ} - 32)}{1.8}\n",
    "$$\n",
    "\n",
    "Given a Fahrenheit input `temperature`, write some python statements to print the temperature in Celsius.\n"
   ]
  },
  {
   "cell_type": "code",
   "execution_count": null,
   "metadata": {},
   "outputs": [],
   "source": [
    "temperature = input(\"Enter temperature in Fahrenheit: \")"
   ]
  },
  {
   "cell_type": "markdown",
   "metadata": {},
   "source": [
    "# Exercise 6\n",
    "\n",
    "If given a height and a radius, print the volume of a cylinder.\n",
    "\n",
    "$$ \n",
    "    V = \\pi r^2h\n",
    "$$"
   ]
  },
  {
   "cell_type": "code",
   "execution_count": null,
   "metadata": {},
   "outputs": [],
   "source": [
    "height = input(\"Enter a height: \")\n",
    "radius = input(\"Enter a radius: \")"
   ]
  },
  {
   "cell_type": "code",
   "execution_count": null,
   "metadata": {},
   "outputs": [],
   "source": []
  }
 ],
 "metadata": {
  "kernelspec": {
   "display_name": "Python 3",
   "language": "python",
   "name": "python3"
  },
  "language_info": {
   "codemirror_mode": {
    "name": "ipython",
    "version": 3
   },
   "file_extension": ".py",
   "mimetype": "text/x-python",
   "name": "python",
   "nbconvert_exporter": "python",
   "pygments_lexer": "ipython3",
   "version": "3.8.8"
  }
 },
 "nbformat": 4,
 "nbformat_minor": 4
}
