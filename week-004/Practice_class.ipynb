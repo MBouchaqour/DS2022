{
 "cells": [
  {
   "cell_type": "code",
   "execution_count": 1,
   "id": "41c43609",
   "metadata": {},
   "outputs": [],
   "source": [
    "import random"
   ]
  },
  {
   "cell_type": "code",
   "execution_count": 8,
   "id": "e251baa2",
   "metadata": {},
   "outputs": [],
   "source": [
    "list_a=[random.randrange(1,100,1) for i in range(20)]"
   ]
  },
  {
   "cell_type": "code",
   "execution_count": 9,
   "id": "62c35dd2",
   "metadata": {},
   "outputs": [
    {
     "data": {
      "text/plain": [
       "[96, 86, 73, 68, 5, 99, 78, 52, 72, 96, 86, 62, 46, 37, 82, 98, 21, 45, 22, 94]"
      ]
     },
     "execution_count": 9,
     "metadata": {},
     "output_type": "execute_result"
    }
   ],
   "source": [
    "list_a"
   ]
  },
  {
   "cell_type": "code",
   "execution_count": 11,
   "id": "c480328a",
   "metadata": {},
   "outputs": [
    {
     "data": {
      "text/plain": [
       "[99, 98, 96, 96, 94, 86, 86, 82, 78, 73, 72, 68, 62, 52, 46, 45, 37, 22, 21, 5]"
      ]
     },
     "execution_count": 11,
     "metadata": {},
     "output_type": "execute_result"
    }
   ],
   "source": [
    "list_a.sort(reverse=True)\n",
    "list_a"
   ]
  },
  {
   "cell_type": "code",
   "execution_count": 28,
   "id": "f4489ab9",
   "metadata": {},
   "outputs": [],
   "source": [
    "def bubble_s(arr):\n",
    "    n=len(arr)\n",
    "    for i in range(n):\n",
    "        swap=True\n",
    "        for j in range(i+1,n):\n",
    "            if arr[i]>arr[j]:\n",
    "                arr[i],arr[j]=arr[j],arr[i]\n",
    "                swap=False\n",
    "        if swap:\n",
    "            break\n",
    "            \n",
    "    return arr\n",
    "        "
   ]
  },
  {
   "cell_type": "code",
   "execution_count": null,
   "id": "318addad",
   "metadata": {},
   "outputs": [],
   "source": []
  },
  {
   "cell_type": "code",
   "execution_count": 29,
   "id": "263681c9",
   "metadata": {},
   "outputs": [],
   "source": [
    "arr=[96, 86, 73, 68, 5, 0, 78, 52, 72, 96, 86, 62, 46, 37, 56, 98, 21, 45, 22, 94]"
   ]
  },
  {
   "cell_type": "code",
   "execution_count": 30,
   "id": "8ff3a607",
   "metadata": {},
   "outputs": [
    {
     "name": "stdout",
     "output_type": "stream",
     "text": [
      "[0, 5, 21, 22, 37, 45, 46, 52, 56, 62, 68, 72, 73, 78, 86, 86, 94, 96, 96, 98]\n"
     ]
    }
   ],
   "source": [
    "print(bubble_s(arr))"
   ]
  },
  {
   "cell_type": "code",
   "execution_count": 36,
   "id": "f75f1ad8",
   "metadata": {},
   "outputs": [
    {
     "data": {
      "text/plain": [
       "[14, 6]"
      ]
     },
     "execution_count": 36,
     "metadata": {},
     "output_type": "execute_result"
    }
   ],
   "source": [
    "max_1=lambda x,y:[x,y] if x>y else [y,x]\n",
    "max_1(14,6)"
   ]
  },
  {
   "cell_type": "code",
   "execution_count": 39,
   "id": "ae69dcfe",
   "metadata": {},
   "outputs": [],
   "source": [
    "def quickSort(arr, low, high):\n",
    "    if len(arr) == 1:\n",
    "        return arr\n",
    "    if low < high:\n",
    "  \n",
    "        # pi is partitioning index, arr[p] is now\n",
    "        # at right place\n",
    "        pi = partition(arr, low, high)\n",
    "  \n",
    "        # Separately sort elements before\n",
    "        # partition and after partition\n",
    "        quickSort(arr, low, pi-1)\n",
    "        quickSort(arr, pi+1, high)"
   ]
  },
  {
   "cell_type": "code",
   "execution_count": 40,
   "id": "21bdf230",
   "metadata": {},
   "outputs": [
    {
     "ename": "NameError",
     "evalue": "name 'partition' is not defined",
     "output_type": "error",
     "traceback": [
      "\u001b[1;31m---------------------------------------------------------------------------\u001b[0m",
      "\u001b[1;31mNameError\u001b[0m                                 Traceback (most recent call last)",
      "\u001b[1;32m<ipython-input-40-55821a518dfa>\u001b[0m in \u001b[0;36m<module>\u001b[1;34m\u001b[0m\n\u001b[0;32m      1\u001b[0m \u001b[0marr\u001b[0m\u001b[1;33m=\u001b[0m\u001b[1;33m[\u001b[0m\u001b[1;36m96\u001b[0m\u001b[1;33m,\u001b[0m \u001b[1;36m86\u001b[0m\u001b[1;33m,\u001b[0m \u001b[1;36m73\u001b[0m\u001b[1;33m,\u001b[0m \u001b[1;36m68\u001b[0m\u001b[1;33m,\u001b[0m \u001b[1;36m5\u001b[0m\u001b[1;33m,\u001b[0m \u001b[1;36m0\u001b[0m\u001b[1;33m,\u001b[0m \u001b[1;36m78\u001b[0m\u001b[1;33m,\u001b[0m \u001b[1;36m52\u001b[0m\u001b[1;33m,\u001b[0m \u001b[1;36m72\u001b[0m\u001b[1;33m,\u001b[0m \u001b[1;36m96\u001b[0m\u001b[1;33m,\u001b[0m \u001b[1;36m86\u001b[0m\u001b[1;33m,\u001b[0m \u001b[1;36m62\u001b[0m\u001b[1;33m,\u001b[0m \u001b[1;36m46\u001b[0m\u001b[1;33m,\u001b[0m \u001b[1;36m37\u001b[0m\u001b[1;33m,\u001b[0m \u001b[1;36m56\u001b[0m\u001b[1;33m,\u001b[0m \u001b[1;36m98\u001b[0m\u001b[1;33m,\u001b[0m \u001b[1;36m21\u001b[0m\u001b[1;33m,\u001b[0m \u001b[1;36m45\u001b[0m\u001b[1;33m,\u001b[0m \u001b[1;36m22\u001b[0m\u001b[1;33m,\u001b[0m \u001b[1;36m94\u001b[0m\u001b[1;33m]\u001b[0m\u001b[1;33m\u001b[0m\u001b[1;33m\u001b[0m\u001b[0m\n\u001b[1;32m----> 2\u001b[1;33m \u001b[0mquickSort\u001b[0m\u001b[1;33m(\u001b[0m\u001b[0marr\u001b[0m\u001b[1;33m,\u001b[0m\u001b[1;36m1\u001b[0m\u001b[1;33m,\u001b[0m\u001b[1;36m10\u001b[0m\u001b[1;33m)\u001b[0m\u001b[1;33m\u001b[0m\u001b[1;33m\u001b[0m\u001b[0m\n\u001b[0m",
      "\u001b[1;32m<ipython-input-39-0d90f8b97437>\u001b[0m in \u001b[0;36mquickSort\u001b[1;34m(arr, low, high)\u001b[0m\n\u001b[0;32m      6\u001b[0m         \u001b[1;31m# pi is partitioning index, arr[p] is now\u001b[0m\u001b[1;33m\u001b[0m\u001b[1;33m\u001b[0m\u001b[1;33m\u001b[0m\u001b[0m\n\u001b[0;32m      7\u001b[0m         \u001b[1;31m# at right place\u001b[0m\u001b[1;33m\u001b[0m\u001b[1;33m\u001b[0m\u001b[1;33m\u001b[0m\u001b[0m\n\u001b[1;32m----> 8\u001b[1;33m         \u001b[0mpi\u001b[0m \u001b[1;33m=\u001b[0m \u001b[0mpartition\u001b[0m\u001b[1;33m(\u001b[0m\u001b[0marr\u001b[0m\u001b[1;33m,\u001b[0m \u001b[0mlow\u001b[0m\u001b[1;33m,\u001b[0m \u001b[0mhigh\u001b[0m\u001b[1;33m)\u001b[0m\u001b[1;33m\u001b[0m\u001b[1;33m\u001b[0m\u001b[0m\n\u001b[0m\u001b[0;32m      9\u001b[0m \u001b[1;33m\u001b[0m\u001b[0m\n\u001b[0;32m     10\u001b[0m         \u001b[1;31m# Separately sort elements before\u001b[0m\u001b[1;33m\u001b[0m\u001b[1;33m\u001b[0m\u001b[1;33m\u001b[0m\u001b[0m\n",
      "\u001b[1;31mNameError\u001b[0m: name 'partition' is not defined"
     ]
    }
   ],
   "source": [
    "arr=[96, 86, 73, 68, 5, 0, 78, 52, 72, 96, 86, 62, 46, 37, 56, 98, 21, 45, 22, 94]\n",
    "quickSort(arr,1,10)"
   ]
  },
  {
   "cell_type": "code",
   "execution_count": 4,
   "id": "67f38e9c",
   "metadata": {},
   "outputs": [],
   "source": [
    "def quick_sort(collection):\n",
    "    n=collection\n",
    "    if (len(n)<1):\n",
    "        return n\n",
    "    pivot=random.choice(n)\n",
    "    less_pivot=[x for x in n if x<pivot]\n",
    "    equal_pivot=[x for x in n if x==pivot]\n",
    "    greater_pivot=[x for x in n if x>pivot]\n",
    "    \n",
    "    return quick_sort(less_pivot)+equal_pivot+quick_sort(greater_pivot)\n",
    "        "
   ]
  },
  {
   "cell_type": "code",
   "execution_count": 5,
   "id": "9530d91b",
   "metadata": {},
   "outputs": [
    {
     "data": {
      "text/plain": [
       "[96, 86, 73, 68, 5, 0, 78, 52, 72, 96, 86, 62, 46, 37, 56, 98, 21, 45, 22, 94]"
      ]
     },
     "execution_count": 5,
     "metadata": {},
     "output_type": "execute_result"
    }
   ],
   "source": [
    "arr=[96, 86, 73, 68, 5, 0, 78, 52, 72, 96, 86, 62, 46, 37, 56, 98, 21, 45, 22, 94]\n",
    "quick_sort(arr)\n",
    "arr"
   ]
  },
  {
   "cell_type": "code",
   "execution_count": null,
   "id": "c2fb7770",
   "metadata": {},
   "outputs": [],
   "source": []
  }
 ],
 "metadata": {
  "kernelspec": {
   "display_name": "Python 3",
   "language": "python",
   "name": "python3"
  },
  "language_info": {
   "codemirror_mode": {
    "name": "ipython",
    "version": 3
   },
   "file_extension": ".py",
   "mimetype": "text/x-python",
   "name": "python",
   "nbconvert_exporter": "python",
   "pygments_lexer": "ipython3",
   "version": "3.8.8"
  }
 },
 "nbformat": 4,
 "nbformat_minor": 5
}
