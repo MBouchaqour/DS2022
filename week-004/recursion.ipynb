{
 "cells": [
  {
   "cell_type": "code",
   "execution_count": 5,
   "id": "c7226ac9",
   "metadata": {},
   "outputs": [],
   "source": [
    "def call_me(x):\n",
    "    if x==1:\n",
    "        return 1\n",
    "    else:\n",
    "        print(x)\n",
    "        call_me(x-1)"
   ]
  },
  {
   "cell_type": "code",
   "execution_count": 6,
   "id": "cfb1723e",
   "metadata": {},
   "outputs": [
    {
     "name": "stdout",
     "output_type": "stream",
     "text": [
      "10\n",
      "9\n",
      "8\n",
      "7\n",
      "6\n",
      "5\n",
      "4\n",
      "3\n",
      "2\n"
     ]
    }
   ],
   "source": [
    "call_me(10)"
   ]
  },
  {
   "cell_type": "code",
   "execution_count": 26,
   "id": "b2c02191",
   "metadata": {},
   "outputs": [],
   "source": [
    "def get_distance(a,b):\n",
    "        if a>b:\n",
    "            return get_distance(a-1,b)\n",
    "        elif a<b:\n",
    "            return get_distance(a,b-1)\n",
    "        else:\n",
    "            return (1,1)"
   ]
  },
  {
   "cell_type": "code",
   "execution_count": 27,
   "id": "4ff11653",
   "metadata": {},
   "outputs": [
    {
     "data": {
      "text/plain": [
       "(1, 1)"
      ]
     },
     "execution_count": 27,
     "metadata": {},
     "output_type": "execute_result"
    }
   ],
   "source": [
    "get_distance(2,9)"
   ]
  },
  {
   "cell_type": "code",
   "execution_count": null,
   "id": "f1c29775",
   "metadata": {},
   "outputs": [],
   "source": []
  },
  {
   "cell_type": "code",
   "execution_count": 9,
   "id": "36468e23",
   "metadata": {},
   "outputs": [],
   "source": [
    "def fatorial(n):\n",
    "    if n==1:\n",
    "        return 1\n",
    "    else:\n",
    "        return n*fatorial(n-1)"
   ]
  },
  {
   "cell_type": "code",
   "execution_count": 12,
   "id": "55cd0b3a",
   "metadata": {},
   "outputs": [
    {
     "data": {
      "text/plain": [
       "3628800"
      ]
     },
     "execution_count": 12,
     "metadata": {},
     "output_type": "execute_result"
    }
   ],
   "source": [
    "fatorial(10)"
   ]
  },
  {
   "cell_type": "code",
   "execution_count": 14,
   "id": "ab8401de",
   "metadata": {},
   "outputs": [
    {
     "data": {
      "text/plain": [
       "3628800"
      ]
     },
     "execution_count": 14,
     "metadata": {},
     "output_type": "execute_result"
    }
   ],
   "source": [
    "import math\n",
    "x=math.factorial(10)\n",
    "x"
   ]
  },
  {
   "cell_type": "code",
   "execution_count": 28,
   "id": "2490fa73",
   "metadata": {},
   "outputs": [],
   "source": [
    "d=[2,22,222,2222,22222,222222]"
   ]
  },
  {
   "cell_type": "code",
   "execution_count": 56,
   "id": "a92ebd90",
   "metadata": {},
   "outputs": [],
   "source": [
    "def sum_list(collection):\n",
    "    if len(collection)==0:\n",
    "        return 0\n",
    "    else:\n",
    "#         print(collection[0])\n",
    "        return collection[0]+sum_list(collection[1:])\n",
    "    "
   ]
  },
  {
   "cell_type": "code",
   "execution_count": 52,
   "id": "f4586141",
   "metadata": {},
   "outputs": [
    {
     "name": "stdout",
     "output_type": "stream",
     "text": [
      "1\n",
      "1\n"
     ]
    },
    {
     "data": {
      "text/plain": [
       "2"
      ]
     },
     "execution_count": 52,
     "metadata": {},
     "output_type": "execute_result"
    }
   ],
   "source": [
    "sum_list([1,1])"
   ]
  },
  {
   "cell_type": "code",
   "execution_count": 54,
   "id": "8854b7ee",
   "metadata": {},
   "outputs": [
    {
     "data": {
      "text/plain": [
       "[13, 10, 10, 3, 9, 13, 6, 1, 5, 14, 12, 3, 10, 11, 8, 1, 5, 13, 12, 7]"
      ]
     },
     "execution_count": 54,
     "metadata": {},
     "output_type": "execute_result"
    }
   ],
   "source": [
    "import random\n",
    "list_c=[random.randrange(1,15,1) for i in range(20)]\n",
    "list_c"
   ]
  },
  {
   "cell_type": "code",
   "execution_count": 57,
   "id": "31479a83",
   "metadata": {},
   "outputs": [
    {
     "data": {
      "text/plain": [
       "166"
      ]
     },
     "execution_count": 57,
     "metadata": {},
     "output_type": "execute_result"
    }
   ],
   "source": [
    "sum_list(list_c)"
   ]
  },
  {
   "cell_type": "code",
   "execution_count": 70,
   "id": "83f6b068",
   "metadata": {},
   "outputs": [],
   "source": [
    "def revlist(items):\n",
    "    if len(items)==0:\n",
    "        return []\n",
    "    else:\n",
    "        return ([items[-1]]+revlist(items[:-1]))"
   ]
  },
  {
   "cell_type": "code",
   "execution_count": 71,
   "id": "e4f7623b",
   "metadata": {},
   "outputs": [],
   "source": [
    "c=[13, 10, 10, 3, 9, 13, 6, 1, 5, 14, 12, 3, 10, 11, 8, 1, 5, 13, 12, 7]"
   ]
  },
  {
   "cell_type": "code",
   "execution_count": 72,
   "id": "340ed658",
   "metadata": {},
   "outputs": [
    {
     "data": {
      "text/plain": [
       "[7, 12, 13, 5, 1, 8, 11, 10, 3, 12, 14, 5, 1, 6, 13, 9, 3, 10, 10, 13]"
      ]
     },
     "execution_count": 72,
     "metadata": {},
     "output_type": "execute_result"
    }
   ],
   "source": [
    "revlist(c)"
   ]
  },
  {
   "cell_type": "code",
   "execution_count": 73,
   "id": "d4f722a0",
   "metadata": {},
   "outputs": [
    {
     "data": {
      "text/plain": [
       "[13, 10, 10, 3, 9, 13, 6, 1, 5, 14, 12, 3, 10, 11, 8, 1, 5, 13, 12]"
      ]
     },
     "execution_count": 73,
     "metadata": {},
     "output_type": "execute_result"
    }
   ],
   "source": [
    "c[:-1]"
   ]
  },
  {
   "cell_type": "code",
   "execution_count": null,
   "id": "8b6e201e",
   "metadata": {},
   "outputs": [],
   "source": []
  },
  {
   "cell_type": "code",
   "execution_count": null,
   "id": "eef102d7",
   "metadata": {},
   "outputs": [],
   "source": []
  }
 ],
 "metadata": {
  "kernelspec": {
   "display_name": "Python 3",
   "language": "python",
   "name": "python3"
  },
  "language_info": {
   "codemirror_mode": {
    "name": "ipython",
    "version": 3
   },
   "file_extension": ".py",
   "mimetype": "text/x-python",
   "name": "python",
   "nbconvert_exporter": "python",
   "pygments_lexer": "ipython3",
   "version": "3.8.8"
  }
 },
 "nbformat": 4,
 "nbformat_minor": 5
}
