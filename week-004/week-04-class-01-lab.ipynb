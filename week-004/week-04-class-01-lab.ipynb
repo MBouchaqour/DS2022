{
 "cells": [
  {
   "cell_type": "markdown",
   "metadata": {},
   "source": [
    "<div style=\"background: #000;\n",
    "            color: #FFF;\n",
    "            margin: 0px;\n",
    "                padding: 10px 0px 20px 0px;\n",
    "            text-align: center; \n",
    "                \">\n",
    "    <h1>Lab</h1>\n",
    "</div>\n"
   ]
  },
  {
   "cell_type": "markdown",
   "metadata": {},
   "source": [
    "# Question 1 \n",
    "\n",
    "We'd like to create a function that takes a number and outputs the number with it's ordinal indictator (e.g. 1 -> 1st, 2 -> 2nd, and so on).\n",
    "\n",
    "Walk us through the steps we might need to take. DO NOT write any code. Try writing what we call \"pseudocode\".\n",
    "\n",
    "# Answer 1\n",
    "\n",
    "First, we make sure what our function does to the input. At this case our function takes a number and output the number \n",
    "with its ordinal indicator. \n",
    "So, let us create this function\n",
    "create a new cell:\n",
    "def function_indicator(arg1):\n",
    "    create a dictionnary of indicators\n",
    "    ex:\n",
    "     indit_dict= \n",
    "     {\n",
    "      1:\"1st\",\n",
    "      2:\"2nd\",\n",
    "      ...\n",
    "      so on\n",
    "      }\n",
    "      \n",
    "  we need to check if the input exist in the indit_dict keys \n",
    "  if it exist return the input with its value \n",
    "\n",
    "Create second cell:\n",
    "we call our function and feed it with input:\n",
    "function_indicator(1)\n",
    "\n",
    "  "
   ]
  },
  {
   "cell_type": "code",
   "execution_count": 5,
   "metadata": {},
   "outputs": [],
   "source": [
    "#libraries I need for this exercises. Please run this cell first before everything else\n",
    "import math # importing math packages\n",
    "import numpy as np #importing numpy"
   ]
  },
  {
   "cell_type": "markdown",
   "metadata": {},
   "source": [
    "# Exercise 1\n",
    "\n",
    "Create a function that takes two parameters and returns a list."
   ]
  },
  {
   "cell_type": "code",
   "execution_count": 6,
   "metadata": {},
   "outputs": [],
   "source": [
    "#def function\n",
    "def toList(a,b):\n",
    "    return list((a,b))\n",
    "     "
   ]
  },
  {
   "cell_type": "code",
   "execution_count": 7,
   "metadata": {},
   "outputs": [
    {
     "data": {
      "text/plain": [
       "[0, 0]"
      ]
     },
     "execution_count": 7,
     "metadata": {},
     "output_type": "execute_result"
    }
   ],
   "source": [
    "#calling the function toList\n",
    "toList(0,0)"
   ]
  },
  {
   "cell_type": "markdown",
   "metadata": {},
   "source": [
    "# Exercise 2\n"
   ]
  },
  {
   "cell_type": "markdown",
   "metadata": {},
   "source": [
    "Create a function that will return the list of square roots from numbers from 1 to `n` (where `n` is the input)\n",
    "\n"
   ]
  },
  {
   "cell_type": "code",
   "execution_count": 8,
   "metadata": {},
   "outputs": [],
   "source": [
    "#import math library\n",
    "\n",
    "#defining function that taken an integer and return a list\n",
    "def list_square(n):\n",
    "    list_seq=[]\n",
    "    x=0\n",
    "    for i in range(1,n+1):\n",
    "        x=round(math.sqrt(i),2)\n",
    "        list_seq.append(x)\n",
    "    return list_seq\n",
    "        \n",
    "    "
   ]
  },
  {
   "cell_type": "code",
   "execution_count": 9,
   "metadata": {},
   "outputs": [
    {
     "data": {
      "text/plain": [
       "[1.0, 1.41, 1.73, 2.0, 2.24]"
      ]
     },
     "execution_count": 9,
     "metadata": {},
     "output_type": "execute_result"
    }
   ],
   "source": [
    "#calling the function\n",
    "list_square(5)"
   ]
  },
  {
   "cell_type": "markdown",
   "metadata": {},
   "source": [
    "# Exercise 3\n",
    "\n",
    "Create a function that takes `n` as the input and returns a `n`x`n` matrix where all the values are zeros. "
   ]
  },
  {
   "cell_type": "code",
   "execution_count": 10,
   "metadata": {},
   "outputs": [],
   "source": [
    "#defining matrix function \n",
    "def matrix(n):\n",
    "    x=(n,n)\n",
    "    return np.zeros(x)"
   ]
  },
  {
   "cell_type": "code",
   "execution_count": 11,
   "metadata": {},
   "outputs": [
    {
     "data": {
      "text/plain": [
       "array([[0., 0., 0.],\n",
       "       [0., 0., 0.],\n",
       "       [0., 0., 0.]])"
      ]
     },
     "execution_count": 11,
     "metadata": {},
     "output_type": "execute_result"
    }
   ],
   "source": [
    "#calling the funtion\n",
    "matrix(3)"
   ]
  },
  {
   "cell_type": "markdown",
   "metadata": {},
   "source": [
    "# Exercise 4\n",
    "\n",
    "Find an exercise from a previous lab and convert it into a function demonstrating the ability to define the function and call it using the correct arguments/keywords"
   ]
  },
  {
   "cell_type": "code",
   "execution_count": 12,
   "metadata": {},
   "outputs": [],
   "source": [
    "#using ex 6 from week 1 homework\n",
    "# If given a height and a radius, print the volume of a cylinder.\n",
    "#     V = \\pi r^2h\n",
    "def volume(h,r):\n",
    "    volume= math.pi * math.pow(radius,2)*int(height)\n",
    "    return volume"
   ]
  },
  {
   "cell_type": "code",
   "execution_count": 13,
   "metadata": {},
   "outputs": [
    {
     "name": "stdout",
     "output_type": "stream",
     "text": [
      "Enter a height: 45\n",
      "Enter a radius: 5.5\n",
      "The volume is: 4276.49\n"
     ]
    }
   ],
   "source": [
    "#Get height\n",
    "height = int(input(\"Enter a height: \"))\n",
    "\n",
    "#Get radius\n",
    "radius = float(input(\"Enter a radius: \"))\n",
    "\n",
    "#performing operation\n",
    "\n",
    "print(\"The volume is: {0:.2f}\".format(volume(height,radius)))"
   ]
  },
  {
   "cell_type": "markdown",
   "metadata": {},
   "source": [
    "# Bonus:\n",
    "    \n",
    "Create a function that has a function within. Demonstrate how you might use this function in a real world application."
   ]
  },
  {
   "cell_type": "code",
   "execution_count": 14,
   "metadata": {},
   "outputs": [],
   "source": [
    "def function_1(x):\n",
    "    def function_2(y):\n",
    "        return x[y]\n",
    "    return x\n",
    "\n",
    "# res = num1(10)\n",
    "# print(res)"
   ]
  },
  {
   "cell_type": "code",
   "execution_count": 15,
   "metadata": {},
   "outputs": [],
   "source": [
    "data= {\n",
    "     \"Student_1\":100,\n",
    "     \"Student_2\":99,\n",
    "     \"Student_3\":100,\n",
    "     \"Student_4\":98,\n",
    "     \"Student_5\":90, \n",
    "}\n"
   ]
  },
  {
   "cell_type": "code",
   "execution_count": 16,
   "metadata": {},
   "outputs": [
    {
     "name": "stdout",
     "output_type": "stream",
     "text": [
      "98\n"
     ]
    }
   ],
   "source": [
    "res=function_1(data)\n",
    "print(res['Student_4'])"
   ]
  }
 ],
 "metadata": {
  "kernelspec": {
   "display_name": "Python 3",
   "language": "python",
   "name": "python3"
  },
  "language_info": {
   "codemirror_mode": {
    "name": "ipython",
    "version": 3
   },
   "file_extension": ".py",
   "mimetype": "text/x-python",
   "name": "python",
   "nbconvert_exporter": "python",
   "pygments_lexer": "ipython3",
   "version": "3.8.8"
  }
 },
 "nbformat": 4,
 "nbformat_minor": 4
}
