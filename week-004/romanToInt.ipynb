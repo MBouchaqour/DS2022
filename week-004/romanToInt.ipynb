{
 "cells": [
  {
   "cell_type": "markdown",
   "id": "769af5bf",
   "metadata": {},
   "source": [
    "Anonymous Function = Lambda Expression"
   ]
  },
  {
   "cell_type": "code",
   "execution_count": 2,
   "id": "76449a51",
   "metadata": {},
   "outputs": [
    {
     "data": {
      "text/plain": [
       "7"
      ]
     },
     "execution_count": 2,
     "metadata": {},
     "output_type": "execute_result"
    }
   ],
   "source": [
    "g=lambda x:3*x+1\n",
    "\n",
    "g(2)"
   ]
  },
  {
   "cell_type": "code",
   "execution_count": 12,
   "id": "f3aedf05",
   "metadata": {},
   "outputs": [],
   "source": [
    "full_name=lambda fn, ln: fn.strip().title() +\" \"+ ln.strip().title()"
   ]
  },
  {
   "cell_type": "code",
   "execution_count": 13,
   "id": "fee23fda",
   "metadata": {},
   "outputs": [
    {
     "data": {
      "text/plain": [
       "'Mustapha Bouchaqour'"
      ]
     },
     "execution_count": 13,
     "metadata": {},
     "output_type": "execute_result"
    }
   ],
   "source": [
    "full_name(\" mustapha \", \" bouchaqour\")"
   ]
  },
  {
   "cell_type": "markdown",
   "id": "306ed437",
   "metadata": {},
   "source": [
    "lambda x:3*x+1\n",
    "lambda x,y,z:3/(1/x+1/y+1/z)\n"
   ]
  },
  {
   "cell_type": "code",
   "execution_count": 22,
   "id": "1e0a8767",
   "metadata": {},
   "outputs": [],
   "source": [
    "the_list=[\"Isaa Asimov\", \"Lay Bonus\", \"Amus Amush\"]"
   ]
  },
  {
   "cell_type": "code",
   "execution_count": 23,
   "id": "c0296824",
   "metadata": {},
   "outputs": [
    {
     "data": {
      "text/plain": [
       "['Amus Amush', 'Isaa Asimov', 'Lay Bonus']"
      ]
     },
     "execution_count": 23,
     "metadata": {},
     "output_type": "execute_result"
    }
   ],
   "source": [
    "the_list.sort(key=lambda name: name.split(\" \")[-1].lower())\n",
    "the_list"
   ]
  },
  {
   "cell_type": "code",
   "execution_count": 25,
   "id": "c54f10ce",
   "metadata": {},
   "outputs": [],
   "source": [
    "number_list=[12,456,65,23,55,67]\n",
    "\n",
    "even_list=[]"
   ]
  },
  {
   "cell_type": "code",
   "execution_count": 24,
   "id": "2bee7776",
   "metadata": {},
   "outputs": [],
   "source": [
    "import random"
   ]
  },
  {
   "cell_type": "code",
   "execution_count": 30,
   "id": "ca5f9d3e",
   "metadata": {},
   "outputs": [],
   "source": [
    "names=[\"Isaa\",\"Asimov\", \"Lay\", \"Bonus\", \"Amus\" ,\"Amush\",\"Mustapha\",\"Nancy\",\"Dialo\",\"Chris\"]"
   ]
  },
  {
   "cell_type": "code",
   "execution_count": 35,
   "id": "4de9864a",
   "metadata": {},
   "outputs": [
    {
     "data": {
      "text/plain": [
       "['Bonus',\n",
       " 'Lay',\n",
       " 'Dialo',\n",
       " 'Nancy',\n",
       " 'Isaa',\n",
       " 'Asimov',\n",
       " 'Amush',\n",
       " 'Chris',\n",
       " 'Mustapha',\n",
       " 'Amus']"
      ]
     },
     "execution_count": 35,
     "metadata": {},
     "output_type": "execute_result"
    }
   ],
   "source": [
    "# x=random.randint(0,len(names))\n",
    "random.shuffle(names)\n",
    "names"
   ]
  },
  {
   "cell_type": "code",
   "execution_count": 36,
   "id": "fb6b8637",
   "metadata": {},
   "outputs": [
    {
     "data": {
      "text/plain": [
       "'Isaa'"
      ]
     },
     "execution_count": 36,
     "metadata": {},
     "output_type": "execute_result"
    }
   ],
   "source": [
    "random.choice(names)"
   ]
  },
  {
   "cell_type": "code",
   "execution_count": 48,
   "id": "169f1687",
   "metadata": {},
   "outputs": [
    {
     "ename": "TypeError",
     "evalue": "'NoneType' object is not iterable",
     "output_type": "error",
     "traceback": [
      "\u001b[1;31m---------------------------------------------------------------------------\u001b[0m",
      "\u001b[1;31mTypeError\u001b[0m                                 Traceback (most recent call last)",
      "\u001b[1;32m<ipython-input-48-e4739500a8f5>\u001b[0m in \u001b[0;36m<module>\u001b[1;34m\u001b[0m\n\u001b[0;32m      1\u001b[0m \u001b[0mg_shuffle\u001b[0m\u001b[1;33m=\u001b[0m\u001b[1;32mlambda\u001b[0m \u001b[0mx\u001b[0m\u001b[1;33m:\u001b[0m \u001b[0mrandom\u001b[0m\u001b[1;33m.\u001b[0m\u001b[0mshuffle\u001b[0m\u001b[1;33m(\u001b[0m\u001b[0mx\u001b[0m\u001b[1;33m)\u001b[0m\u001b[1;33m\u001b[0m\u001b[1;33m\u001b[0m\u001b[0m\n\u001b[0;32m      2\u001b[0m \u001b[0mg_choice\u001b[0m\u001b[1;33m=\u001b[0m\u001b[1;32mlambda\u001b[0m \u001b[0mx\u001b[0m\u001b[1;33m:\u001b[0m \u001b[0mrandom\u001b[0m\u001b[1;33m.\u001b[0m\u001b[0mchoice\u001b[0m\u001b[1;33m(\u001b[0m\u001b[0mx\u001b[0m\u001b[1;33m)\u001b[0m\u001b[1;33m\u001b[0m\u001b[1;33m\u001b[0m\u001b[0m\n\u001b[1;32m----> 3\u001b[1;33m \u001b[0mtype\u001b[0m\u001b[1;33m(\u001b[0m\u001b[0mlist\u001b[0m\u001b[1;33m(\u001b[0m\u001b[0mg_shuffle\u001b[0m\u001b[1;33m(\u001b[0m\u001b[0mnames\u001b[0m\u001b[1;33m)\u001b[0m\u001b[1;33m)\u001b[0m\u001b[1;33m)\u001b[0m\u001b[1;33m\u001b[0m\u001b[1;33m\u001b[0m\u001b[0m\n\u001b[0m\u001b[0;32m      4\u001b[0m \u001b[1;31m# names\u001b[0m\u001b[1;33m\u001b[0m\u001b[1;33m\u001b[0m\u001b[1;33m\u001b[0m\u001b[0m\n",
      "\u001b[1;31mTypeError\u001b[0m: 'NoneType' object is not iterable"
     ]
    }
   ],
   "source": [
    "# g_shuffle=lambda x: random.shuffle(x)\n",
    "# g_choice=lambda x: random.choice(x)\n",
    "\n",
    "# # names"
   ]
  },
  {
   "cell_type": "code",
   "execution_count": 38,
   "id": "c889139e",
   "metadata": {},
   "outputs": [
    {
     "data": {
      "text/plain": [
       "['Bonus', 'Dialo', 'Isaa', 'Amush', 'Mustapha']"
      ]
     },
     "execution_count": 38,
     "metadata": {},
     "output_type": "execute_result"
    }
   ],
   "source": [
    "names[::2]"
   ]
  },
  {
   "cell_type": "code",
   "execution_count": 208,
   "id": "aa5dd90f",
   "metadata": {},
   "outputs": [],
   "source": [
    "data = ['Digonto Barua', 'Dylan K. Picart', 'Alejandro Ibarra', 'Ann Lee', 'Antone Smith',\n",
    "          'Burnaur James', 'Chris Lee', 'Cornel Duhaney', 'Dealo Mckellar', 'Edward Torres',\n",
    "          'Hiwot W.', 'Ibrahim Diallo', 'J Mata', 'Joselyn Guzman', 'Kamili',\n",
    "          'Linqing Zhu', 'Mohammed Fahmid Chowdhury', 'Muees Adewunmi', 'Mustapha Bouchaqour', 'Raliat Akesode',\n",
    "          'Shifra G.', 'Sonali Shintre', 'Sudipta Sil','daiyan']\n"
   ]
  },
  {
   "cell_type": "code",
   "execution_count": 209,
   "id": "0bb5e307",
   "metadata": {},
   "outputs": [],
   "source": [
    "random.shuffle(data)"
   ]
  },
  {
   "cell_type": "code",
   "execution_count": 210,
   "id": "b7b56377",
   "metadata": {},
   "outputs": [],
   "source": [
    "deleted_names=[]"
   ]
  },
  {
   "cell_type": "code",
   "execution_count": 211,
   "id": "98b6ef9e",
   "metadata": {},
   "outputs": [],
   "source": [
    "def get_random(NumberofNames):\n",
    "    global deleted_names, data\n",
    "    if len(deleted_names)==len(data):\n",
    "        print(\"You used all data\")\n",
    "    else:\n",
    "        set_list_1=set()\n",
    "        while len(set_list_1)<NumberofNames:\n",
    "            name=random.choice(data)\n",
    "            if name not in deleted_names:\n",
    "                deleted_names.append(name)\n",
    "                set_list_1.add(name)\n",
    "        return list(set_list_1)\n"
   ]
  },
  {
   "cell_type": "code",
   "execution_count": 212,
   "id": "1346fc40",
   "metadata": {},
   "outputs": [
    {
     "data": {
      "text/plain": [
       "['Hiwot W.', 'Sonali Shintre', 'Raliat Akesode']"
      ]
     },
     "execution_count": 212,
     "metadata": {},
     "output_type": "execute_result"
    }
   ],
   "source": [
    "\n",
    "t1=get_random(3)\n",
    "# t2=get_random()\n",
    "# t3=get_random()\n",
    "# t4=get_random()\n",
    "t1"
   ]
  },
  {
   "cell_type": "code",
   "execution_count": 204,
   "id": "ed262d46",
   "metadata": {},
   "outputs": [
    {
     "data": {
      "text/plain": [
       "['Mustapha Bouchaqour',\n",
       " 'daiyan',\n",
       " 'Antone Smith',\n",
       " 'Burnaur James',\n",
       " 'Ann Lee',\n",
       " 'Edward Torres',\n",
       " 'Dealo Mckellar',\n",
       " 'Kamili',\n",
       " 'Muees Adewunmi',\n",
       " 'Shifra G.',\n",
       " 'Digonto Barua',\n",
       " 'Chris Lee',\n",
       " 'Ibrahim Diallo',\n",
       " 'Dylan K. Picart',\n",
       " 'Joselyn Guzman',\n",
       " 'J Mata',\n",
       " 'Sonali Shintre',\n",
       " 'Mohammed Fahmid Chowdhury',\n",
       " 'Sudipta Sil',\n",
       " 'Cornel Duhaney',\n",
       " 'Linqing Zhu',\n",
       " 'Alejandro Ibarra',\n",
       " 'Raliat Akesode',\n",
       " 'Hiwot W.']"
      ]
     },
     "execution_count": 204,
     "metadata": {},
     "output_type": "execute_result"
    }
   ],
   "source": [
    "deleted_names"
   ]
  },
  {
   "cell_type": "code",
   "execution_count": 128,
   "id": "63f80136",
   "metadata": {},
   "outputs": [
    {
     "data": {
      "text/plain": [
       "[1, 2, 3, 5]"
      ]
     },
     "execution_count": 128,
     "metadata": {},
     "output_type": "execute_result"
    }
   ],
   "source": [
    "x=(1,2,3,5)\n",
    "list(x)"
   ]
  },
  {
   "cell_type": "code",
   "execution_count": null,
   "id": "b64523ac",
   "metadata": {},
   "outputs": [],
   "source": []
  },
  {
   "cell_type": "code",
   "execution_count": null,
   "id": "359daea0",
   "metadata": {},
   "outputs": [],
   "source": []
  },
  {
   "cell_type": "code",
   "execution_count": null,
   "id": "5b373d96",
   "metadata": {},
   "outputs": [],
   "source": []
  },
  {
   "cell_type": "code",
   "execution_count": null,
   "id": "bd8ea8be",
   "metadata": {},
   "outputs": [],
   "source": []
  },
  {
   "cell_type": "code",
   "execution_count": null,
   "id": "15f201d9",
   "metadata": {},
   "outputs": [],
   "source": [
    "#gloabl removing list\n",
    "# global rs=[]"
   ]
  },
  {
   "cell_type": "code",
   "execution_count": 112,
   "id": "9420cc66",
   "metadata": {},
   "outputs": [],
   "source": [
    "# returning a random name\n",
    "def create_list(a):\n",
    "#     global rs\n",
    "    name=random.choice(a)     \n",
    "    a.remove(name)  \n",
    "    return name\n",
    "    "
   ]
  },
  {
   "cell_type": "code",
   "execution_count": 114,
   "id": "7bb70515",
   "metadata": {},
   "outputs": [],
   "source": [
    "# returning 6 random names\n",
    "def fillOutTheList(copyData):\n",
    "    if len(copyDate)==0: return -1\n",
    "    counter =1\n",
    "    empty=[]\n",
    "    while counter<7:\n",
    "        name=create_list(copyData)\n",
    "        if name not in first_list:\n",
    "            empty.append(name)\n",
    "            counter +=1\n",
    "    return empty\n",
    "        \n"
   ]
  },
  {
   "cell_type": "code",
   "execution_count": 115,
   "id": "6a8c922e",
   "metadata": {},
   "outputs": [
    {
     "data": {
      "text/plain": [
       "['Digonto Barua',\n",
       " 'Dylan K. Picart',\n",
       " 'Alejandro Ibarra',\n",
       " 'Ann Lee',\n",
       " 'Antone Smith',\n",
       " 'Burnaur James',\n",
       " 'Chris Lee',\n",
       " 'Cornel Duhaney',\n",
       " 'Dealo Mckellar',\n",
       " 'Edward Torres',\n",
       " 'Hiwot W.',\n",
       " 'Ibrahim Diallo',\n",
       " 'J Mata',\n",
       " 'Joselyn Guzman',\n",
       " 'Kamili',\n",
       " 'Linqing Zhu',\n",
       " 'Mohammed Fahmid Chowdhury',\n",
       " 'Muees Adewunmi',\n",
       " 'Mustapha Bouchaqour',\n",
       " 'Raliat Akesode',\n",
       " 'Shifra G.',\n",
       " 'Sonali Shintre',\n",
       " 'Sudipta Sil',\n",
       " 'daiyan']"
      ]
     },
     "execution_count": 115,
     "metadata": {},
     "output_type": "execute_result"
    }
   ],
   "source": [
    "#creating duplicate of data\n",
    "copyData=data\n",
    "copyData"
   ]
  },
  {
   "cell_type": "code",
   "execution_count": 116,
   "id": "e0150e4e",
   "metadata": {},
   "outputs": [
    {
     "ename": "NameError",
     "evalue": "name 'copyDate' is not defined",
     "output_type": "error",
     "traceback": [
      "\u001b[1;31m---------------------------------------------------------------------------\u001b[0m",
      "\u001b[1;31mNameError\u001b[0m                                 Traceback (most recent call last)",
      "\u001b[1;32m<ipython-input-116-33966da04f74>\u001b[0m in \u001b[0;36m<module>\u001b[1;34m\u001b[0m\n\u001b[1;32m----> 1\u001b[1;33m \u001b[0mfirst_list\u001b[0m\u001b[1;33m=\u001b[0m\u001b[0mfillOutTheList\u001b[0m\u001b[1;33m(\u001b[0m\u001b[0mcopyData\u001b[0m\u001b[1;33m)\u001b[0m\u001b[1;33m\u001b[0m\u001b[1;33m\u001b[0m\u001b[0m\n\u001b[0m\u001b[0;32m      2\u001b[0m \u001b[0msecond_list\u001b[0m\u001b[1;33m=\u001b[0m\u001b[0mfillOutTheList\u001b[0m\u001b[1;33m(\u001b[0m\u001b[0mcopyData\u001b[0m\u001b[1;33m)\u001b[0m\u001b[1;33m\u001b[0m\u001b[1;33m\u001b[0m\u001b[0m\n\u001b[0;32m      3\u001b[0m \u001b[0mthird_list\u001b[0m\u001b[1;33m=\u001b[0m\u001b[0mfillOutTheList\u001b[0m\u001b[1;33m(\u001b[0m\u001b[0mcopyData\u001b[0m\u001b[1;33m)\u001b[0m\u001b[1;33m\u001b[0m\u001b[1;33m\u001b[0m\u001b[0m\n\u001b[0;32m      4\u001b[0m \u001b[0mfourth_list\u001b[0m\u001b[1;33m=\u001b[0m\u001b[0mfillOutTheList\u001b[0m\u001b[1;33m(\u001b[0m\u001b[0mcopyData\u001b[0m\u001b[1;33m)\u001b[0m\u001b[1;33m\u001b[0m\u001b[1;33m\u001b[0m\u001b[0m\n\u001b[0;32m      5\u001b[0m \u001b[0mfirst_list\u001b[0m\u001b[1;33m\u001b[0m\u001b[1;33m\u001b[0m\u001b[0m\n",
      "\u001b[1;32m<ipython-input-114-8221936d0542>\u001b[0m in \u001b[0;36mfillOutTheList\u001b[1;34m(copyData)\u001b[0m\n\u001b[0;32m      1\u001b[0m \u001b[1;31m# returning 6 random names\u001b[0m\u001b[1;33m\u001b[0m\u001b[1;33m\u001b[0m\u001b[1;33m\u001b[0m\u001b[0m\n\u001b[0;32m      2\u001b[0m \u001b[1;32mdef\u001b[0m \u001b[0mfillOutTheList\u001b[0m\u001b[1;33m(\u001b[0m\u001b[0mcopyData\u001b[0m\u001b[1;33m)\u001b[0m\u001b[1;33m:\u001b[0m\u001b[1;33m\u001b[0m\u001b[1;33m\u001b[0m\u001b[0m\n\u001b[1;32m----> 3\u001b[1;33m     \u001b[1;32mif\u001b[0m \u001b[0mlen\u001b[0m\u001b[1;33m(\u001b[0m\u001b[0mcopyDate\u001b[0m\u001b[1;33m)\u001b[0m\u001b[1;33m==\u001b[0m\u001b[1;36m0\u001b[0m\u001b[1;33m:\u001b[0m \u001b[1;32mreturn\u001b[0m \u001b[1;33m-\u001b[0m\u001b[1;36m1\u001b[0m\u001b[1;33m\u001b[0m\u001b[1;33m\u001b[0m\u001b[0m\n\u001b[0m\u001b[0;32m      4\u001b[0m     \u001b[0mcounter\u001b[0m \u001b[1;33m=\u001b[0m\u001b[1;36m1\u001b[0m\u001b[1;33m\u001b[0m\u001b[1;33m\u001b[0m\u001b[0m\n\u001b[0;32m      5\u001b[0m     \u001b[0mempty\u001b[0m\u001b[1;33m=\u001b[0m\u001b[1;33m[\u001b[0m\u001b[1;33m]\u001b[0m\u001b[1;33m\u001b[0m\u001b[1;33m\u001b[0m\u001b[0m\n",
      "\u001b[1;31mNameError\u001b[0m: name 'copyDate' is not defined"
     ]
    }
   ],
   "source": [
    "\n",
    "first_list=fillOutTheList(copyData)\n",
    "second_list=fillOutTheList(copyData)\n",
    "third_list=fillOutTheList(copyData)\n",
    "fourth_list=fillOutTheList(copyData)\n",
    "first_list"
   ]
  },
  {
   "cell_type": "code",
   "execution_count": 82,
   "id": "84d981d7",
   "metadata": {},
   "outputs": [
    {
     "data": {
      "text/plain": [
       "'Hiwot W.'"
      ]
     },
     "execution_count": 82,
     "metadata": {},
     "output_type": "execute_result"
    }
   ],
   "source": [
    "# determining the captain for team 1\n",
    "team1_cap=random.choice(first_list)\n",
    "team1_cap"
   ]
  },
  {
   "cell_type": "code",
   "execution_count": 72,
   "id": "cea2d114",
   "metadata": {},
   "outputs": [
    {
     "data": {
      "text/plain": [
       "['Chris Lee',\n",
       " 'Joselyn Guzman',\n",
       " 'Ibrahim Diallo',\n",
       " 'Dealo Mckellar',\n",
       " 'Alejandro Ibarra',\n",
       " 'Sonali Shintre']"
      ]
     },
     "execution_count": 72,
     "metadata": {},
     "output_type": "execute_result"
    }
   ],
   "source": [
    "second_list"
   ]
  },
  {
   "cell_type": "code",
   "execution_count": null,
   "id": "5a04e6b8",
   "metadata": {},
   "outputs": [],
   "source": [
    "# determining the captain for team 2\n",
    "team2_cap=random.choice(second_list)\n",
    "team2_cap"
   ]
  },
  {
   "cell_type": "code",
   "execution_count": 73,
   "id": "e2f1cb8d",
   "metadata": {},
   "outputs": [
    {
     "data": {
      "text/plain": [
       "['Mohammed Fahmid Chowdhury',\n",
       " 'Digonto Barua',\n",
       " 'daiyan',\n",
       " 'Ann Lee',\n",
       " 'Antone Smith',\n",
       " 'Edward Torres']"
      ]
     },
     "execution_count": 73,
     "metadata": {},
     "output_type": "execute_result"
    }
   ],
   "source": [
    "third_list"
   ]
  },
  {
   "cell_type": "code",
   "execution_count": null,
   "id": "91c69262",
   "metadata": {},
   "outputs": [],
   "source": [
    "# determining the captain for team 3\n",
    "team3_cap=random.choice(third_list)\n",
    "team3_cap"
   ]
  },
  {
   "cell_type": "code",
   "execution_count": 74,
   "id": "af75941f",
   "metadata": {},
   "outputs": [
    {
     "data": {
      "text/plain": [
       "['Mustapha Bouchaqour',\n",
       " 'Raliat Akesode',\n",
       " 'Sudipta Sil',\n",
       " 'Shifra G.',\n",
       " 'Linqing Zhu',\n",
       " 'J Mata']"
      ]
     },
     "execution_count": 74,
     "metadata": {},
     "output_type": "execute_result"
    }
   ],
   "source": [
    "fourth_list"
   ]
  },
  {
   "cell_type": "code",
   "execution_count": null,
   "id": "4e4b6135",
   "metadata": {},
   "outputs": [],
   "source": [
    "# determining the captain for team 4\n",
    "team4_cap=random.choice(fourth_list)\n",
    "team4_cap"
   ]
  },
  {
   "cell_type": "code",
   "execution_count": null,
   "id": "22d28944",
   "metadata": {},
   "outputs": [],
   "source": [
    "# For example, 2 is written as II in Roman numeral, just two one's added together. 12 is written as XII, \n",
    "#which is simply X + II. The number 27 is written as XXVII, which is XX + V + II.\n",
    "\n",
    "#Roman numerals are usually written largest to smallest from left to right. \n",
    "#However, the numeral for four is not IIII. Instead, the number four is written as IV. \n",
    "#Because the one is before the five we subtract it making four. The same principle \n",
    "#applies to the number nine, which is written as IX. There are six instances where subtraction is used:\n",
    "\n",
    "# I can be placed before V (5) and X (10) to make 4 and 9. \n",
    "# X can be placed before L (50) and C (100) to make 40 and 90. \n",
    "# C can be placed before D (500) and M (1000) to make 400 and 900.\n"
   ]
  },
  {
   "cell_type": "code",
   "execution_count": 261,
   "id": "792af31f",
   "metadata": {},
   "outputs": [
    {
     "name": "stdout",
     "output_type": "stream",
     "text": [
      "1994\n"
     ]
    }
   ],
   "source": [
    "symbol_value={\n",
    "    \"I\":1,\n",
    "    \"V\":5,\n",
    "    \"X\":10,\n",
    "    \"L\":50,\n",
    "    \"C\":100,\n",
    "    \"D\":500,\n",
    "    \"M\":1000,\n",
    "    \"IV\":4,\n",
    "    \"IX\":9,\n",
    "    \"XL\":40,\n",
    "    \"XC\":90,\n",
    "    \"CD\":400,\n",
    "    \"CM\":900\n",
    "}\n",
    "# MCMXCIV\n",
    "print(1000-100+1000-10+100-1+5)"
   ]
  },
  {
   "cell_type": "code",
   "execution_count": null,
   "id": "3fc0be7c",
   "metadata": {},
   "outputs": [],
   "source": [
    "\n"
   ]
  },
  {
   "cell_type": "code",
   "execution_count": 229,
   "id": "55bb81a3",
   "metadata": {},
   "outputs": [],
   "source": [
    "# character=list(get_input)\n",
    "# character"
   ]
  },
  {
   "cell_type": "code",
   "execution_count": 245,
   "id": "784baa48",
   "metadata": {},
   "outputs": [
    {
     "name": "stdout",
     "output_type": "stream",
     "text": [
      "Enter your input: III\n"
     ]
    }
   ],
   "source": [
    "c=0\n",
    "total=0\n",
    "get_input=input(\"Enter your input: \")\n",
    "if get_input in symbol_value.keys():\n",
    "    print(symbol_value[get_input])\n",
    "\n",
    "            \n",
    "        "
   ]
  },
  {
   "cell_type": "code",
   "execution_count": 247,
   "id": "34c8aeb9",
   "metadata": {},
   "outputs": [
    {
     "name": "stdout",
     "output_type": "stream",
     "text": [
      "4\n"
     ]
    }
   ],
   "source": [
    "while c < len(get_input)-1:\n",
    "    if get_input[c]==\"I\":\n",
    "        if get_input[c+1] in [\"X\",\"V\"]:\n",
    "            total +=symbol_value[get_input[c+1]]-1\n",
    "            c+=1\n",
    "            continue\n",
    "        else:\n",
    "            total +=1\n",
    "            c+=1\n",
    "    elif get_input[c]==\"X\":\n",
    "        if get_input[c+1] in [\"L\",\"C\"]:\n",
    "            total +=symbol_value[get_input[c+1]]-10\n",
    "            c+=1\n",
    "            continue\n",
    "        else:\n",
    "            total +=10\n",
    "            c+=1\n",
    "    elif get_input[c]==\"C\":\n",
    "        if get_input[c+1] in [\"D\",\"M\"]:\n",
    "            total +=symbol_value[get_input[c+1]]-100\n",
    "            c+=1\n",
    "            continue\n",
    "        else:\n",
    "            total +=50\n",
    "            c+=1\n",
    "        \n",
    "print(total)\n",
    "        "
   ]
  },
  {
   "cell_type": "code",
   "execution_count": 248,
   "id": "b4a49dec",
   "metadata": {},
   "outputs": [
    {
     "name": "stdout",
     "output_type": "stream",
     "text": [
      "0 M\n",
      "1 D\n",
      "2 F\n",
      "3 D\n",
      "4 F\n"
     ]
    }
   ],
   "source": [
    "s=\"MDFDF\"\n",
    "for idx,numeral in enumerate(s):\n",
    "    print(idx,numeral)"
   ]
  },
  {
   "cell_type": "code",
   "execution_count": 299,
   "id": "c56f0b08",
   "metadata": {},
   "outputs": [
    {
     "name": "stdout",
     "output_type": "stream",
     "text": [
      "3\n"
     ]
    }
   ],
   "source": [
    "roman_dict={\n",
    "    \"I\":1,\n",
    "    \"V\":5,\n",
    "    \"X\":10,\n",
    "    \"L\":50,\n",
    "    \"C\":100,\n",
    "    \"D\":500,\n",
    "    \"M\":1000,\n",
    "    \"IV\":4,\n",
    "    \"IX\":9,\n",
    "    \"XL\":40,\n",
    "    \"XC\":90,\n",
    "    \"CD\":400,\n",
    "    \"CM\":900\n",
    "}\n",
    "\n",
    "total=0\n",
    "s=\"III\"\n",
    "cmpt=0\n",
    "while cmpt<len(s):\n",
    "    if cmpt<len(s)-1:\n",
    "        if roman_dict[s[cmpt]]<roman_dict[s[cmpt+1]]:\n",
    "            total += roman_dict[s[cmpt+1]]-roman_dict[s[cmpt]]\n",
    "            cmpt+=2\n",
    "        else:\n",
    "            total +=roman_dict[s[cmpt]]\n",
    "            cmpt +=1\n",
    "    else:\n",
    "        total +=roman_dict[s[cmpt]]\n",
    "        cmpt+=1\n",
    "        \n",
    "print(total)"
   ]
  },
  {
   "cell_type": "code",
   "execution_count": 260,
   "id": "a7bbd021",
   "metadata": {},
   "outputs": [
    {
     "name": "stdout",
     "output_type": "stream",
     "text": [
      " letter =  (0, 'M')\n",
      " letter =  (1, 'C')\n",
      " letter =  (2, 'M')\n",
      " letter =  (3, 'X')\n",
      " letter =  (4, 'C')\n",
      " letter =  (5, 'I')\n",
      " letter =  (6, 'V')\n"
     ]
    }
   ],
   "source": [
    "s=\"MCMXCIV\"\n",
    "for numeral in enumerate(s):\n",
    "    print(\" letter = \", numeral)"
   ]
  },
  {
   "cell_type": "code",
   "execution_count": 21,
   "id": "ca7caa1b",
   "metadata": {},
   "outputs": [],
   "source": [
    "class Solution(object):\n",
    "    def romanToInt(self, s):\n",
    "        roman_dict={\n",
    "                \"I\":1,\n",
    "                \"V\":5,\n",
    "                \"X\":10,\n",
    "                \"L\":50,\n",
    "                \"C\":100,\n",
    "                \"D\":500,\n",
    "                \"M\":1000,\n",
    "                        }\n",
    "        total=0\n",
    "        cmpt=0\n",
    "        while cmpt<len(s):# go over each letter in s\n",
    "            if cmpt<len(s)-1:\n",
    "                if roman_dict[s[cmpt]]<roman_dict[s[cmpt+1]]:\n",
    "                    total += roman_dict[s[cmpt+1]]-roman_dict[s[cmpt]]\n",
    "                    cmpt+=2\n",
    "                else:\n",
    "                    total +=roman_dict[s[cmpt]]\n",
    "                    cmpt +=1\n",
    "            else:\n",
    "                total +=roman_dict[s[cmpt]]\n",
    "                cmpt+=1\n",
    "        return total"
   ]
  },
  {
   "cell_type": "code",
   "execution_count": 22,
   "id": "df61a6f6",
   "metadata": {},
   "outputs": [],
   "source": [
    "p1 = Solution()\n"
   ]
  },
  {
   "cell_type": "code",
   "execution_count": 24,
   "id": "5c2f6951",
   "metadata": {},
   "outputs": [
    {
     "data": {
      "text/plain": [
       "1051"
      ]
     },
     "execution_count": 24,
     "metadata": {},
     "output_type": "execute_result"
    }
   ],
   "source": [
    "p1.romanToInt(\"MLI\")"
   ]
  },
  {
   "cell_type": "code",
   "execution_count": 8,
   "id": "2f6e739c",
   "metadata": {},
   "outputs": [],
   "source": [
    "\n",
    "\n",
    "\n",
    "class Solution2(object):\n",
    "    def romanToInt(self, s: str) -> int:\n",
    "        roman_dict = {\n",
    "            \"I\" : 1,\n",
    "            \"V\" : 5,\n",
    "            \"X\" : 10,\n",
    "            \"L\" : 50,\n",
    "            \"C\" : 100,\n",
    "            \"D\" : 500,\n",
    "            \"M\" : 1000,\n",
    "        }\n",
    "        \n",
    "        total = 0\n",
    "        previous_numeral = False\n",
    "        #\"IV\"\n",
    "        for idx,numeral in enumerate(s):\n",
    "            if previous_numeral and roman_dict[previous_numeral] < roman_dict[numeral]:\n",
    "                #subtraction\n",
    "                total += roman_dict[numeral] - (roman_dict[previous_numeral] *2)\n",
    "            else:\n",
    "                total += roman_dict[numeral]\n",
    "            previous_numeral = numeral\n",
    "        return total\n",
    "\n",
    "\n",
    "\n",
    "\n"
   ]
  },
  {
   "cell_type": "code",
   "execution_count": 9,
   "id": "362cf575",
   "metadata": {},
   "outputs": [
    {
     "data": {
      "text/plain": [
       "3"
      ]
     },
     "execution_count": 9,
     "metadata": {},
     "output_type": "execute_result"
    }
   ],
   "source": [
    "p2=Solution2()\n",
    "p2.romanToInt(\"III\")"
   ]
  },
  {
   "cell_type": "code",
   "execution_count": 11,
   "id": "9a88ff4c",
   "metadata": {},
   "outputs": [
    {
     "name": "stdout",
     "output_type": "stream",
     "text": [
      "not empty\n",
      "x is empty\n"
     ]
    }
   ],
   "source": [
    "x=4\n",
    "if x:\n",
    "    print(\"not empty\")\n",
    "    x=False\n",
    "if not x:\n",
    "    print(\"x is empty\")"
   ]
  },
  {
   "cell_type": "code",
   "execution_count": 81,
   "id": "d9b168c0",
   "metadata": {},
   "outputs": [],
   "source": [
    "class Solution(object):\n",
    "    def isValid(self, s)->bool:\n",
    "        indexing={\n",
    "            \"(\":1,\n",
    "             \")\":-1,\n",
    "            \"[\":2,\n",
    "            \"]\":-2,\n",
    "            \"{\":3,\n",
    "            \"}\":-3\n",
    "        }\n",
    "        n=len(s)\n",
    "        if n%2!=0:\n",
    "            return False\n",
    "        else:\n",
    "            stack1=list(s[:n//2])\n",
    "            stack2=list(s[n//2:])\n",
    "            return stack2\n",
    "       "
   ]
  },
  {
   "cell_type": "code",
   "execution_count": 82,
   "id": "f4dadcaa",
   "metadata": {},
   "outputs": [
    {
     "data": {
      "text/plain": [
       "['{', '}', ')']"
      ]
     },
     "execution_count": 82,
     "metadata": {},
     "output_type": "execute_result"
    }
   ],
   "source": [
    "p=Solution()\n",
    "string=\"\"\"()({})\"\"\"\n",
    "p.isValid(string)"
   ]
  },
  {
   "cell_type": "code",
   "execution_count": null,
   "id": "e8ccfd42",
   "metadata": {},
   "outputs": [],
   "source": []
  },
  {
   "cell_type": "code",
   "execution_count": null,
   "id": "ccfcb742",
   "metadata": {},
   "outputs": [],
   "source": [
    "#  stack=[item for item in s]\n",
    "#         cond1=stack[-1] in [\"(\",\"[\",\"{\"]\n",
    "#         cond2=stack[0] in [\")\",\"]\",\"}\"]\n",
    "#         cond3=len(s)%2 !=0\n",
    "#         if ((cond1)|(cond2)|(cond3)):\n",
    "#             return False\n",
    "#         else:\n",
    "            \n",
    "#             return stack"
   ]
  },
  {
   "cell_type": "code",
   "execution_count": null,
   "id": "54ebc510",
   "metadata": {},
   "outputs": [],
   "source": []
  }
 ],
 "metadata": {
  "kernelspec": {
   "display_name": "Python 3",
   "language": "python",
   "name": "python3"
  },
  "language_info": {
   "codemirror_mode": {
    "name": "ipython",
    "version": 3
   },
   "file_extension": ".py",
   "mimetype": "text/x-python",
   "name": "python",
   "nbconvert_exporter": "python",
   "pygments_lexer": "ipython3",
   "version": "3.8.8"
  }
 },
 "nbformat": 4,
 "nbformat_minor": 5
}
