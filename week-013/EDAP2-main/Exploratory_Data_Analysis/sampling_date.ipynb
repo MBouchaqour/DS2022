{
  "nbformat": 4,
  "nbformat_minor": 0,
  "metadata": {
    "colab": {
      "name": "sampling_date.ipynb",
      "provenance": []
    },
    "kernelspec": {
      "name": "python3",
      "display_name": "Python 3"
    },
    "language_info": {
      "name": "python"
    }
  },
  "cells": [
    {
      "cell_type": "code",
      "execution_count": 1,
      "metadata": {
        "id": "NGwupvl5kvdJ"
      },
      "outputs": [],
      "source": [
        "import pandas as pd"
      ]
    },
    {
      "cell_type": "code",
      "source": [
        "path='/content/drive/MyDrive/data_colab/samples.csv'"
      ],
      "metadata": {
        "id": "7P2dLimYkypA"
      },
      "execution_count": 5,
      "outputs": []
    },
    {
      "cell_type": "code",
      "source": [
        "samples=pd.read_csv(path)\n",
        "samples.head()"
      ],
      "metadata": {
        "colab": {
          "base_uri": "https://localhost:8080/",
          "height": 243
        },
        "id": "UP9A07BwkysQ",
        "outputId": "abe70eed-dc1d-4947-fb1a-4f82115eaec6"
      },
      "execution_count": 23,
      "outputs": [
        {
          "output_type": "execute_result",
          "data": {
            "text/html": [
              "<div>\n",
              "<style scoped>\n",
              "    .dataframe tbody tr th:only-of-type {\n",
              "        vertical-align: middle;\n",
              "    }\n",
              "\n",
              "    .dataframe tbody tr th {\n",
              "        vertical-align: top;\n",
              "    }\n",
              "\n",
              "    .dataframe thead th {\n",
              "        text-align: right;\n",
              "    }\n",
              "</style>\n",
              "<table border=\"1\" class=\"dataframe\">\n",
              "  <thead>\n",
              "    <tr style=\"text-align: right;\">\n",
              "      <th></th>\n",
              "      <th>education</th>\n",
              "      <th>sample_1_a</th>\n",
              "      <th>sample_1_b</th>\n",
              "      <th>sample_1_c</th>\n",
              "      <th>sample_1_d</th>\n",
              "      <th>sample_1_e</th>\n",
              "      <th>sample_2_a</th>\n",
              "      <th>sample_2_b</th>\n",
              "      <th>sample_2_c</th>\n",
              "      <th>sample_2_d</th>\n",
              "      <th>sample_2_e</th>\n",
              "      <th>sample_3_a</th>\n",
              "      <th>sample_3_b</th>\n",
              "      <th>sample_3_c</th>\n",
              "      <th>sample_3_d</th>\n",
              "      <th>sample_3_e</th>\n",
              "      <th>sample_4_a</th>\n",
              "      <th>sample_4_b</th>\n",
              "      <th>sample_4_c</th>\n",
              "      <th>sample_4_d</th>\n",
              "      <th>sample_4_e</th>\n",
              "      <th>sample_5_a</th>\n",
              "      <th>sample_5_b</th>\n",
              "      <th>sample_5_c</th>\n",
              "      <th>sample_5_d</th>\n",
              "      <th>sample_5_e</th>\n",
              "    </tr>\n",
              "  </thead>\n",
              "  <tbody>\n",
              "    <tr>\n",
              "      <th>0</th>\n",
              "      <td>Bachelors</td>\n",
              "      <td>0.21</td>\n",
              "      <td>0.28</td>\n",
              "      <td>0.30</td>\n",
              "      <td>0.25</td>\n",
              "      <td>0.23</td>\n",
              "      <td>0.227</td>\n",
              "      <td>0.209</td>\n",
              "      <td>0.234</td>\n",
              "      <td>0.218</td>\n",
              "      <td>0.201</td>\n",
              "      <td>0.214741</td>\n",
              "      <td>0.215139</td>\n",
              "      <td>0.208367</td>\n",
              "      <td>0.212351</td>\n",
              "      <td>0.222709</td>\n",
              "      <td>0.214897</td>\n",
              "      <td>0.209321</td>\n",
              "      <td>0.210118</td>\n",
              "      <td>0.209918</td>\n",
              "      <td>0.218283</td>\n",
              "      <td>0.215909</td>\n",
              "      <td>0.208612</td>\n",
              "      <td>0.213038</td>\n",
              "      <td>0.208852</td>\n",
              "      <td>0.205383</td>\n",
              "    </tr>\n",
              "    <tr>\n",
              "      <th>1</th>\n",
              "      <td>HS-grad</td>\n",
              "      <td>0.45</td>\n",
              "      <td>0.34</td>\n",
              "      <td>0.40</td>\n",
              "      <td>0.37</td>\n",
              "      <td>0.35</td>\n",
              "      <td>0.440</td>\n",
              "      <td>0.421</td>\n",
              "      <td>0.406</td>\n",
              "      <td>0.414</td>\n",
              "      <td>0.450</td>\n",
              "      <td>0.422709</td>\n",
              "      <td>0.417928</td>\n",
              "      <td>0.418725</td>\n",
              "      <td>0.424701</td>\n",
              "      <td>0.417530</td>\n",
              "      <td>0.420036</td>\n",
              "      <td>0.418243</td>\n",
              "      <td>0.412468</td>\n",
              "      <td>0.414658</td>\n",
              "      <td>0.414260</td>\n",
              "      <td>0.407656</td>\n",
              "      <td>0.422368</td>\n",
              "      <td>0.421292</td>\n",
              "      <td>0.419498</td>\n",
              "      <td>0.422727</td>\n",
              "    </tr>\n",
              "    <tr>\n",
              "      <th>2</th>\n",
              "      <td>Some-college</td>\n",
              "      <td>0.29</td>\n",
              "      <td>0.34</td>\n",
              "      <td>0.24</td>\n",
              "      <td>0.35</td>\n",
              "      <td>0.28</td>\n",
              "      <td>0.274</td>\n",
              "      <td>0.281</td>\n",
              "      <td>0.287</td>\n",
              "      <td>0.286</td>\n",
              "      <td>0.280</td>\n",
              "      <td>0.284861</td>\n",
              "      <td>0.286853</td>\n",
              "      <td>0.293625</td>\n",
              "      <td>0.287251</td>\n",
              "      <td>0.276892</td>\n",
              "      <td>0.284206</td>\n",
              "      <td>0.290380</td>\n",
              "      <td>0.299741</td>\n",
              "      <td>0.298944</td>\n",
              "      <td>0.292970</td>\n",
              "      <td>0.293182</td>\n",
              "      <td>NaN</td>\n",
              "      <td>0.28756</td>\n",
              "      <td>0.297727</td>\n",
              "      <td>0.292344</td>\n",
              "    </tr>\n",
              "    <tr>\n",
              "      <th>3</th>\n",
              "      <td>Bachelors</td>\n",
              "      <td>0.26</td>\n",
              "      <td>0.28</td>\n",
              "      <td>0.24</td>\n",
              "      <td>0.20</td>\n",
              "      <td>0.32</td>\n",
              "      <td>0.160</td>\n",
              "      <td>0.190</td>\n",
              "      <td>0.210</td>\n",
              "      <td>0.140</td>\n",
              "      <td>0.200</td>\n",
              "      <td>0.210000</td>\n",
              "      <td>0.230000</td>\n",
              "      <td>0.210000</td>\n",
              "      <td>0.210000</td>\n",
              "      <td>0.220000</td>\n",
              "      <td>0.210000</td>\n",
              "      <td>0.210000</td>\n",
              "      <td>0.220000</td>\n",
              "      <td>0.210000</td>\n",
              "      <td>0.210000</td>\n",
              "      <td>0.210000</td>\n",
              "      <td>0.220000</td>\n",
              "      <td>0.22</td>\n",
              "      <td>0.210000</td>\n",
              "      <td>0.210000</td>\n",
              "    </tr>\n",
              "    <tr>\n",
              "      <th>4</th>\n",
              "      <td>HS-grad</td>\n",
              "      <td>NaN</td>\n",
              "      <td>0.31</td>\n",
              "      <td>0.39</td>\n",
              "      <td>0.37</td>\n",
              "      <td>0.29</td>\n",
              "      <td>0.322</td>\n",
              "      <td>0.331</td>\n",
              "      <td>0.305</td>\n",
              "      <td>0.344</td>\n",
              "      <td>0.313</td>\n",
              "      <td>0.330467</td>\n",
              "      <td>0.326474</td>\n",
              "      <td>0.328010</td>\n",
              "      <td>0.317568</td>\n",
              "      <td>0.321560</td>\n",
              "      <td>NaN</td>\n",
              "      <td>0.319257</td>\n",
              "      <td>0.320485</td>\n",
              "      <td>0.325553</td>\n",
              "      <td>0.326321</td>\n",
              "      <td>0.320944</td>\n",
              "      <td>0.322328</td>\n",
              "      <td>0.321129</td>\n",
              "      <td>0.328876</td>\n",
              "      <td>0.321129</td>\n",
              "    </tr>\n",
              "  </tbody>\n",
              "</table>\n",
              "</div>"
            ],
            "text/plain": [
              "      education  sample_1_a  sample_1_b  ...  sample_5_c  sample_5_d  sample_5_e\n",
              "0     Bachelors        0.21        0.28  ...    0.213038    0.208852    0.205383\n",
              "1       HS-grad        0.45        0.34  ...    0.421292    0.419498    0.422727\n",
              "2  Some-college        0.29        0.34  ...     0.28756    0.297727    0.292344\n",
              "3     Bachelors        0.26        0.28  ...        0.22    0.210000    0.210000\n",
              "4       HS-grad         NaN        0.31  ...    0.321129    0.328876    0.321129\n",
              "\n",
              "[5 rows x 26 columns]"
            ]
          },
          "metadata": {},
          "execution_count": 23
        }
      ]
    },
    {
      "cell_type": "code",
      "source": [
        "samples.shape"
      ],
      "metadata": {
        "colab": {
          "base_uri": "https://localhost:8080/"
        },
        "id": "JQK8l0g0kyvL",
        "outputId": "fee8bc64-4c43-4140-e50b-9440ce0b442b"
      },
      "execution_count": 24,
      "outputs": [
        {
          "output_type": "execute_result",
          "data": {
            "text/plain": [
              "(27, 26)"
            ]
          },
          "metadata": {},
          "execution_count": 24
        }
      ]
    },
    {
      "cell_type": "code",
      "source": [
        "samples.dtypes"
      ],
      "metadata": {
        "colab": {
          "base_uri": "https://localhost:8080/"
        },
        "id": "64h_-r9akyyD",
        "outputId": "89875f1f-055c-4af5-8f2e-d2ae35254227"
      },
      "execution_count": 26,
      "outputs": [
        {
          "output_type": "execute_result",
          "data": {
            "text/plain": [
              "education      object\n",
              "sample_1_a    float64\n",
              "sample_1_b    float64\n",
              "sample_1_c    float64\n",
              "sample_1_d    float64\n",
              "sample_1_e    float64\n",
              "sample_2_a    float64\n",
              "sample_2_b    float64\n",
              "sample_2_c    float64\n",
              "sample_2_d    float64\n",
              "sample_2_e    float64\n",
              "sample_3_a    float64\n",
              "sample_3_b    float64\n",
              "sample_3_c    float64\n",
              "sample_3_d    float64\n",
              "sample_3_e    float64\n",
              "sample_4_a    float64\n",
              "sample_4_b    float64\n",
              "sample_4_c    float64\n",
              "sample_4_d    float64\n",
              "sample_4_e    float64\n",
              "sample_5_a    float64\n",
              "sample_5_b    float64\n",
              "sample_5_c     object\n",
              "sample_5_d    float64\n",
              "sample_5_e    float64\n",
              "dtype: object"
            ]
          },
          "metadata": {},
          "execution_count": 26
        }
      ]
    },
    {
      "cell_type": "code",
      "source": [
        "# samples['sample_5_c'] = pd.to_numeric(samples['sample_5_c'])"
      ],
      "metadata": {
        "id": "JVk4HuUFsD2i"
      },
      "execution_count": 28,
      "outputs": []
    },
    {
      "cell_type": "code",
      "source": [
        ""
      ],
      "metadata": {
        "id": "QYETdCOYuv73"
      },
      "execution_count": null,
      "outputs": []
    },
    {
      "cell_type": "code",
      "source": [
        "samples.isnull().sum()"
      ],
      "metadata": {
        "colab": {
          "base_uri": "https://localhost:8080/"
        },
        "id": "sH8mK6Y6mVMF",
        "outputId": "e1b194a8-edcc-460b-8416-30787bba05ca"
      },
      "execution_count": 29,
      "outputs": [
        {
          "output_type": "execute_result",
          "data": {
            "text/plain": [
              "education     0\n",
              "sample_1_a    3\n",
              "sample_1_b    3\n",
              "sample_1_c    0\n",
              "sample_1_d    0\n",
              "sample_1_e    0\n",
              "sample_2_a    2\n",
              "sample_2_b    0\n",
              "sample_2_c    0\n",
              "sample_2_d    3\n",
              "sample_2_e    0\n",
              "sample_3_a    0\n",
              "sample_3_b    2\n",
              "sample_3_c    0\n",
              "sample_3_d    0\n",
              "sample_3_e    0\n",
              "sample_4_a    2\n",
              "sample_4_b    0\n",
              "sample_4_c    1\n",
              "sample_4_d    3\n",
              "sample_4_e    1\n",
              "sample_5_a    0\n",
              "sample_5_b    3\n",
              "sample_5_c    0\n",
              "sample_5_d    0\n",
              "sample_5_e    2\n",
              "dtype: int64"
            ]
          },
          "metadata": {},
          "execution_count": 29
        }
      ]
    },
    {
      "cell_type": "code",
      "source": [
        "eudcation_type=list(samples['education'].unique())\n",
        "eudcation_type"
      ],
      "metadata": {
        "colab": {
          "base_uri": "https://localhost:8080/"
        },
        "id": "pYkA3MJWmVPP",
        "outputId": "0762eeda-fa4a-4051-9a08-45c8e067e2d7"
      },
      "execution_count": 30,
      "outputs": [
        {
          "output_type": "execute_result",
          "data": {
            "text/plain": [
              "['Bachelors', 'HS-grad', 'Some-college', 'Prof-school', 'Assoc-voc', 'Masters']"
            ]
          },
          "metadata": {},
          "execution_count": 30
        }
      ]
    },
    {
      "cell_type": "code",
      "source": [
        "def dataframe_type(edc_type):\n",
        "  cond=samples['education']==edc_type\n",
        "  return samples[cond]"
      ],
      "metadata": {
        "id": "Sa7sW80wmVR-"
      },
      "execution_count": 31,
      "outputs": []
    },
    {
      "cell_type": "code",
      "source": [
        "dataframe_type('Some-college')"
      ],
      "metadata": {
        "colab": {
          "base_uri": "https://localhost:8080/",
          "height": 264
        },
        "id": "2ePQLMqemVVG",
        "outputId": "d4676c5f-acc8-4c1c-c420-4cf2b13f6190"
      },
      "execution_count": 32,
      "outputs": [
        {
          "output_type": "execute_result",
          "data": {
            "text/html": [
              "<div>\n",
              "<style scoped>\n",
              "    .dataframe tbody tr th:only-of-type {\n",
              "        vertical-align: middle;\n",
              "    }\n",
              "\n",
              "    .dataframe tbody tr th {\n",
              "        vertical-align: top;\n",
              "    }\n",
              "\n",
              "    .dataframe thead th {\n",
              "        text-align: right;\n",
              "    }\n",
              "</style>\n",
              "<table border=\"1\" class=\"dataframe\">\n",
              "  <thead>\n",
              "    <tr style=\"text-align: right;\">\n",
              "      <th></th>\n",
              "      <th>education</th>\n",
              "      <th>sample_1_a</th>\n",
              "      <th>sample_1_b</th>\n",
              "      <th>sample_1_c</th>\n",
              "      <th>sample_1_d</th>\n",
              "      <th>sample_1_e</th>\n",
              "      <th>sample_2_a</th>\n",
              "      <th>sample_2_b</th>\n",
              "      <th>sample_2_c</th>\n",
              "      <th>sample_2_d</th>\n",
              "      <th>sample_2_e</th>\n",
              "      <th>sample_3_a</th>\n",
              "      <th>sample_3_b</th>\n",
              "      <th>sample_3_c</th>\n",
              "      <th>sample_3_d</th>\n",
              "      <th>sample_3_e</th>\n",
              "      <th>sample_4_a</th>\n",
              "      <th>sample_4_b</th>\n",
              "      <th>sample_4_c</th>\n",
              "      <th>sample_4_d</th>\n",
              "      <th>sample_4_e</th>\n",
              "      <th>sample_5_a</th>\n",
              "      <th>sample_5_b</th>\n",
              "      <th>sample_5_c</th>\n",
              "      <th>sample_5_d</th>\n",
              "      <th>sample_5_e</th>\n",
              "    </tr>\n",
              "  </thead>\n",
              "  <tbody>\n",
              "    <tr>\n",
              "      <th>2</th>\n",
              "      <td>Some-college</td>\n",
              "      <td>0.29</td>\n",
              "      <td>0.34</td>\n",
              "      <td>0.24</td>\n",
              "      <td>0.35</td>\n",
              "      <td>0.28</td>\n",
              "      <td>0.274</td>\n",
              "      <td>0.281</td>\n",
              "      <td>0.287</td>\n",
              "      <td>0.286</td>\n",
              "      <td>0.280</td>\n",
              "      <td>0.284861</td>\n",
              "      <td>0.286853</td>\n",
              "      <td>0.293625</td>\n",
              "      <td>0.287251</td>\n",
              "      <td>0.276892</td>\n",
              "      <td>0.284206</td>\n",
              "      <td>0.290380</td>\n",
              "      <td>0.299741</td>\n",
              "      <td>0.298944</td>\n",
              "      <td>0.292970</td>\n",
              "      <td>0.293182</td>\n",
              "      <td>NaN</td>\n",
              "      <td>0.28756</td>\n",
              "      <td>0.297727</td>\n",
              "      <td>0.292344</td>\n",
              "    </tr>\n",
              "    <tr>\n",
              "      <th>6</th>\n",
              "      <td>Some-college</td>\n",
              "      <td>0.41</td>\n",
              "      <td>NaN</td>\n",
              "      <td>0.42</td>\n",
              "      <td>0.40</td>\n",
              "      <td>0.42</td>\n",
              "      <td>NaN</td>\n",
              "      <td>0.290</td>\n",
              "      <td>0.280</td>\n",
              "      <td>0.310</td>\n",
              "      <td>0.290</td>\n",
              "      <td>0.210000</td>\n",
              "      <td>0.210000</td>\n",
              "      <td>0.220000</td>\n",
              "      <td>0.210000</td>\n",
              "      <td>0.210000</td>\n",
              "      <td>0.060000</td>\n",
              "      <td>0.060000</td>\n",
              "      <td>0.050000</td>\n",
              "      <td>0.060000</td>\n",
              "      <td>0.060000</td>\n",
              "      <td>0.020000</td>\n",
              "      <td>0.020000</td>\n",
              "      <td>,03</td>\n",
              "      <td>0.020000</td>\n",
              "      <td>0.030000</td>\n",
              "    </tr>\n",
              "    <tr>\n",
              "      <th>8</th>\n",
              "      <td>Some-college</td>\n",
              "      <td>0.21</td>\n",
              "      <td>0.24</td>\n",
              "      <td>0.24</td>\n",
              "      <td>0.18</td>\n",
              "      <td>0.22</td>\n",
              "      <td>0.200</td>\n",
              "      <td>0.235</td>\n",
              "      <td>0.211</td>\n",
              "      <td>NaN</td>\n",
              "      <td>0.209</td>\n",
              "      <td>0.225430</td>\n",
              "      <td>0.229115</td>\n",
              "      <td>0.227887</td>\n",
              "      <td>0.227580</td>\n",
              "      <td>0.226658</td>\n",
              "      <td>NaN</td>\n",
              "      <td>0.221284</td>\n",
              "      <td>0.223127</td>\n",
              "      <td>0.227580</td>\n",
              "      <td>0.226812</td>\n",
              "      <td>0.223739</td>\n",
              "      <td>0.224384</td>\n",
              "      <td>0.219681</td>\n",
              "      <td>0.224200</td>\n",
              "      <td>0.223278</td>\n",
              "    </tr>\n",
              "    <tr>\n",
              "      <th>12</th>\n",
              "      <td>Some-college</td>\n",
              "      <td>0.25</td>\n",
              "      <td>0.21</td>\n",
              "      <td>0.22</td>\n",
              "      <td>0.16</td>\n",
              "      <td>0.25</td>\n",
              "      <td>0.228</td>\n",
              "      <td>0.208</td>\n",
              "      <td>0.219</td>\n",
              "      <td>0.246</td>\n",
              "      <td>0.238</td>\n",
              "      <td>0.222359</td>\n",
              "      <td>0.231880</td>\n",
              "      <td>0.215295</td>\n",
              "      <td>0.220823</td>\n",
              "      <td>0.235872</td>\n",
              "      <td>0.229423</td>\n",
              "      <td>0.222666</td>\n",
              "      <td>0.218980</td>\n",
              "      <td>NaN</td>\n",
              "      <td>0.212684</td>\n",
              "      <td>0.223072</td>\n",
              "      <td>NaN</td>\n",
              "      <td>0.221045</td>\n",
              "      <td>0.219110</td>\n",
              "      <td>0.226113</td>\n",
              "    </tr>\n",
              "  </tbody>\n",
              "</table>\n",
              "</div>"
            ],
            "text/plain": [
              "       education  sample_1_a  sample_1_b  ...  sample_5_c  sample_5_d  sample_5_e\n",
              "2   Some-college        0.29        0.34  ...     0.28756    0.297727    0.292344\n",
              "6   Some-college        0.41         NaN  ...         ,03    0.020000    0.030000\n",
              "8   Some-college        0.21        0.24  ...    0.219681    0.224200    0.223278\n",
              "12  Some-college        0.25        0.21  ...    0.221045    0.219110    0.226113\n",
              "\n",
              "[4 rows x 26 columns]"
            ]
          },
          "metadata": {},
          "execution_count": 32
        }
      ]
    },
    {
      "cell_type": "code",
      "source": [
        "col=list(samples.columns)\n",
        "col.pop(0)\n",
        "col"
      ],
      "metadata": {
        "colab": {
          "base_uri": "https://localhost:8080/"
        },
        "id": "atJ92T34rT7p",
        "outputId": "6d622aea-23ee-47ee-88ab-ce7c510320ee"
      },
      "execution_count": 21,
      "outputs": [
        {
          "output_type": "execute_result",
          "data": {
            "text/plain": [
              "['sample_1_a',\n",
              " 'sample_1_b',\n",
              " 'sample_1_c',\n",
              " 'sample_1_d',\n",
              " 'sample_1_e',\n",
              " 'sample_2_a',\n",
              " 'sample_2_b',\n",
              " 'sample_2_c',\n",
              " 'sample_2_d',\n",
              " 'sample_2_e',\n",
              " 'sample_3_a',\n",
              " 'sample_3_b',\n",
              " 'sample_3_c',\n",
              " 'sample_3_d',\n",
              " 'sample_3_e',\n",
              " 'sample_4_a',\n",
              " 'sample_4_b',\n",
              " 'sample_4_c',\n",
              " 'sample_4_d',\n",
              " 'sample_4_e',\n",
              " 'sample_5_a',\n",
              " 'sample_5_b',\n",
              " 'sample_5_c',\n",
              " 'sample_5_d',\n",
              " 'sample_5_e']"
            ]
          },
          "metadata": {},
          "execution_count": 21
        }
      ]
    },
    {
      "cell_type": "code",
      "source": [
        "\n",
        "for item in col:\n",
        "  samples[item].fillna((0), inplace=True)\n"
      ],
      "metadata": {
        "id": "0sLtvs-mnymL"
      },
      "execution_count": 33,
      "outputs": []
    },
    {
      "cell_type": "code",
      "source": [
        "samples.isnull().sum()"
      ],
      "metadata": {
        "colab": {
          "base_uri": "https://localhost:8080/"
        },
        "id": "u_nrrSwdnyog",
        "outputId": "3060f7e1-f8a3-4717-f3d6-7faa49ddacb6"
      },
      "execution_count": 34,
      "outputs": [
        {
          "output_type": "execute_result",
          "data": {
            "text/plain": [
              "education     0\n",
              "sample_1_a    0\n",
              "sample_1_b    0\n",
              "sample_1_c    0\n",
              "sample_1_d    0\n",
              "sample_1_e    0\n",
              "sample_2_a    0\n",
              "sample_2_b    0\n",
              "sample_2_c    0\n",
              "sample_2_d    0\n",
              "sample_2_e    0\n",
              "sample_3_a    0\n",
              "sample_3_b    0\n",
              "sample_3_c    0\n",
              "sample_3_d    0\n",
              "sample_3_e    0\n",
              "sample_4_a    0\n",
              "sample_4_b    0\n",
              "sample_4_c    0\n",
              "sample_4_d    0\n",
              "sample_4_e    0\n",
              "sample_5_a    0\n",
              "sample_5_b    0\n",
              "sample_5_c    0\n",
              "sample_5_d    0\n",
              "sample_5_e    0\n",
              "dtype: int64"
            ]
          },
          "metadata": {},
          "execution_count": 34
        }
      ]
    },
    {
      "cell_type": "code",
      "source": [
        "samples.dtypes"
      ],
      "metadata": {
        "colab": {
          "base_uri": "https://localhost:8080/"
        },
        "id": "A_VtPt3unyrZ",
        "outputId": "3852b9e7-ed00-49c5-cadd-f528fb0615f1"
      },
      "execution_count": 35,
      "outputs": [
        {
          "output_type": "execute_result",
          "data": {
            "text/plain": [
              "education      object\n",
              "sample_1_a    float64\n",
              "sample_1_b    float64\n",
              "sample_1_c    float64\n",
              "sample_1_d    float64\n",
              "sample_1_e    float64\n",
              "sample_2_a    float64\n",
              "sample_2_b    float64\n",
              "sample_2_c    float64\n",
              "sample_2_d    float64\n",
              "sample_2_e    float64\n",
              "sample_3_a    float64\n",
              "sample_3_b    float64\n",
              "sample_3_c    float64\n",
              "sample_3_d    float64\n",
              "sample_3_e    float64\n",
              "sample_4_a    float64\n",
              "sample_4_b    float64\n",
              "sample_4_c    float64\n",
              "sample_4_d    float64\n",
              "sample_4_e    float64\n",
              "sample_5_a    float64\n",
              "sample_5_b    float64\n",
              "sample_5_c     object\n",
              "sample_5_d    float64\n",
              "sample_5_e    float64\n",
              "dtype: object"
            ]
          },
          "metadata": {},
          "execution_count": 35
        }
      ]
    },
    {
      "cell_type": "code",
      "source": [
        "\n",
        "samples['sample_5_c'][6]=samples['sample_5_c'][6].strip(\",\")\n",
        "samples['sample_5_c'][6]"
      ],
      "metadata": {
        "colab": {
          "base_uri": "https://localhost:8080/",
          "height": 145
        },
        "id": "_uxaWvhCtuL9",
        "outputId": "47dada03-90dc-4a43-ebce-d80000f2549d"
      },
      "execution_count": 40,
      "outputs": [
        {
          "output_type": "stream",
          "name": "stderr",
          "text": [
            "/usr/local/lib/python3.7/dist-packages/ipykernel_launcher.py:2: SettingWithCopyWarning: \n",
            "A value is trying to be set on a copy of a slice from a DataFrame\n",
            "\n",
            "See the caveats in the documentation: https://pandas.pydata.org/pandas-docs/stable/user_guide/indexing.html#returning-a-view-versus-a-copy\n",
            "  \n"
          ]
        },
        {
          "output_type": "execute_result",
          "data": {
            "application/vnd.google.colaboratory.intrinsic+json": {
              "type": "string"
            },
            "text/plain": [
              "'03'"
            ]
          },
          "metadata": {},
          "execution_count": 40
        }
      ]
    },
    {
      "cell_type": "code",
      "source": [
        "samples['sample_5_c'] = pd.to_numeric(samples['sample_5_c'])"
      ],
      "metadata": {
        "id": "1vjZWwcItuOa"
      },
      "execution_count": 41,
      "outputs": []
    },
    {
      "cell_type": "code",
      "source": [
        "for item in col:\n",
        "  samples[item].fillna((samples[item].median()), inplace=True)"
      ],
      "metadata": {
        "id": "kwT9ZB5dtuRp"
      },
      "execution_count": 42,
      "outputs": []
    },
    {
      "cell_type": "code",
      "source": [
        "# sub2['income'].fillna((sub2['income'].mean()), inplace=True)"
      ],
      "metadata": {
        "id": "dxKlKcixtuUd"
      },
      "execution_count": null,
      "outputs": []
    },
    {
      "cell_type": "code",
      "source": [
        "samples.isnull().sum()"
      ],
      "metadata": {
        "colab": {
          "base_uri": "https://localhost:8080/"
        },
        "id": "glieIQfcwEuF",
        "outputId": "d9f07576-a820-4fd9-d565-b495f7c8c146"
      },
      "execution_count": 43,
      "outputs": [
        {
          "output_type": "execute_result",
          "data": {
            "text/plain": [
              "education     0\n",
              "sample_1_a    0\n",
              "sample_1_b    0\n",
              "sample_1_c    0\n",
              "sample_1_d    0\n",
              "sample_1_e    0\n",
              "sample_2_a    0\n",
              "sample_2_b    0\n",
              "sample_2_c    0\n",
              "sample_2_d    0\n",
              "sample_2_e    0\n",
              "sample_3_a    0\n",
              "sample_3_b    0\n",
              "sample_3_c    0\n",
              "sample_3_d    0\n",
              "sample_3_e    0\n",
              "sample_4_a    0\n",
              "sample_4_b    0\n",
              "sample_4_c    0\n",
              "sample_4_d    0\n",
              "sample_4_e    0\n",
              "sample_5_a    0\n",
              "sample_5_b    0\n",
              "sample_5_c    0\n",
              "sample_5_d    0\n",
              "sample_5_e    0\n",
              "dtype: int64"
            ]
          },
          "metadata": {},
          "execution_count": 43
        }
      ]
    },
    {
      "cell_type": "code",
      "source": [
        ""
      ],
      "metadata": {
        "id": "xoZuwNdKwIlE"
      },
      "execution_count": null,
      "outputs": []
    },
    {
      "cell_type": "code",
      "source": [
        ""
      ],
      "metadata": {
        "id": "jwhuNzLawIsm"
      },
      "execution_count": null,
      "outputs": []
    },
    {
      "cell_type": "code",
      "source": [
        ""
      ],
      "metadata": {
        "id": "WmJSPH8nwIvo"
      },
      "execution_count": null,
      "outputs": []
    }
  ]
}